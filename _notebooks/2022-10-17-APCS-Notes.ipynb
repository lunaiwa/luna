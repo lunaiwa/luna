{
 "cells": [
  {
   "cell_type": "markdown",
   "metadata": {},
   "source": [
    "# APCSP Notes\n",
    "> CSP notes from the apclassroom videos\n",
    "\n",
    "- title: Big Idea Notes\n",
    "- toc: true\n",
    "- comments: true\n",
    "- categories: [notes]"
   ]
  },
  {
   "cell_type": "markdown",
   "metadata": {},
   "source": [
    "# Unit 1"
   ]
  },
  {
   "cell_type": "markdown",
   "metadata": {},
   "source": [
    "**1.1 : Collaboration**\n"
   ]
  },
  {
   "cell_type": "markdown",
   "metadata": {},
   "source": [
    "Video 1"
   ]
  },
  {
   "cell_type": "markdown",
   "metadata": {},
   "source": [
    "- colaboration introduces different views and perspectives and prevents the use of bias\n",
    "- without collaboration many differnt well enjoyed games wouldn't be here today\n",
    "- communitcation, consensus building, conflict resolution, and negotiation are four most important things"
   ]
  },
  {
   "cell_type": "markdown",
   "metadata": {},
   "source": [
    "Video 2"
   ]
  },
  {
   "cell_type": "markdown",
   "metadata": {},
   "source": [
    "- pair share programing is one way to collaborate in computer science, not only will you be collaborating but you will also be able to edit your work and get help for some problems\n",
    "- think-pair-share is also another way to collaborate in computer science, when you have a problem you can get another's opinon and work through it together\n",
    "- you can also share your github repository and let others edit your code\n"
   ]
  },
  {
   "cell_type": "markdown",
   "metadata": {},
   "source": [
    "**1.2 : Program Function and Purpose**"
   ]
  },
  {
   "cell_type": "markdown",
   "metadata": {},
   "source": [
    "Video 1"
   ]
  },
  {
   "cell_type": "markdown",
   "metadata": {},
   "source": [
    "- applications, physical devices, and systems are three examples\n",
    "- applications are also called APPs and they are a bunch of games, scoail, buisness, or productivty lots of them are usally downloaded to our devices\n",
    "- they are software applications that are in our lives\n",
    "- physical devices are those that you can touch; phones, computers, laptops, ect.\n",
    "- *e-commerce* is electronic commerce, things we buy online"
   ]
  },
  {
   "cell_type": "markdown",
   "metadata": {},
   "source": [
    "Video 2"
   ]
  },
  {
   "cell_type": "markdown",
   "metadata": {},
   "source": [
    "- in event driven progra, program statements are excluded when triggered, rather than through the sequential flow of contorl\n",
    "- input can come from a user or other programs\n",
    "- program outputs are any data sent from a program to a device. Program output can come in a varitey of forms, such as tactile, audio, visual, or text\n",
    "- program output is usually based on a program's input or prior state"
   ]
  },
  {
   "cell_type": "markdown",
   "metadata": {},
   "source": [
    "Video 3"
   ]
  },
  {
   "cell_type": "markdown",
   "metadata": {},
   "source": [
    "- program is a collection of program statments that performs a specific task when run by a computer\n",
    "- program is often reffered to a software\n",
    "- code segment is a collection of program statements that is part of program\n",
    "- program needs to work for a variety of inputs and situations"
   ]
  },
  {
   "cell_type": "markdown",
   "metadata": {},
   "source": [
    "**1.3 : Program Design and Development**"
   ]
  },
  {
   "cell_type": "markdown",
   "metadata": {},
   "source": [
    "Video 1"
   ]
  },
  {
   "cell_type": "markdown",
   "metadata": {},
   "source": [
    "- developing program using a development process\n",
    "- design a program and its user interface\n",
    "- program is developed by testing occuring at the micro and macro level\n",
    "- devs refine and revise through testing, feedback, and reflection"
   ]
  },
  {
   "cell_type": "markdown",
   "metadata": {},
   "source": [
    "Video 2"
   ]
  },
  {
   "cell_type": "markdown",
   "metadata": {},
   "source": [
    "- important to acknowledge any code segments that were developed collaborativly or by another source\n",
    "- programs are rarely developed by a solo force and is usally made by a team"
   ]
  },
  {
   "cell_type": "markdown",
   "metadata": {},
   "source": [
    "Video 3"
   ]
  },
  {
   "cell_type": "markdown",
   "metadata": {},
   "source": [
    "- program documentation is a wirtten segment of how this was made, how it should work, and the event\n",
    "- comments are a form of program and is read by people *it doesn't effect the code!*\n",
    "- programmers should document their code through the making!\n",
    "- program documention helps developing and mainitaining correct programs when working by yourself or in a teamwork envrioment\n",
    "- not all programing enviroments support comments!"
   ]
  },
  {
   "cell_type": "markdown",
   "metadata": {},
   "source": [
    "**1.4 : Identifying and Correcting Errors**"
   ]
  },
  {
   "cell_type": "markdown",
   "metadata": {},
   "source": [
    "Video 1"
   ]
  },
  {
   "cell_type": "markdown",
   "metadata": {},
   "source": [
    "- logic error is a mistake in algorithim or program that cuases it to behave incorrectly\n",
    "- syntax error is a mistake in the program where rules of programing do not apply (ex: using python in markdown)\n",
    "- run-time error is a mistake in program during execution\n",
    "- program languages define their own runtime errors\n",
    "- overflow error is an error that occurs when a computer attempts to handel a number that is outside of the defined range of value"
   ]
  },
  {
   "cell_type": "markdown",
   "metadata": {},
   "source": [
    "Video 2"
   ]
  },
  {
   "cell_type": "markdown",
   "metadata": {},
   "source": [
    "- you can correct errors using; test cases, hand tracing, visualizations, debuggers, adding extra output statment(s)"
   ]
  },
  {
   "cell_type": "markdown",
   "metadata": {},
   "source": [
    "Video 3"
   ]
  },
  {
   "cell_type": "markdown",
   "metadata": {},
   "source": [
    "- in development process, testing uses defined inputs to ensure algoritim or program is producing the expected outcomes\n",
    "- programmers use the results from testing to revise their algorithms or programs\n",
    "- defined inputs used to test a program should demonstrate the different expected outcomes that are at or just beyond the extremes (minimum and maximum) of input data\n",
    "- program reqirements are needed to identify appropirate definece inputs for testing"
   ]
  },
  {
   "cell_type": "markdown",
   "metadata": {},
   "source": [
    "# Unit 2"
   ]
  },
  {
   "cell_type": "markdown",
   "metadata": {},
   "source": [
    "**2.1 : Binary Numbers**"
   ]
  },
  {
   "cell_type": "markdown",
   "metadata": {},
   "source": [
    "Video 1 "
   ]
  },
  {
   "cell_type": "markdown",
   "metadata": {},
   "source": [
    "- abstraction is process of reducting complexity by focusing on the main idea\n",
    "- hiding details irrelevant to the question at hand \n",
    "- brings together related and useful details, reduces complexity and allows one to focus on the data\n",
    "- grouped to represent abstractions \n",
    "- inclue but not limited to, numebrs, characters, and color"
   ]
  },
  {
   "cell_type": "markdown",
   "metadata": {},
   "source": [
    "Video 2"
   ]
  },
  {
   "cell_type": "markdown",
   "metadata": {},
   "source": [
    "- integers are represented by a fixed number of bits\n",
    "- limits the range of integer values and mathmatical operations\n",
    "- limitation can result in overflow or errors\n",
    "- other program languages provide abstraction limited only by size of the computer's memory\n",
    "- fixed numeber of bits used to represent real numbers limits the range and mathmatical operations on these values\n",
    "- limitation can result in round-off and other errors\n",
    "- real numbers are represented as approximations in computer storages"
   ]
  },
  {
   "cell_type": "markdown",
   "metadata": {},
   "source": [
    "Video 3"
   ]
  },
  {
   "cell_type": "markdown",
   "metadata": {},
   "source": [
    "- number bases including binary and decimal are used to represent data\n",
    "- binary (base 2) use only combination of the digits zero and one\n",
    "- decimal (base 10) use only combination of the digits 0-9"
   ]
  },
  {
   "cell_type": "markdown",
   "metadata": {},
   "source": [
    "**2.2 : Data Compression**"
   ]
  },
  {
   "cell_type": "markdown",
   "metadata": {},
   "source": [
    "Video 1"
   ]
  },
  {
   "cell_type": "markdown",
   "metadata": {},
   "source": [
    "- lossy data compression algorithms can usally reduce the number of bits stored or transmitted more than lossless compression algorithms\n",
    "- in situations where quality or ability is used to reconstruct the original is max important\n",
    "- lossless compression algorithims are typically chosen\n",
    "- when minimizing data size or transmission time is max important\n",
    "- lossy compression algoristhims are typically chosen"
   ]
  },
  {
   "cell_type": "markdown",
   "metadata": {},
   "source": [
    "**2.3 : Extracting Information from Data**"
   ]
  },
  {
   "cell_type": "markdown",
   "metadata": {},
   "source": [
    "Video 1"
   ]
  },
  {
   "cell_type": "markdown",
   "metadata": {},
   "source": [
    "- size of data set affects the amount of information that can be extracted from it\n",
    "- large data sets are difficult to process using a single computer and needs or may need parallel systems\n",
    "- scalabiltiy of systems is an important consideration when working with data sets\n",
    "- computationsal capacity of a system affects how the data sets can be porcessed and stored"
   ]
  },
  {
   "cell_type": "markdown",
   "metadata": {},
   "source": [
    "Video 2"
   ]
  },
  {
   "cell_type": "markdown",
   "metadata": {},
   "source": [
    "- *metadata* are data about data\n",
    "- changes and deletions made to metadata do not change the primary data\n",
    "- metadata are used for finding, organizing, and managing information\n",
    "- metadata can increase the effective use of data or data sets by providing additional information\n",
    "- metadata allow data to be structured and organized"
   ]
  },
  {
   "cell_type": "markdown",
   "metadata": {},
   "source": [
    "**2.4 : Using Programs with Data**"
   ]
  },
  {
   "cell_type": "markdown",
   "metadata": {},
   "source": [
    "Video 1"
   ]
  },
  {
   "cell_type": "markdown",
   "metadata": {},
   "source": [
    "- programs are used in iterative and interactive way when processing information to allow users to gain insight and knowledge about data\n",
    "- programmer can use programs to filter and clean digital data, therby gaining insight and knowlege from data\n",
    "- combining data sources, clustering data, and classifying data are also parts of this process\n",
    "- insight can also be obtained by translating and transforming digitally represented information\n",
    "- patterns can emerge when data is transformed using programs"
   ]
  },
  {
   "cell_type": "markdown",
   "metadata": {},
   "source": [
    "Video 2"
   ]
  },
  {
   "cell_type": "markdown",
   "metadata": {},
   "source": [
    "-transforming every elements of a data set\n",
    "- filtering a data set\n",
    "- combining or comparing data in some way\n",
    "visualizing a data set through a chart, graph, or other visual represention"
   ]
  },
  {
   "cell_type": "markdown",
   "metadata": {},
   "source": [
    "# Unit 3"
   ]
  },
  {
   "cell_type": "markdown",
   "metadata": {},
   "source": [
    "**3.1 : Variables and Assignments**"
   ]
  },
  {
   "cell_type": "markdown",
   "metadata": {},
   "source": [
    "Video 1"
   ]
  },
  {
   "cell_type": "markdown",
   "metadata": {},
   "source": [
    "Video 2"
   ]
  },
  {
   "cell_type": "markdown",
   "metadata": {},
   "source": [
    "**3.2 : Data Abstraction**"
   ]
  },
  {
   "cell_type": "markdown",
   "metadata": {},
   "source": [
    "Video 1"
   ]
  },
  {
   "cell_type": "markdown",
   "metadata": {},
   "source": [
    "Video 2"
   ]
  },
  {
   "cell_type": "markdown",
   "metadata": {},
   "source": [
    "Video 3"
   ]
  },
  {
   "cell_type": "markdown",
   "metadata": {},
   "source": [
    "**3.3 : Mathmatical Expressions**"
   ]
  },
  {
   "cell_type": "markdown",
   "metadata": {},
   "source": [
    "Video 1"
   ]
  },
  {
   "cell_type": "markdown",
   "metadata": {},
   "source": [
    "Video 2"
   ]
  },
  {
   "cell_type": "markdown",
   "metadata": {},
   "source": [
    "Video 3"
   ]
  },
  {
   "cell_type": "markdown",
   "metadata": {},
   "source": [
    "**3.4 : Strings**"
   ]
  },
  {
   "cell_type": "markdown",
   "metadata": {},
   "source": [
    "Video 1"
   ]
  },
  {
   "cell_type": "markdown",
   "metadata": {},
   "source": [
    "**3.5 : Boolean Expressions**"
   ]
  },
  {
   "cell_type": "markdown",
   "metadata": {},
   "source": [
    "Video 1"
   ]
  },
  {
   "cell_type": "markdown",
   "metadata": {},
   "source": [
    "Video 2"
   ]
  },
  {
   "cell_type": "markdown",
   "metadata": {},
   "source": [
    "Video 3"
   ]
  },
  {
   "cell_type": "markdown",
   "metadata": {},
   "source": [
    "**3.6 : Conditionals**"
   ]
  },
  {
   "cell_type": "markdown",
   "metadata": {},
   "source": [
    "Video 1"
   ]
  },
  {
   "cell_type": "markdown",
   "metadata": {},
   "source": [
    "Video 2"
   ]
  },
  {
   "cell_type": "markdown",
   "metadata": {},
   "source": [
    "Video 3"
   ]
  },
  {
   "cell_type": "markdown",
   "metadata": {},
   "source": [
    "**3.7 : Nested Conditionals**"
   ]
  },
  {
   "cell_type": "markdown",
   "metadata": {},
   "source": [
    "Video 1"
   ]
  },
  {
   "cell_type": "markdown",
   "metadata": {},
   "source": [
    "Video 2"
   ]
  },
  {
   "cell_type": "markdown",
   "metadata": {},
   "source": [
    "**3.8 : Iteration**"
   ]
  },
  {
   "cell_type": "markdown",
   "metadata": {},
   "source": [
    "Video 1"
   ]
  },
  {
   "cell_type": "markdown",
   "metadata": {},
   "source": [
    "Video 2"
   ]
  },
  {
   "cell_type": "markdown",
   "metadata": {},
   "source": [
    "Video 3"
   ]
  },
  {
   "cell_type": "markdown",
   "metadata": {},
   "source": [
    "**3.9 : Developing Algorithms**"
   ]
  },
  {
   "cell_type": "markdown",
   "metadata": {},
   "source": [
    "Video 1"
   ]
  },
  {
   "cell_type": "markdown",
   "metadata": {},
   "source": [
    "Video 2"
   ]
  },
  {
   "cell_type": "markdown",
   "metadata": {},
   "source": [
    "Video 3"
   ]
  },
  {
   "cell_type": "markdown",
   "metadata": {},
   "source": [
    "**3.10 : Lists**"
   ]
  },
  {
   "cell_type": "markdown",
   "metadata": {},
   "source": [
    "Video 1"
   ]
  },
  {
   "cell_type": "markdown",
   "metadata": {},
   "source": [
    "Video 2"
   ]
  },
  {
   "cell_type": "markdown",
   "metadata": {},
   "source": [
    "Video 3"
   ]
  },
  {
   "cell_type": "markdown",
   "metadata": {},
   "source": [
    "**3.11 : Binary Search**"
   ]
  },
  {
   "cell_type": "markdown",
   "metadata": {},
   "source": [
    "Video 1"
   ]
  },
  {
   "cell_type": "markdown",
   "metadata": {},
   "source": [
    "**3.12 : Calling Procedures**"
   ]
  },
  {
   "cell_type": "markdown",
   "metadata": {},
   "source": [
    "Video 1"
   ]
  },
  {
   "cell_type": "markdown",
   "metadata": {},
   "source": [
    "Video 2"
   ]
  },
  {
   "cell_type": "markdown",
   "metadata": {},
   "source": [
    "**3.13 : Developing Procedures**"
   ]
  },
  {
   "cell_type": "markdown",
   "metadata": {},
   "source": [
    "Video 1"
   ]
  },
  {
   "cell_type": "markdown",
   "metadata": {},
   "source": [
    "Video 2"
   ]
  },
  {
   "cell_type": "markdown",
   "metadata": {},
   "source": [
    "**3.14 : Libraries**"
   ]
  },
  {
   "cell_type": "markdown",
   "metadata": {},
   "source": [
    "Video 1"
   ]
  },
  {
   "cell_type": "markdown",
   "metadata": {},
   "source": [
    "**3.15 : Random Values**"
   ]
  },
  {
   "cell_type": "markdown",
   "metadata": {},
   "source": [
    "Video 1"
   ]
  },
  {
   "cell_type": "markdown",
   "metadata": {},
   "source": [
    "Video 2"
   ]
  },
  {
   "cell_type": "markdown",
   "metadata": {},
   "source": [
    "**3.16 : Simulations**"
   ]
  },
  {
   "cell_type": "markdown",
   "metadata": {},
   "source": [
    "Video 1"
   ]
  },
  {
   "cell_type": "markdown",
   "metadata": {},
   "source": [
    "Video 2"
   ]
  },
  {
   "cell_type": "markdown",
   "metadata": {},
   "source": [
    "**3.17 : Algorithmic Efficiency**"
   ]
  },
  {
   "cell_type": "markdown",
   "metadata": {},
   "source": [
    "Video 1"
   ]
  },
  {
   "cell_type": "markdown",
   "metadata": {},
   "source": [
    "Video 2"
   ]
  },
  {
   "cell_type": "markdown",
   "metadata": {},
   "source": [
    "**3.18 : Undecidable Problems**"
   ]
  },
  {
   "cell_type": "markdown",
   "metadata": {},
   "source": [
    "Video 1"
   ]
  },
  {
   "cell_type": "markdown",
   "metadata": {},
   "source": [
    "# Unit 4"
   ]
  },
  {
   "cell_type": "markdown",
   "metadata": {},
   "source": [
    "**4.1 : The Internet**"
   ]
  },
  {
   "cell_type": "markdown",
   "metadata": {},
   "source": [
    "Video 1"
   ]
  },
  {
   "cell_type": "markdown",
   "metadata": {},
   "source": [
    "- a computing device is a physical artifact that can run a program for examples refer to 1.1\n",
    "- *computing system* is a group of computing devices and programs working together for a common purpose\n",
    "- computer network is a group of interconnected computing devices capable of sending or reciving data\n",
    "- ^ a type of computing system\n",
    "- path between two computing devices on a computer network is a sequence of directly connected computing devidce that begins at the sender and ends at reciver\n",
    "- routing is the process of finding a path from sender to reciver\n",
    "- bandwidth of a computer network is the max amount of data that can be sent in a fixed aount of time\n",
    "- bandwidth is measured in bits per second\n"
   ]
  },
  {
   "cell_type": "markdown",
   "metadata": {},
   "source": [
    "Video 2"
   ]
  },
  {
   "cell_type": "markdown",
   "metadata": {},
   "source": [
    "- internet is a computer network consisting of interconnected netwokrs thst use standard, open (nonproprietary) communitcation protocols\n",
    "- acesss to the internet dependes on the ability to connect a computinf device to an internet connected device\n",
    "- *protocol* is an agreed-upon set of rules that specify the behavior of a system\n",
    "- protocols used in the internet are open, allowing users to easily connect additional computing devices to the internet\n",
    "- routing on the internet is dynamic, if not specified\n",
    "- scalability of the system is cap for the system to change in size and scale and meet new demands\n",
    "- internet was designed to be scalable"
   ]
  },
  {
   "cell_type": "markdown",
   "metadata": {},
   "source": [
    "**4.2 : Fault Tolerence**"
   ]
  },
  {
   "cell_type": "markdown",
   "metadata": {},
   "source": [
    "Video 1"
   ]
  },
  {
   "cell_type": "markdown",
   "metadata": {},
   "source": [
    "- redundancy in a system often requires additional reasources but can provide the benefit of fault tolerence\n",
    "- redundancy of routing options between two points increases the realiability of the internet\n",
    "- helps scale to more devices and people"
   ]
  },
  {
   "cell_type": "markdown",
   "metadata": {},
   "source": [
    "Video 2"
   ]
  },
  {
   "cell_type": "markdown",
   "metadata": {},
   "source": [
    "- the interent is engineered to be fault-tolerant \n",
    "- with abstractions for routing and transmitting data\n",
    "- redundancy is the inclusiion of extra components that can be used to mitigate failure of a system if other components fail\n",
    "- one way to accomplish network redundancy is by having more than one path between any to connected devices"
   ]
  },
  {
   "cell_type": "markdown",
   "metadata": {},
   "source": [
    "**4.3 : Parallel and Distributed Coding**"
   ]
  },
  {
   "cell_type": "markdown",
   "metadata": {},
   "source": [
    "Video 1"
   ]
  },
  {
   "cell_type": "markdown",
   "metadata": {},
   "source": [
    "- parallel computing consists of parallele portions and a sequential portion\n",
    "- solution that use parallel computing can scale more effectivly than solutions that use sequential computing\n",
    "- distributed computing allows problems to be solved that could not be solved on a single computer\n",
    "- ^ then the processing time or storage needs to be involved\n",
    "- distributed computing allows much larger problems to be solved quicker than they could be solved when using a single computer\n",
    "- when increasing the use of parallel computing in a solution, the efficiency of the solution is still limited by the sequential portion\n",
    "- ^ meaning at some point adding parallel portions will no longer meaningfully increase effciency"
   ]
  },
  {
   "cell_type": "markdown",
   "metadata": {},
   "source": [
    "# Unit 5"
   ]
  },
  {
   "cell_type": "markdown",
   "metadata": {},
   "source": [
    "**5.1 : Benefical and Harmful Effects**"
   ]
  },
  {
   "cell_type": "markdown",
   "metadata": {},
   "source": [
    "Video 1"
   ]
  },
  {
   "cell_type": "markdown",
   "metadata": {},
   "source": [
    "- people make computing inventions\n",
    "- people complete tasks differently to incorporate new computing inventions\n",
    "- not every computing invention effect is anticipated\n",
    "- single effect can be view as both beneficial and harmful \n",
    "- advances in computing have gereated and increased creativity in different fields: medicne, engineering, communications, and arts"
   ]
  },
  {
   "cell_type": "markdown",
   "metadata": {},
   "source": [
    "Video 2"
   ]
  },
  {
   "cell_type": "markdown",
   "metadata": {},
   "source": [
    "- responsible programmers try to consider uninteneded ways of their computing innovations\n",
    "- ^ potential benefical + harmful effects of the new uses\n",
    "- not possible for a programmer to consider all the ways a computing innovation can be used\n",
    "- rapid sharing of a program or running a program with a large number of users can result in significant impacts beyond inteneded purpose or control of programer"
   ]
  },
  {
   "cell_type": "markdown",
   "metadata": {},
   "source": [
    "**5.2 : Digital Divide**"
   ]
  },
  {
   "cell_type": "markdown",
   "metadata": {},
   "source": [
    "Video 1"
   ]
  },
  {
   "cell_type": "markdown",
   "metadata": {},
   "source": [
    "- internet acess varies between socioeco., geographical, and demographic characteristcs\n",
    "- *digital divde* refers to differing acess to computing devices and the Internet, based on socioeconomic, geographic, or demographic characteristics\n",
    "- digital divde can affect both groups and individuals\n",
    "- digital divide raises issues of equity, acess, and influence, both globally and locally\n",
    "- digital divde is affected by the actions of individuals, organizations, and governments"
   ]
  },
  {
   "cell_type": "markdown",
   "metadata": {},
   "source": [
    "**5.3 : Computing Bias**"
   ]
  },
  {
   "cell_type": "markdown",
   "metadata": {},
   "source": [
    "Video 1"
   ]
  },
  {
   "cell_type": "markdown",
   "metadata": {},
   "source": [
    "- computing innovations can reflect existing human biasese becuase of biases written into the algorithms\n",
    "- biases in data used by the innovation\n",
    "- programs should take action to reduce bias in algorithms used for computing innovations as a way of combating existing human biases\n",
    "- biases can be embedded at all levels of software development"
   ]
  },
  {
   "cell_type": "markdown",
   "metadata": {},
   "source": [
    "**5.4 : Crowdsourcing**"
   ]
  },
  {
   "cell_type": "markdown",
   "metadata": {},
   "source": [
    "Video 1"
   ]
  },
  {
   "cell_type": "markdown",
   "metadata": {},
   "source": [
    "- widespread acesss to information and public data facilitates the identification of problems\n",
    "- development of solutions and dissemination of results\n",
    "- science has been affected by using distributed and \"citizen science\" to solve scientific problems\n",
    "- *citizen science* is scientific research conducted in whole or part by distributed individual\n",
    "- ^many of whom may not be scientists who contribute relevant data to research using their own computing devices"
   ]
  },
  {
   "cell_type": "markdown",
   "metadata": {},
   "source": [
    "**5.5 : Legal and Ethical Concerns**"
   ]
  },
  {
   "cell_type": "markdown",
   "metadata": {},
   "source": [
    "Video 1"
   ]
  },
  {
   "cell_type": "markdown",
   "metadata": {},
   "source": [
    "- *open source* are programs that are made to be freely available and may be redistributed and modified\n",
    "- *open acess* is online research output free of any and all restriction on acess and free of many restrictions on use\n",
    "- ^such as copyright or license restrictions"
   ]
  },
  {
   "cell_type": "markdown",
   "metadata": {},
   "source": [
    "**5.6 : Safe Computing**"
   ]
  },
  {
   "cell_type": "markdown",
   "metadata": {},
   "source": [
    "Video 1"
   ]
  },
  {
   "cell_type": "markdown",
   "metadata": {},
   "source": [
    "Video 2"
   ]
  },
  {
   "cell_type": "markdown",
   "metadata": {},
   "source": [
    "Video 3"
   ]
  }
 ],
 "metadata": {
  "kernelspec": {
   "display_name": "Python 3.8.2 64-bit",
   "language": "python",
   "name": "python3"
  },
  "language_info": {
   "name": "python",
   "version": "3.8.9"
  },
  "orig_nbformat": 4,
  "vscode": {
   "interpreter": {
    "hash": "31f2aee4e71d21fbe5cf8b01ff0e069b9275f58929596ceb00d14d90e3e16cd6"
   }
  }
 },
 "nbformat": 4,
 "nbformat_minor": 2
}
