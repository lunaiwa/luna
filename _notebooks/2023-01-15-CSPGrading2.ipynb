{
 "cells": [
  {
   "attachments": {},
   "cell_type": "markdown",
   "metadata": {},
   "source": [
    "# APCSP Grading Requirements 2\n",
    "> CSP Grading For APCSP\n",
    "\n",
    "- title: APCSP Grading Requirements 2\n",
    "- toc: true\n",
    "- comments: true\n",
    "- categories: [APCSP Requirements]\n",
    "- badges: true"
   ]
  },
  {
   "attachments": {},
   "cell_type": "markdown",
   "metadata": {},
   "source": [
    "[Submission Scoring](https://github.com/lunaiwa/iwazaki/issues/16#issue-1534290881)"
   ]
  },
  {
   "attachments": {},
   "cell_type": "markdown",
   "metadata": {},
   "source": [
    "### Submission 1"
   ]
  },
  {
   "attachments": {},
   "cell_type": "markdown",
   "metadata": {},
   "source": [
    "**Reflection**"
   ]
  },
  {
   "attachments": {},
   "cell_type": "markdown",
   "metadata": {},
   "source": [
    "on any discrepancies in your scoring versus the ap scoring\n",
    "on what your program will need to fulfill all requirements\n",
    "on the criteria and why a submission may have failed to meet the standard"
   ]
  },
  {
   "attachments": {},
   "cell_type": "markdown",
   "metadata": {},
   "source": [
    "> The purpose of the project was not well described and clear! Most of all of the explinations made were not clear or consice enough to meet the college board standards. Their explinations most of the time don't connect to their program. But, the testing was clear and showed understanding of the college board standards. This student needed thourogh explinations and more connection to their code to recive their full points. "
   ]
  },
  {
   "attachments": {},
   "cell_type": "markdown",
   "metadata": {},
   "source": [
    "### Submission 2"
   ]
  },
  {
   "attachments": {},
   "cell_type": "markdown",
   "metadata": {},
   "source": [
    "**Reflection**"
   ]
  },
  {
   "attachments": {},
   "cell_type": "markdown",
   "metadata": {},
   "source": [
    "on any discrepancies in your scoring versus the ap scoring\n",
    "on what your program will need to fulfill all requirements\n",
    "on the criteria and why a submission may have failed to meet the standard"
   ]
  },
  {
   "attachments": {},
   "cell_type": "markdown",
   "metadata": {},
   "source": [
    "> This student was very clear with their work! They had alternative ideas and showed they had full understanding with the college board requirements. They fulfilled all the requirments and college board also gave them full points. If I were to do the APCSP tests I would use this as a reference of what my work would look like since it is so well done!! "
   ]
  },
  {
   "attachments": {},
   "cell_type": "markdown",
   "metadata": {},
   "source": [
    "### Submission 3"
   ]
  },
  {
   "attachments": {},
   "cell_type": "markdown",
   "metadata": {},
   "source": [
    "**Reflection**"
   ]
  },
  {
   "attachments": {},
   "cell_type": "markdown",
   "metadata": {},
   "source": [
    "on any discrepancies in your scoring versus the ap scoring\n",
    "on what your program will need to fulfill all requirements\n",
    "on the criteria and why a submission may have failed to meet the standard"
   ]
  },
  {
   "attachments": {},
   "cell_type": "markdown",
   "metadata": {},
   "source": [
    "> Compared to student 2 I think student 3 had also done a well job. Although they had recived 5/6 points I think this student deserves full points. The student had clearly answered the prompt and described their code well. As Mr.Mort said lots of people struggle with function and purpose and that is where this student had fallen short. They only described the function which is a fatal flaw!!"
   ]
  },
  {
   "attachments": {},
   "cell_type": "markdown",
   "metadata": {},
   "source": [
    "> Function vs. Purpose: <br>\n",
    "Function: the kind of action or activity proper to a person, thing. Purpose: the reason for which something exists or is done, made, used, etc."
   ]
  },
  {
   "attachments": {},
   "cell_type": "markdown",
   "metadata": {},
   "source": [
    "### Submission 4"
   ]
  },
  {
   "attachments": {},
   "cell_type": "markdown",
   "metadata": {},
   "source": [
    "**Reflection**"
   ]
  },
  {
   "attachments": {},
   "cell_type": "markdown",
   "metadata": {},
   "source": [
    "on any discrepancies in your scoring versus the ap scoring\n",
    "on what your program will need to fulfill all requirements\n",
    "on the criteria and why a submission may have failed to meet the standard"
   ]
  },
  {
   "attachments": {},
   "cell_type": "markdown",
   "metadata": {},
   "source": [
    "> This student had missed some important components in the CSP project. They were missing the managing complexity and how a list had contributed to their program! They did not earn full points for a row since they did not hit the crieteria for those points."
   ]
  }
 ],
 "metadata": {
  "kernelspec": {
   "display_name": "Python 3",
   "language": "python",
   "name": "python3"
  },
  "language_info": {
   "name": "python",
   "version": "3.8.9 (default, Apr 13 2022, 08:48:06) \n[Clang 13.1.6 (clang-1316.0.21.2.5)]"
  },
  "orig_nbformat": 4,
  "vscode": {
   "interpreter": {
    "hash": "31f2aee4e71d21fbe5cf8b01ff0e069b9275f58929596ceb00d14d90e3e16cd6"
   }
  }
 },
 "nbformat": 4,
 "nbformat_minor": 2
}
