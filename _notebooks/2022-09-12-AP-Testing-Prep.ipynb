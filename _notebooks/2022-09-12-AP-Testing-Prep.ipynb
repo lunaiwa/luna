{
 "cells": [
  {
   "cell_type": "markdown",
   "metadata": {},
   "source": [
    "# Practice Testing APCSP\n",
    "> Preparing for the end of the year AP testing\n",
    "\n",
    "- title: APCSP Test Prep\n",
    "- toc: true\n",
    "- comments: true\n",
    "- categories: [planning]"
   ]
  },
  {
   "cell_type": "markdown",
   "metadata": {},
   "source": [
    "### Take Notes\n",
    "\n",
    "- Whatever the teacher says is helpful and vocab words are important to use during code. The vocab words can also be helpful in the MC and are helpful during the trimester\n",
    "- Do practice testing and time them to prep for the real AP test to simulate the situation\n",
    "- Creating tasks that are unique and creative and not just normal\n",
    "- Looking at past examples of other works form other students that have recived a 5 on the Ap test\n",
    "- REVIEW, REVIEW REVIEW\n"
   ]
  },
  {
   "cell_type": "markdown",
   "metadata": {},
   "source": [
    "### Task Ideas\n",
    "\n",
    "- any create game that isn't used (everyone typically uses GPA calculator)\n",
    "- don't use a basic game like hang man or anything do somthing out of the box\n",
    "- do a game that is simple yet creative!!!\n"
   ]
  }
 ],
 "metadata": {
  "kernelspec": {
   "display_name": "Python 3.8.2 64-bit",
   "language": "python",
   "name": "python3"
  },
  "language_info": {
   "name": "python",
   "version": "3.8.9"
  },
  "orig_nbformat": 4,
  "vscode": {
   "interpreter": {
    "hash": "31f2aee4e71d21fbe5cf8b01ff0e069b9275f58929596ceb00d14d90e3e16cd6"
   }
  }
 },
 "nbformat": 4,
 "nbformat_minor": 2
}
