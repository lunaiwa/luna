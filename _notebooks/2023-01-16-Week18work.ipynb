{
 "cells": [
  {
   "attachments": {},
   "cell_type": "markdown",
   "metadata": {},
   "source": [
    "# Week 18 - Design Exploration\n",
    "> Going through the CSP steps and designing the webpage\n",
    "\n",
    "- title: Week 18 Design Exploration\n",
    "- toc: true\n",
    "- comments: true\n",
    "- categories: [project]\n",
    "- badges: true"
   ]
  },
  {
   "attachments": {},
   "cell_type": "markdown",
   "metadata": {},
   "source": [
    "## Frontend - Luna"
   ]
  },
  {
   "attachments": {},
   "cell_type": "markdown",
   "metadata": {},
   "source": [
    "**Homepage** - code behind"
   ]
  },
  {
   "attachments": {},
   "cell_type": "markdown",
   "metadata": {},
   "source": [
    "[link to the finished page](https://www.canva.com/design/DAFX31wwPLo/By1UUnk1l13SULdUuwhoTw/view?utm_content=DAFX31wwPLo&utm_campaign=designshare&utm_medium=link2&utm_source=sharebutton)"
   ]
  },
  {
   "attachments": {},
   "cell_type": "markdown",
   "metadata": {},
   "source": [
    "**HTML** - Homepage"
   ]
  },
  {
   "attachments": {},
   "cell_type": "markdown",
   "metadata": {},
   "source": [
    "![Screen Shot 2023-01-16 at 9 34 20 PM](https://user-images.githubusercontent.com/111661543/212817984-b7cbff24-07f7-4753-bdb5-1ea4c7b4c012.png)"
   ]
  },
  {
   "attachments": {},
   "cell_type": "markdown",
   "metadata": {},
   "source": [
    "![Screen Shot 2023-01-16 at 9 35 11 PM](https://user-images.githubusercontent.com/111661543/212818100-217da0cd-6ea7-4846-9610-6b673e7952bc.png)"
   ]
  },
  {
   "attachments": {},
   "cell_type": "markdown",
   "metadata": {},
   "source": [
    "**CSS** - Homepage"
   ]
  },
  {
   "attachments": {},
   "cell_type": "markdown",
   "metadata": {},
   "source": [
    "![Screen Shot 2023-01-16 at 9 37 30 PM](https://user-images.githubusercontent.com/111661543/212818374-7fc41f5b-9af5-4a48-8ce4-4d6d785a469d.png)"
   ]
  },
  {
   "attachments": {},
   "cell_type": "markdown",
   "metadata": {},
   "source": [
    "![Screen Shot 2023-01-16 at 9 38 26 PM](https://user-images.githubusercontent.com/111661543/212818494-a754dc66-e616-4a4a-89c4-444b43b7f3b8.png)"
   ]
  },
  {
   "attachments": {},
   "cell_type": "markdown",
   "metadata": {},
   "source": [
    "![Screen Shot 2023-01-16 at 9 39 26 PM](https://user-images.githubusercontent.com/111661543/212818870-06f8ad54-8f9c-4a5b-a42d-b429e342a878.png)"
   ]
  },
  {
   "attachments": {},
   "cell_type": "markdown",
   "metadata": {},
   "source": [
    "**About**"
   ]
  },
  {
   "attachments": {},
   "cell_type": "markdown",
   "metadata": {},
   "source": [
    "**About** - code behind"
   ]
  },
  {
   "attachments": {},
   "cell_type": "markdown",
   "metadata": {},
   "source": [
    "### Email List"
   ]
  },
  {
   "attachments": {},
   "cell_type": "markdown",
   "metadata": {},
   "source": [
    "Wireframe from canva"
   ]
  },
  {
   "attachments": {},
   "cell_type": "markdown",
   "metadata": {},
   "source": [
    "![Untitled design (13)](https://user-images.githubusercontent.com/111661543/212804063-e784c117-f3f6-4f4a-8a02-2066cb46c5f7.png)"
   ]
  },
  {
   "attachments": {},
   "cell_type": "markdown",
   "metadata": {},
   "source": [
    "screen shot of the finished page"
   ]
  },
  {
   "attachments": {},
   "cell_type": "markdown",
   "metadata": {},
   "source": [
    "[link to the finished page](https://www.canva.com/design/DAFX31wwPLo/By1UUnk1l13SULdUuwhoTw/view?utm_content=DAFX31wwPLo&utm_campaign=designshare&utm_medium=link2&utm_source=sharebutton)"
   ]
  },
  {
   "attachments": {},
   "cell_type": "markdown",
   "metadata": {},
   "source": [
    "code behind the page"
   ]
  },
  {
   "attachments": {},
   "cell_type": "markdown",
   "metadata": {},
   "source": [
    "![Screen Shot 2023-01-16 at 9 24 54 PM](https://user-images.githubusercontent.com/111661543/212816845-f94d951b-7843-48b7-9f1e-1f9fac5a8538.png)\n"
   ]
  },
  {
   "attachments": {},
   "cell_type": "markdown",
   "metadata": {},
   "source": [
    "**Luna**"
   ]
  },
  {
   "attachments": {},
   "cell_type": "markdown",
   "metadata": {},
   "source": [
    "Usually before I start making a new part of the project or website I draft it out in **Canva**. Doing this process allows me to only think about the code and not the aesthetics of the website while coding. This week I worked on the emailing list/subscription for users to sign up for with their emails. I also formatted the website from last week and added a new part onto the bottom of the site (index)."
   ]
  },
  {
   "attachments": {},
   "cell_type": "markdown",
   "metadata": {},
   "source": [
    "I also worked on adding the new pages on the website, aka the 'about site'. And I also made an 'input' part on the site. The input is the email input where users can add in their emails to join the emailing list."
   ]
  },
  {
   "attachments": {},
   "cell_type": "markdown",
   "metadata": {},
   "source": [
    "The email's / inputs won't accepted unless it contains a '@' or isn't a valid email won't be inputted"
   ]
  },
  {
   "attachments": {},
   "cell_type": "markdown",
   "metadata": {},
   "source": [
    "In the future I am planning to add a table which will use the user inputs and make the combine into a table. We also plan on using an API which will automatically used the emails to send an email to all the emails avalible in the list."
   ]
  },
  {
   "attachments": {},
   "cell_type": "markdown",
   "metadata": {},
   "source": [
    "## Frontend - Ethan"
   ]
  },
  {
   "attachments": {},
   "cell_type": "markdown",
   "metadata": {},
   "source": [
    "**Load Screen**"
   ]
  },
  {
   "attachments": {},
   "cell_type": "markdown",
   "metadata": {},
   "source": [
    "![image](https://user-images.githubusercontent.com/111661543/212822584-000b38e9-d77f-4d12-9ec6-d5d020df6ec9.png)"
   ]
  },
  {
   "attachments": {},
   "cell_type": "markdown",
   "metadata": {},
   "source": [
    "**Load Screen** - Code Behind"
   ]
  },
  {
   "attachments": {},
   "cell_type": "markdown",
   "metadata": {},
   "source": [
    "**HTML**"
   ]
  },
  {
   "attachments": {},
   "cell_type": "markdown",
   "metadata": {},
   "source": [
    "![image (1)](https://user-images.githubusercontent.com/111661543/212822676-0aa7f6f5-8223-4ef8-bb50-f48f0d8584ae.png)"
   ]
  },
  {
   "attachments": {},
   "cell_type": "markdown",
   "metadata": {},
   "source": [
    "**CSS**"
   ]
  },
  {
   "attachments": {},
   "cell_type": "markdown",
   "metadata": {},
   "source": [
    "![image (2)](https://user-images.githubusercontent.com/111661543/212822742-c97af156-e40f-4c0c-b739-bf183db3d86c.png)"
   ]
  },
  {
   "attachments": {},
   "cell_type": "markdown",
   "metadata": {},
   "source": [
    "**Ethan**"
   ]
  },
  {
   "attachments": {},
   "cell_type": "markdown",
   "metadata": {},
   "source": [
    "We’re gonna have to add more code what we have is just design. My preloader uses a function that displays the given image/gif while the screen loads, using windows.addEventListener \n",
    "We’re going to have to add some sort of input table and then start some backend fetching which I don’t think have either atm"
   ]
  },
  {
   "attachments": {},
   "cell_type": "markdown",
   "metadata": {},
   "source": [
    "## Frontend - Taiyo"
   ]
  },
  {
   "attachments": {},
   "cell_type": "markdown",
   "metadata": {},
   "source": [
    "**Product Cards**"
   ]
  },
  {
   "attachments": {},
   "cell_type": "markdown",
   "metadata": {},
   "source": [
    "[Images](https://www.canva.com/design/DAFX5vZCPjM/9wiFhw8lHI2M2zJEBZ2csQ/view?utm_content=DAFX5vZCPjM&utm_campaign=designshare&utm_medium=link2&utm_source=sharebutton)"
   ]
  },
  {
   "attachments": {},
   "cell_type": "markdown",
   "metadata": {},
   "source": [
    "**Taiyo**"
   ]
  },
  {
   "attachments": {},
   "cell_type": "markdown",
   "metadata": {},
   "source": [
    "This code is the Inventory/ catalog. This code displays the different types of cars that we show on our website. I added a hover feature to enable the user to quickly like or view the description of the car. In the future, we will add hyper links to the hover cards to send the user to a full description of the said car. We also have a small “By:” section on the bottom of the card that when clicked, will lead the user to all the cars made by that manufacturer."
   ]
  }
 ],
 "metadata": {
  "kernelspec": {
   "display_name": "Python 3",
   "language": "python",
   "name": "python3"
  },
  "language_info": {
   "codemirror_mode": {
    "name": "ipython",
    "version": 3
   },
   "file_extension": ".py",
   "mimetype": "text/x-python",
   "name": "python",
   "nbconvert_exporter": "python",
   "pygments_lexer": "ipython3",
   "version": "3.8.9"
  },
  "orig_nbformat": 4,
  "vscode": {
   "interpreter": {
    "hash": "31f2aee4e71d21fbe5cf8b01ff0e069b9275f58929596ceb00d14d90e3e16cd6"
   }
  }
 },
 "nbformat": 4,
 "nbformat_minor": 2
}
