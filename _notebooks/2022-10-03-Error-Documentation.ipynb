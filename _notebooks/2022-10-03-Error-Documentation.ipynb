{
 "cells": [
  {
   "cell_type": "markdown",
   "metadata": {},
   "source": [
    "# Error Documentation\n",
    "> Documenting all errors encountered during SCRUM projects\n",
    "\n",
    "- title: Error Documentation\n",
    "- toc: true\n",
    "- comments: true\n",
    "- categories: [errors]"
   ]
  },
  {
   "cell_type": "markdown",
   "metadata": {},
   "source": [
    "### Questions in Errors"
   ]
  },
  {
   "cell_type": "markdown",
   "metadata": {},
   "source": [
    "What errors may arise in your project?\n",
    "> Errors that may arise are the frontend not showing what it might need or the backend not performing as it should!"
   ]
  },
  {
   "cell_type": "markdown",
   "metadata": {},
   "source": [
    "Make sure to document any bugs you encounter and how you solved the problem.\n",
    "> Most bugs might be a changed letter or number error in the code, another error that might be encountered is missing lines of code!"
   ]
  },
  {
   "cell_type": "markdown",
   "metadata": {},
   "source": [
    "What are “single” tests that you will perform on your project? Or, your part of the project?\n",
    "> Single tests that might be performed on the project is the frontend testing and seeing if the user see what is needed and not the code."
   ]
  },
  {
   "cell_type": "markdown",
   "metadata": {},
   "source": [
    "### Errors Documentation"
   ]
  },
  {
   "cell_type": "markdown",
   "metadata": {},
   "source": [
    "1.ERROR\n",
    "2.ERROR\n",
    "3.404"
   ]
  },
  {
   "cell_type": "markdown",
   "metadata": {},
   "source": [
    "### Error Challenge"
   ]
  },
  {
   "cell_type": "markdown",
   "metadata": {},
   "source": [
    "What are some ways to (user) error proof this code?\n",
    "> First add in a single test for the expectation, then test input and output, run the test!!!"
   ]
  },
  {
   "cell_type": "markdown",
   "metadata": {},
   "source": [
    "The code should be able to calculate the cost of the meal of the user"
   ]
  },
  {
   "cell_type": "code",
   "execution_count": 4,
   "metadata": {},
   "outputs": [
    {
     "name": "stdout",
     "output_type": "stream",
     "text": [
      "Menu\n",
      "burger  $3.99\n",
      "fries  $1.99\n",
      "drink  $0.99\n",
      "3.99\n"
     ]
    }
   ],
   "source": [
    "menu =  {\"burger\": 3.99,\n",
    "         \"fries\": 1.99,\n",
    "         \"drink\": 0.99}\n",
    "total = 0\n",
    "\n",
    "#shows the user the menu and prompts them to select an item\n",
    "print(\"Menu\")\n",
    "for k,v in menu.items():\n",
    "    print(k + \"  $\" + str(v)) #why does v have \"str\" in front of it?\n",
    "\n",
    "#ideally the code should prompt the user multiple times\n",
    "item = input(\"Please select an item from the menu\")\n",
    "if item == \"fries\":\n",
    "    total = 1.99\n",
    "if item == \"burger\":\n",
    "    total = 3.99\n",
    "if item == \"drink\":\n",
    "    total = .99\n",
    "\n",
    "\n",
    "\n",
    "#code should add the price of the menu items selected by the user \n",
    "print(total)"
   ]
  },
  {
   "cell_type": "code",
   "execution_count": 2,
   "metadata": {},
   "outputs": [
    {
     "name": "stdout",
     "output_type": "stream",
     "text": [
      "Menu:\n",
      "burger  $3.99\n",
      "fries  $1.99\n",
      "drink  $0.99\n",
      "4 burger(s) added\n",
      "19 fries(s) added\n",
      "2 drink(s) added\n",
      "Order:\n",
      "['burger X 4.0', 'fries X 19.0', 'drink X 2.0']\n",
      "Price:\n",
      "$55.75\n"
     ]
    }
   ],
   "source": [
    "# the menu and choices the user can choose from \n",
    "# prices of the different meals\n",
    "menu =  {\"burger\": 3.99,\n",
    "         \"fries\": 1.99,\n",
    "         \"drink\": 0.99}\n",
    "total = 0.0\n",
    "current_order = []\n",
    "# order of the user\n",
    "\n",
    "# this is where the user prints the order\n",
    "print(\"Menu:\")\n",
    "for k,v in menu.items():\n",
    "    print(k + \"  $\" + str(v)) \n",
    "item = input(\"Select an Item\")\n",
    "item = item.lower()\n",
    "while item in menu.keys():\n",
    "    quantity = float(input(\"How Many\"))\n",
    "\n",
    "    current_order.append(str(item) + \" X \" + str(quantity))\n",
    "    total += (menu[item] * quantity)\n",
    "    print(str(int(quantity)) + \" \" + item + \"(s)\" + \" added\")\n",
    "    \n",
    "# user orders more or finishes order\n",
    "    item = input(\"Would you like to add more or finish order 'done'\")\n",
    "    item = item.lower()\n",
    " #order is being printed   \n",
    "print(\"Order:\")\n",
    "print(current_order)\n",
    "print(\"Price:\")\n",
    "print(\"$\" + str(round(total,2)))\n",
    "\n",
    "\n",
    "# single item code \n",
    "\n",
    "# if item == \"burger\" or item == \"fries\" or item == \"drink\":\n",
    "#     print(\"! The total of the order is\", item, \"will be \",menu[item])\n",
    "# else:\n",
    "#     print(\"Try again!\")"
   ]
  }
 ],
 "metadata": {
  "kernelspec": {
   "display_name": "Python 3.8.9 64-bit",
   "language": "python",
   "name": "python3"
  },
  "language_info": {
   "codemirror_mode": {
    "name": "ipython",
    "version": 3
   },
   "file_extension": ".py",
   "mimetype": "text/x-python",
   "name": "python",
   "nbconvert_exporter": "python",
   "pygments_lexer": "ipython3",
   "version": "3.8.9"
  },
  "orig_nbformat": 4,
  "vscode": {
   "interpreter": {
    "hash": "31f2aee4e71d21fbe5cf8b01ff0e069b9275f58929596ceb00d14d90e3e16cd6"
   }
  }
 },
 "nbformat": 4,
 "nbformat_minor": 2
}
