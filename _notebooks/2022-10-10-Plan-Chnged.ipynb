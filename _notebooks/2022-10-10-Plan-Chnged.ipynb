{
 "cells": [
  {
   "cell_type": "markdown",
   "metadata": {},
   "source": [
    "# Chess Board Final\n",
    "> New plan for trimester final and how it will be executed\n",
    "\n",
    "- title: Trimester Final Plan\n",
    "- toc: true\n",
    "- comments: true\n",
    "- categories: [planning]"
   ]
  },
  {
   "cell_type": "markdown",
   "metadata": {},
   "source": [
    "## Outline"
   ]
  },
  {
   "cell_type": "markdown",
   "metadata": {},
   "source": [
    "The code that will be created is a website that allows the user to be able to see different openings in chess. These openings will be shown by user interactive buttons and different ways you can open on chess. The goal of the website is to help the user become a better chess player by using these different openings provided by the website. Another goal is to allow the user able to see different openings and provide feedback to the website. The website's name is planned to be called 'Rookie' and has a rook as it's logo. The mock design color's or design will be changed in the future."
   ]
  },
  {
   "cell_type": "markdown",
   "metadata": {},
   "source": [
    "![](https://lh3.googleusercontent.com/LHPkNdEQRjwnhzLWrz-iVs2rQciq51awlaiP5s5pXwv0F9I0vlIomhLNDmg-s0FJh0RoAFZkkDnkRBKLesNNUDpSghFOwWX5MNhE-hzpbS_O4IXGvyJl5VZp4Mp16vPCTODmQ_yJTTpxyiPVMR_pYn8PMFGM4BUf7Rw3nYVa8pggLi1YBtNivvWZDqVIKcH28NSw2ibYAf1cF6EaxJ0Af0X2U2nCjyeKx0vi_TDpj-zVJHukCaprQWRWEyTKIiLLnCN5AE7JYhJB6HJeOpA31745tBmRFmVe-eIuNpmoaPLK87kLpmFi5wNDxmg5kbYiY_hc5hXubw6Z9WsPkCDWoAUVPzsoUunQbTV3Gx0QvwPPjl2udK1TL_TQeowu_SksdCAItdeOlewqOawkeBR7Khipsmzqs0M29-OdVIez777btBH8Xa1EYF2aV-ueBuz42Zk4Dd-W3faU_TlkjZt3FFLugURf3vPI64VQFVhy69eEgVPc9oJICNAfdxXqvPgXj-Cre-H5WIc93wp_554Uwe8ceWldhFRkg8kkNTfpsz5QRP-Widm52rh2xETUiOIrGfpbFcNZKtbhScWXQRlZvcJ-dEIqfEfiuRTXUXCzP5vnwu4WVwILSUtF8TrdO5vVbu2lD1Ast-_xlOWsIaUo4b4lJnQW7lrg9sr8O69eaaq3wzzJmehMKPqrFsF6ZeYgHyhISNkyPHrLO67Ev5shAoOxiLZdg_tgSqnhxsKbn_5iah79RQn77asCV3CZTbxvduWyAWbYLynBV7i6KOAKQDhssE78uMzxO5VCd1Y1vgpfcUkkviKIoyAiWLGzaNSKFzGxRndakgbE7X2I0Bvfkp1aYA8Bl7s5IoaSewc8Eqxzs099thTBj_Uu7VpODqZta576FmnsvVLDqdSlGg3AG2rFWb0HIEqYQlPD6pwteUySYosN_4zFM7sB7RYrs1Ul3KrJp5N2AW0fOUi0XMG7v3a-UQtFzPfo1bV2_rxEqQjAE9LilKlqsLwDSz9q-TuBCYAykNaL7o6e7PoDXhU=s500-no?authuser=0)"
   ]
  },
  {
   "cell_type": "markdown",
   "metadata": {},
   "source": [
    "The sets on the top bar represent the different chess openings that can be played. The moves bar on the right shows the different chess pieces and where they moved on the chess board. The board on the right will show the different chess pieces and where they move. User feedback will be represented below by comments or the like button which will be an image which changes."
   ]
  }
 ],
 "metadata": {
  "kernelspec": {
   "display_name": "Python 3.8.2 64-bit",
   "language": "python",
   "name": "python3"
  },
  "language_info": {
   "name": "python",
   "version": "3.8.9 (default, Apr 13 2022, 08:48:06) \n[Clang 13.1.6 (clang-1316.0.21.2.5)]"
  },
  "orig_nbformat": 4,
  "vscode": {
   "interpreter": {
    "hash": "31f2aee4e71d21fbe5cf8b01ff0e069b9275f58929596ceb00d14d90e3e16cd6"
   }
  }
 },
 "nbformat": 4,
 "nbformat_minor": 2
}
