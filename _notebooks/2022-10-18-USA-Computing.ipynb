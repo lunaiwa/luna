{
 "cells": [
  {
   "cell_type": "markdown",
   "metadata": {},
   "source": [
    "# USA Computing Olympiad\n",
    "> test \n",
    "\n",
    "- title: USA Computing Olympiad\n",
    "- toc: true\n",
    "- comments: truediv\n",
    "- categories: [USA Computing Olympiad]"
   ]
  },
  {
   "cell_type": "markdown",
   "metadata": {},
   "source": [
    "### Problem 1. Milk Pails - Bronze"
   ]
  },
  {
   "cell_type": "code",
   "execution_count": 10,
   "metadata": {},
   "outputs": [
    {
     "ename": "FileNotFoundError",
     "evalue": "[Errno 2] No such file or directory: 'pails.in'",
     "output_type": "error",
     "traceback": [
      "\u001b[0;31m---------------------------------------------------------------------------\u001b[0m",
      "\u001b[0;31mFileNotFoundError\u001b[0m                         Traceback (most recent call last)",
      "\u001b[1;32m/Users/sony/iwazaki-1/_notebooks/2022-10-18-USA-Computing.ipynb Cell 4\u001b[0m in \u001b[0;36m<cell line: 1>\u001b[0;34m()\u001b[0m\n\u001b[0;32m----> <a href='vscode-notebook-cell:/Users/sony/iwazaki-1/_notebooks/2022-10-18-USA-Computing.ipynb#X10sZmlsZQ%3D%3D?line=0'>1</a>\u001b[0m fin \u001b[39m=\u001b[39m \u001b[39mopen\u001b[39;49m(\u001b[39m'\u001b[39;49m\u001b[39mpails.in\u001b[39;49m\u001b[39m'\u001b[39;49m, \u001b[39m'\u001b[39;49m\u001b[39mr\u001b[39;49m\u001b[39m'\u001b[39;49m)\n\u001b[1;32m      <a href='vscode-notebook-cell:/Users/sony/iwazaki-1/_notebooks/2022-10-18-USA-Computing.ipynb#X10sZmlsZQ%3D%3D?line=2'>3</a>\u001b[0m buck1, buck2, buck3 \u001b[39m=\u001b[39m \u001b[39mmap\u001b[39m(\u001b[39mint\u001b[39m, fin\u001b[39m.\u001b[39mreadline()\u001b[39m.\u001b[39msplit())\n\u001b[1;32m      <a href='vscode-notebook-cell:/Users/sony/iwazaki-1/_notebooks/2022-10-18-USA-Computing.ipynb#X10sZmlsZQ%3D%3D?line=4'>5</a>\u001b[0m ans \u001b[39m=\u001b[39m \u001b[39m0\u001b[39m\n",
      "\u001b[0;31mFileNotFoundError\u001b[0m: [Errno 2] No such file or directory: 'pails.in'"
     ]
    }
   ],
   "source": [
    "fin = open('pails.in', 'r')\n",
    "\n",
    "buck1, buck2, buck3 = map(int, fin.readline().split())\n",
    "\n",
    "ans = 0\n",
    "\n",
    "# x and y below take care of all \n",
    "# possible combinations of the two buckets.\n",
    "\n",
    "for x in range(1001):\n",
    "\tif (buck1 * x) > buck3:\n",
    "\t\tbreak\n",
    "\tfor y in range(1001):\n",
    "\t\tcurrent = (buck1 * x) + (buck2 * y)\n",
    "\t\tif current > buck3:\n",
    "\t\t\tbreak\n",
    "\t\tans = max(ans, current)\n",
    "\n",
    "with open('pails.out', 'w') as fout:\n",
    "\tfout.write(str(ans) + '\\n')"
   ]
  },
  {
   "cell_type": "markdown",
   "metadata": {},
   "source": [
    "### Diamond Collector"
   ]
  },
  {
   "cell_type": "code",
   "execution_count": null,
   "metadata": {},
   "outputs": [],
   "source": []
  }
 ],
 "metadata": {
  "kernelspec": {
   "display_name": "Python 3.8.9 64-bit",
   "language": "python",
   "name": "python3"
  },
  "language_info": {
   "codemirror_mode": {
    "name": "ipython",
    "version": 3
   },
   "file_extension": ".py",
   "mimetype": "text/x-python",
   "name": "python",
   "nbconvert_exporter": "python",
   "pygments_lexer": "ipython3",
   "version": "3.8.9"
  },
  "orig_nbformat": 4,
  "vscode": {
   "interpreter": {
    "hash": "31f2aee4e71d21fbe5cf8b01ff0e069b9275f58929596ceb00d14d90e3e16cd6"
   }
  }
 },
 "nbformat": 4,
 "nbformat_minor": 2
}
