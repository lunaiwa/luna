{
 "cells": [
  {
   "cell_type": "markdown",
   "metadata": {},
   "source": [
    "# AP Prep Multiple Choice\n",
    "> Practice MCQ on collegeboard\n",
    "\n",
    "- title: AP Prep Multiple Choice\n",
    "- toc: true\n",
    "- comments: true\n",
    "- categories: [ap]"
   ]
  },
  {
   "cell_type": "markdown",
   "metadata": {},
   "source": [
    "# AP Practice Screen Shot"
   ]
  },
  {
   "cell_type": "markdown",
   "metadata": {},
   "source": [
    "![](https://lh3.googleusercontent.com/ntjacmxut8ZISYE-z6TlAW3Knxtd29u3NEuZWgeugtcWv3LqAt2_KFQwI76BABj-hG-kNtd8H6hDRFiYQsL93K-LFdoE-OzxjG5eFDXDew_U8s8iEWhAEiI6Jw1bNzxkn15XkdhdVcvpJT6RJcZ3tvr6COcItVH6KZZeRq5nNiM9jOkHuhCBujD3-9tG6hq38CIHzDx2tv3wAEyTMfgwl9VRXvAUZk0fRvUZ7W5fISIuzZU9ytrQ0DQVFPgJvlVzjwt7mDmTfNp75mYtMp02NTZFlauf3J1E_ertHxc8dJce4PI5slvSjtmKD1OPxVYDIUuMEz39HFuII6eBtd-oo4_v3pyfZqE-575fCI8pGVnLP5AQr4kgpc2tOImoIpP-QpTqhYC0T3NV_lhkaWjrFifu2Ezk7Eery6S_rsbqG8npDH1TzjPm80w6dWGpNibnOkcmGaMrxdFuIziWShQPkRsYOOmdO7iufvOZijfKQoC-_Yz2LBHj4F1hF6v_srYKEAZkuhOvn35jRd88jWEFR0E2YA_VQHlXN0daf5hgzrsfsJmeEYJIiz4LzcLB227-vj22Ufv5Qavu4Ot190zdrhUaHitPpkhF5N-GpJod2wSxnXJm_A9Jv8fumtOYRA94fcOKCzTzcxBQW1Sc-h9wAhADhb2OnMxCPh5soEa4NNYRhRksOBay83atqukR-hBGkPlZ9gbSM1xAvQ99_dAop2zW5QfZpIyY4bmT2H-N86MiksoesIflfNBUdBYhFDIQm0Cra5av1Vh4aAWwh-sajWsV9GWWFEhrk-jNy7O1eILOsnnFZGx_bQuDktUP8feA-d0L4GSiAjQ67wJG6qgGHShrkuSuctdriVR0Z9J6iIHykbwIO7s9j6W5Cjo2UKOMPeQTjCUqGxcjmCwV4NCyiTfFgX7sK5gJ1THiCMC9hUQw8suMQgGmLHMJ3Zp5jjpSAG_EBpdG126-zCO9XbZpcNMAXfuPnb8GIrV3Ryl6sAAOAcs-=w2038-h752-no?authuser=0)"
   ]
  },
  {
   "cell_type": "markdown",
   "metadata": {},
   "source": [
    "# Confusing Questions and Understanding"
   ]
  },
  {
   "cell_type": "markdown",
   "metadata": {},
   "source": [
    "## Week 6 Quiz"
   ]
  },
  {
   "cell_type": "markdown",
   "metadata": {},
   "source": [
    "### Collaboration Quiz - 100%\n",
    "> The questions were easy to understand since we were already implementing these things and activities into our daily work as a SCRUM team! :)"
   ]
  },
  {
   "cell_type": "markdown",
   "metadata": {},
   "source": [
    "### Program Design and Development Quiz - 33%\n",
    "> Documentation for Procedure with a loop: odd numbers then even are printed!! Becuase the count starts at 1 and increases every 2 making the count odd!! Then the loop is terminated when it is at max."
   ]
  },
  {
   "cell_type": "code",
   "execution_count": null,
   "metadata": {},
   "outputs": [],
   "source": [
    "PROCEDURE printNums(max)\n",
    "\n",
    "{\n",
    "\n",
    "count ← 1\n",
    "\n",
    "REPEAT UNTIL(count > max)\n",
    "\n",
    "{\n",
    "\n",
    "DISPLAY(count)\n",
    "\n",
    "count ← count + 2\n",
    "\n",
    "}\n",
    "\n",
    "}"
   ]
  },
  {
   "cell_type": "markdown",
   "metadata": {},
   "source": [
    "### Program Function and Purpose Quiz (MCQs) - 50%"
   ]
  },
  {
   "cell_type": "markdown",
   "metadata": {},
   "source": [
    "Behavior of code that multiplies inside a loop: I need to work on figuring out loop code! \n",
    "![](https://assets.learnosity.com/organisations/537/VR165469.g02.png)\n",
    "> Correct first portion which ia 2(5^3) but the second part is wrong where it needs to be **multiplying the result by 5 3 times!**\n",
    "\n",
    "![](https://assets.learnosity.com/organisations/537/VH892187.g02.png)\n",
    "> value displays when y=true and when x is negative"
   ]
  },
  {
   "cell_type": "markdown",
   "metadata": {},
   "source": [
    "## Week 7 Quiz"
   ]
  },
  {
   "cell_type": "markdown",
   "metadata": {},
   "source": [
    "### Identifying and Correcting Errors Quiz"
   ]
  },
  {
   "cell_type": "markdown",
   "metadata": {},
   "source": [
    "![](https://lh3.googleusercontent.com/FHEDiMzAxq4PyUOCKeaqT2dI7ovTqqMcSnf41BUhFOao9oJciOED4cO-xtZUsWgzPXM4MiVHt6_wkh-iClDfm9fxUNpVxbdv9jpTQzCfhW9ur0TQp05EZiogzESDV69rYmlLd98_Xpk1YduAH12YlIDDMTRAkBZYgefTEFib7Yds0CwW0VAcVdmQXRHPmDHBzZULZJoFlLm6tPV8e9NEZmeI5jS5jBpMefOSwefKPMFJwzkcvj_Kmtzqg-6XVCnXOjwvqjOWp8t7bv0NfIcN4JVJK3xovwtjkvy3KZ9ojgGszWXGxI8epDQrhY4M2iQ_eTIE7giiqHig6ck2UEuCRASzZlOrhAvPytSVL_vCpJGY7pkRQM_9lqIwyMk9lVBvE1p9g_QNwSzl4ANDqJ3I3w65mV4cXn872rjCoK9TQB31MA5aojjyxsYl37L7W7zNNLX4tiSvGW9jOPSXlKdlAYKNDapnhtYg-kzsJt2Y1m7skbx4eEtmM_V9Oq2YLcMNgS99WuC0AzqfsKbd34FRPmjNard-VKOflaZEE87IuS2eP3mwUfHGon35EiHDan4rVcoJw3ck_IRBMSytb3wqOX5FFf0N72flG3xuwA6xoQUMJJaaHFJ4W2JMNojjQF2rJrSeRpn5zBL44w6ThvA6VY59X4XYNiNWdjDjyfmSeV_aomEUxZVLiP1jdWSzM6ZB0zC9HSLzhxUaaXWWoiAe7BjtzAC2w_Dqj7NVX5zch0GOBs8ir8IxYl-EsN0ixgExhaydvi6jM_z8aH-LiAapS2x5A0bFKPTkVSwsR_R2xGqnQw9tLKhkicMQasYlXILsg2mSBImUUnJ-vHaWG9ifuxT0RJem9aoTPSXsCevnrC808lZ-JIi1Z1W48zOuXnXv6_d2brYDZCwgAZfzw4p8UYbNYS86a7vNSRtP-dBaQM5PoVttwFxAxvMHgyD4E6prokqjJeogOLnstoyosXClruNiS5SXU81W3cDWxU06TcILhT-epojD1hQwvFLYnetV1rqp9jyhboWR459t3y0=w694-h366-no?authuser=0)"
   ]
  },
  {
   "cell_type": "markdown",
   "metadata": {},
   "source": [
    "1. Instead of changing line 1 to IF(score + penalty < 0) change the lines 3 and 7 "
   ]
  },
  {
   "cell_type": "markdown",
   "metadata": {},
   "source": [
    "![](https://lh3.googleusercontent.com/D-Nk391FDCgkdj2-5MIKBXMQ3FFoq2eDdKIoazqbRobH7ScRTrNNNNABaA3CVs21xs4P5xsfndChrdMD_CMCquBOpj-9KEMQTf7bQUJwyRQA19Y_0BWnk_56bFfuIrIgeOedaYH9-seI2bNRQzKppk6bkxNV3oLigNasKlhz1BhCrdrl2TAx1b1lSuGOSkjR_MnuOKLIC9XDSKpzAu4NSx_dK1zZqFTBNrMq_1WYjdj-UJgTTASCJ7hIQWDPha9QnMqZb6TObpX4qcXTduQXiQSkrAn0ZsJSA5kvGxgH0lAIxIzBZqSCIBWPQz4QE4mnhWFtwHvQHMQwX2-1CdCeLuzmKTLwNO9UCK763wnhU5HP1_JQu8TjOJzuKxUv-DPMNi-4R0cTdTsHzBKO74eVD9dfBWbCUYXvwLd7YhCbnJV1www2gnnk2r2OhjsGoV7B1rd1twBaj_Jo_jhzf8I4NTLwPR55N30b2rWFLtepl0LEhKeShjg8VbhNrI7HHnbsNdr4ym5kdL6HLLaGm7FUed8poFaTNIHkFAq2rH3hnynX_-OiZFYhcggI2j4x122EfB4HCIKzrIsthcixFUCscNNnSMywC70MINVGK7su0JZdiZCCKZ4FCBgSZ0NZb-vDqtxAqBaLzi4zs8WQlExJPr3b9Po0-Wv_Y69oo4bqIXRoMGu4noNzs5StiCZylKVTzonbCYr-o5LL3YFiuCPI0CnzRK9fOqSWePkuv0UTWBUooEN88-NYqc7wLIU4kmQ057f_oqcW0evFsEnVTqzLDdXXLlo9NxJC-z1UnLp4A9ELV5X7Phiq2tDLcOJhNU1pJV9z2IkGHrQ-os6JNp7rUxeMWrTCXjLgP_Fypurf0XcyuG_0yP-FiV19c6Cq1N5bPW9c961-7vc2iA6frlYCjkmsxys4dN-zUlTo4-uK_wsToYJ_RWUyERCX9qkWJT2kX1NdYFTkcYOAvtCR-q5iRc-K4TkeHDrZ4P3PFu0Dl1JcR8i74PKQO3flo5kklew-El9fzsgMBxnHhNqUrSc=w231-h168-no?authuser=0)"
   ]
  },
  {
   "cell_type": "markdown",
   "metadata": {},
   "source": [
    "3. Check plus is displayed as intended so the code will not dispkay the numbers 8 and 7"
   ]
  },
  {
   "cell_type": "markdown",
   "metadata": {},
   "source": [
    "### The Internet Quiz "
   ]
  },
  {
   "cell_type": "markdown",
   "metadata": {},
   "source": [
    "1. Correct first portion but the packets can be recived in any order and can be reassembled\n",
    "\n",
    "3. Instead of being acessed by a data stream it is acessed by a network\n"
   ]
  }
 ],
 "metadata": {
  "kernelspec": {
   "display_name": "Python 3.8.2 64-bit",
   "language": "python",
   "name": "python3"
  },
  "language_info": {
   "name": "python",
   "version": "3.8.9"
  },
  "orig_nbformat": 4,
  "vscode": {
   "interpreter": {
    "hash": "31f2aee4e71d21fbe5cf8b01ff0e069b9275f58929596ceb00d14d90e3e16cd6"
   }
  }
 },
 "nbformat": 4,
 "nbformat_minor": 2
}
