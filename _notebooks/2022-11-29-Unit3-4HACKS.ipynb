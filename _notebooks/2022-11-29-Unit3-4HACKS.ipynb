{
 "cells": [
  {
   "attachments": {},
   "cell_type": "markdown",
   "metadata": {},
   "source": [
    "# Unit 3.3-3.4 HACKS\n",
    "> Review ticket for Unit 3 Sections 3 and 4\n",
    "\n",
    "- title: HACKS 3-4\n",
    "- toc: true\n",
    "- comments: true\n",
    "- categories: [unit 3]\n",
    "- badges: true"
   ]
  },
  {
   "cell_type": "markdown",
   "metadata": {},
   "source": [
    "<hr/>"
   ]
  },
  {
   "cell_type": "markdown",
   "metadata": {},
   "source": [
    "Describe the different parts of an algorithm, sequencing, selection, and iteration in the image below"
   ]
  },
  {
   "cell_type": "markdown",
   "metadata": {},
   "source": [
    "1. Set item to number to search for.\n",
    "2. Get text number in the list.\n",
    "3. If number = item, display \"item found\"\n",
    "4. If he are more numbers in the list, go back to Step 2\n",
    "5. Display \"item found\""
   ]
  },
  {
   "cell_type": "markdown",
   "metadata": {},
   "source": [
    "- Sequencing: order of how to do a process\n",
    "- Selection: allows algorithm to make a decision based on the status [if a condition is met]\n",
    "- Iteration: loop"
   ]
  },
  {
   "cell_type": "markdown",
   "metadata": {},
   "source": [
    "<hr/>"
   ]
  },
  {
   "cell_type": "markdown",
   "metadata": {},
   "source": [
    "### Evaluating Code"
   ]
  },
  {
   "cell_type": "markdown",
   "metadata": {},
   "source": [
    "Evaluate the arithmetic expression for this code"
   ]
  },
  {
   "cell_type": "code",
   "execution_count": 1,
   "metadata": {},
   "outputs": [],
   "source": [
    "num1 = 5\n",
    "num2 = num1 * 3\n",
    "num3 = num2 / num1 * (9 % 2) * 4\n",
    "result = (num3 % num1 + num2) % num3 * 3 / 5"
   ]
  },
  {
   "cell_type": "markdown",
   "metadata": {},
   "source": [
    "3"
   ]
  },
  {
   "cell_type": "markdown",
   "metadata": {},
   "source": [
    "<hr/>"
   ]
  },
  {
   "cell_type": "markdown",
   "metadata": {},
   "source": [
    "### Crossword Puzzle"
   ]
  },
  {
   "cell_type": "markdown",
   "metadata": {},
   "source": [
    "Finish the crossword puzzle"
   ]
  },
  {
   "cell_type": "markdown",
   "metadata": {},
   "source": [
    "1. Iteration\n",
    "2. Selection\n",
    "3. Sequence"
   ]
  },
  {
   "cell_type": "markdown",
   "metadata": {},
   "source": [
    "<hr/>"
   ]
  },
  {
   "cell_type": "markdown",
   "metadata": {},
   "source": [
    "### Challenge"
   ]
  },
  {
   "cell_type": "code",
   "execution_count": 2,
   "metadata": {},
   "outputs": [
    {
     "name": "stdout",
     "output_type": "stream",
     "text": [
      "gree pa\n",
      "16\n",
      "7\n"
     ]
    }
   ],
   "source": [
    "string1 = \"degree\"\n",
    "string2 = \" passenger\"\n",
    "FinalString = string1 + string2\n",
    "print(FinalString[2:9])\n",
    "print(len(FinalString))\n",
    "print(len(FinalString[2:9]))"
   ]
  },
  {
   "cell_type": "markdown",
   "metadata": {},
   "source": [
    "<hr/>"
   ]
  },
  {
   "cell_type": "markdown",
   "metadata": {},
   "source": [
    "### Quiz"
   ]
  },
  {
   "cell_type": "markdown",
   "metadata": {},
   "source": [
    "1. The length of the string\n",
    "2. False\n",
    "3. >>"
   ]
  },
  {
   "cell_type": "code",
   "execution_count": 1,
   "metadata": {},
   "outputs": [
    {
     "name": "stdout",
     "output_type": "stream",
     "text": [
      "lo Wo\n"
     ]
    }
   ],
   "source": [
    "print(\"Hello World\"[3:8])"
   ]
  },
  {
   "cell_type": "markdown",
   "metadata": {},
   "source": [
    "![](https://lh3.googleusercontent.com/9fcWSt0p1azj3gnlsAzSWncxvsabFYaGVv79ZqweFXCUiIWu8BZEwOFrKARXruocbYziL7KC4NNvyI-HClAGr7tZQmVoaDsyaihCTKVlBSci9yfSbmXRpQ3-yTh_UjMdaI7zRdA0D5sxdnSEbAi7mgh9UHEUvKbEdmrXmNt0zWb9Ml2PJXCC6GzCT8fvJOAWQuz-vkzLPsvo0IoypuIxlncnlE6Pd1R27nhgAVzoeMz5PiLHWkB4r9XzE65jxDbRwuVzj-EwLHtMnoIaFJSfKXKRE9XF_kAAxRour8j8aoyOU23x63pNCWdcZt8Zt6mtK2VdWMQgzvxjfJ8LkWzjMJr6l-sKm_jg7SYSeK0c-DEakiHQPraEII_P6u8jIgjhuMDCIzEiT9dwhrMi12eoXRIDCAV1_IhhCtI0LDEmI52FDFvd7VUf6akAMHEgpkYpCqq53VLzhcMhdKWcpdZbU836ItnUKrQ6H4ZYiVWLS0ohgXEx8ivdRuqO7xwjha9M2OnzbkfG5OdYtQODKIMJZFlfQwLh5w9kpfXluSx6iw6zvrQFWyPjdd2_yoWAQACduCzi_z9o7tsrrjmODW892rcr4ATwTM2aIeKcxAjO-NaEndeeoBHUKEDmVHN89JtcKaOhUKW5C2eqjZJ-mzc58Xwq2OpPf4r3zFLqaWQ7FZ8spuHSZIdAEghBgatJDTsPjFsdmv_fw7Bk1o-RdyF8PPSekakjwF7X38_HU8ZrAeg4-tbKAfPf1fC17W_VpBnX3ktIJmKVtee2WTt3RNZ_ppkp1zZYrj4Hb38vaFMMRUY3kC_LKJrPrjbaB55esgNaly5TFfJ-Uz1JIXj19c_2HmtjimzxPZoYc8fjuAzWYOeRaUDtH_IZVWJa6smO1bgaS3p9Dnrfp17AOR8E5QJENQIBCaHB4CM9q3Yg6e1SewDF_EabWYd8BGput6Po7UBZ_bLP-cZ54IiZaF2H4drYUQDW_hIYxSQp_VOeQA_rjKYHSagiTq0k7b0I=w709-h118-no?authuser=0)"
   ]
  }
 ],
 "metadata": {
  "kernelspec": {
   "display_name": "Python 3.8.9 64-bit",
   "language": "python",
   "name": "python3"
  },
  "language_info": {
   "codemirror_mode": {
    "name": "ipython",
    "version": 3
   },
   "file_extension": ".py",
   "mimetype": "text/x-python",
   "name": "python",
   "nbconvert_exporter": "python",
   "pygments_lexer": "ipython3",
   "version": "3.8.9 (default, Apr 13 2022, 08:48:06) \n[Clang 13.1.6 (clang-1316.0.21.2.5)]"
  },
  "orig_nbformat": 4,
  "vscode": {
   "interpreter": {
    "hash": "31f2aee4e71d21fbe5cf8b01ff0e069b9275f58929596ceb00d14d90e3e16cd6"
   }
  }
 },
 "nbformat": 4,
 "nbformat_minor": 2
}
