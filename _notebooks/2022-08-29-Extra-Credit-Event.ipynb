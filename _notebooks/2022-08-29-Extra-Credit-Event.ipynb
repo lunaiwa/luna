{
 "cells": [
  {
   "cell_type": "markdown",
   "metadata": {},
   "source": [
    "# Alumni Panel Event\n",
    "> Insights and takeaways from event\n",
    "\n",
    "- title: Alumni Panel Event\n",
    "- toc: true\n",
    "- comments: true\n",
    "- categories: [notes]"
   ]
  },
  {
   "cell_type": "markdown",
   "metadata": {},
   "source": [
    "### Questions and Answers\n",
    "\n",
    "Q: What did **Computer Science** make you relize?\n",
    "\n",
    ">C- can code well and did some 3d modeling, though from other organizations like robotics he knew that he wasn't as great as his competetors\n",
    "\n",
    ">A- always did coding and as a young kid really enjoyed to code CSA really applied to him and he took time to reflect on what he wanted to do\n",
    "\n",
    ">M- didn't really like compsci as much as most people but found it useful when she interned ans solidified the relization that you would need to learn programing. (she is C's twin sister)\n",
    "\n",
    ">AL- always artsy and did buisness she now does cognitive  which is like phsycology and compsci and she wanted to do web science and took the skills she learned from the CSP class\n",
    "\n",
    ">N- liked compsci when she was younger and when she entered middle school and into high school she started to take it serious, when she was making a program to complie data about Covid-19, it was a pivitol moment for her since she relized she could use these skill in the real world\n"
   ]
  },
  {
   "cell_type": "markdown",
   "metadata": {},
   "source": [
    "Q: Some big challeneges that you can face when doing **Computer Science**\n",
    "\n",
    ">C- keeping motivation, always when programming he got error messages, but there are always answers on the internet, and have disipline\n",
    "\n",
    ">A- egos in the classroom, compsci majors have big egos and it is fustrating, focus on your own path \"Steve Jobs beats you 100 out of 100 times\"\n",
    "\n",
    ">AN- theory, structures and didn't really think about it but it is hard transitioning from high school computer science into college computer science\n",
    "\n",
    ">M- finding motivation, someone is always better, smart team members at her inter they hired and wanted a website to be made, specific project and purpose is helpful to learn, syntax was fustrating, google can answer all of your syntax problems\n",
    "\n",
    ">AL- starting and temptation to BS, always have a mindset to go above and beyond then do cookie cutter jobs\n",
    "\n",
    ">N- getting started in a new area, liked to structure, not always have an organized and do things to start coding"
   ]
  },
  {
   "cell_type": "markdown",
   "metadata": {},
   "source": [
    "Q: Any PBL senarios [project based learning]\n",
    "\n",
    ">C- UCSD always has 1 hands on as a freshman and 1 hands on as a senior, problem solving, designing, and programing, SCRUM and agile flow, PBL won't go away still will show up in learning\n",
    "\n",
    ">AN- would kinda go away mix of PBL and fun but, PBL is still larger involved in mostly the UCs, and probably if you are taking the compsci course it will show up there\n",
    "\n",
    ">M- both in class and out of class, there are 200+ people in the lecture hall to study in groups and work with others in a larger sized class since you can't really ask questions. Structured in a way of sprints learning good to get experience beforehand. Many intern hires don't expect them to know anything so ask questions!"
   ]
  },
  {
   "cell_type": "markdown",
   "metadata": {},
   "source": [
    "### Takeaways and Insights from event"
   ]
  },
  {
   "cell_type": "markdown",
   "metadata": {},
   "source": [
    "Not only is coding used in the classroom but it can be taken outside and used in many different senarios that you may not think of. Many of the allumni take their coding outside and even use it in their internships and or jobs they work at. Not all of them may have an inspiration for coding but they all have relized that coding will help them in their future and depending how they use it is now up to them!"
   ]
  }
 ],
 "metadata": {
  "kernelspec": {
   "display_name": "Python 3.8.9 64-bit",
   "language": "python",
   "name": "python3"
  },
  "language_info": {
   "name": "python",
   "version": "3.8.9"
  },
  "orig_nbformat": 4,
  "vscode": {
   "interpreter": {
    "hash": "31f2aee4e71d21fbe5cf8b01ff0e069b9275f58929596ceb00d14d90e3e16cd6"
   }
  }
 },
 "nbformat": 4,
 "nbformat_minor": 2
}
