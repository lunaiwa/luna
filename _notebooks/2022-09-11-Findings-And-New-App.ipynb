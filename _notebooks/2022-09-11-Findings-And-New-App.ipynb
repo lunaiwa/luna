{
 "cells": [
  {
   "cell_type": "markdown",
   "metadata": {},
   "source": [
    "# Findings and New App\n",
    "> New app quiz and finidings \n",
    "\n",
    "- title: Findings and New App\n",
    "- toc: true\n",
    "- comments: truediv\n",
    "- categories: [notes]"
   ]
  },
  {
   "cell_type": "markdown",
   "metadata": {},
   "source": [
    "### Outline - compsci vocab terms\n",
    "\n",
    "- creating a app that has a quiz focusing on the current vocab words \n",
    "- has a purple theme to match the theme of my website and logo\n",
    "- uses different ways to input an answer\n",
    "- has a \"fail\" and \"winning\" page\n",
    "- has three questions to make it simple"
   ]
  },
  {
   "cell_type": "markdown",
   "metadata": {},
   "source": [
    "### Building\n",
    "\n",
    "Building the app was easier then I thought it would be in the begining. Unlike other codes I have done so far the website had premade codes whcih I used to create the app. I mostly used the \"OnEvent\", \"Console\", and \"setscreen\" buttons to creat my quiz. The quiz is made of computer science vocab that we have learned these past weeks. The terms I used are my favorite terms and ones we use most in the class. I also added in a meme if you use the slider in the \"fail\" screen. It's a really hidden one. I tried to use different ways to input an answer like the bubble buttons and just clicking the box with the answer in it. I had a theme that matched my website logo and even put the logo in the front. Adding pictures was really nice too and it was easier then the coding way becuase I could just add them from my computer or use the image address."
   ]
  },
  {
   "cell_type": "markdown",
   "metadata": {},
   "source": [
    "### Link To App on Web\n",
    "\n",
    "https://studio.code.org/projects/applab/pK0X670gjhU8EmO0NMbaJigSTuvGsCZCO_xMq3SiLls"
   ]
  },
  {
   "cell_type": "markdown",
   "metadata": {},
   "source": [
    "### Finidings \n",
    "\n",
    "Using the code.org is easier then using Python and other coding programs because the blocks act as a premade coding system. Not only are the blocks helpful to use but you can also veiw the code in the normal format by just clicking a button. This website allows for me and others to easily create different apps and programs by just putting different blocks together. The website also allows you to see what the finished product might look like on the left side of the screen. Any program that you have made can also be run and tested by just the click of a button. Images can be easily imported into the program. This is also easily accessable since this whole program can be run in your own web browser. "
   ]
  }
 ],
 "metadata": {
  "kernelspec": {
   "display_name": "Python 3.8.2 64-bit",
   "language": "python",
   "name": "python3"
  },
  "language_info": {
   "name": "python",
   "version": "3.8.2"
  },
  "orig_nbformat": 4,
  "vscode": {
   "interpreter": {
    "hash": "31f2aee4e71d21fbe5cf8b01ff0e069b9275f58929596ceb00d14d90e3e16cd6"
   }
  }
 },
 "nbformat": 4,
 "nbformat_minor": 2
}
