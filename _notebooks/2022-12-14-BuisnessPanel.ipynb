{
 "cells": [
  {
   "attachments": {},
   "cell_type": "markdown",
   "metadata": {},
   "source": [
    "# Computer Science/Technical Business Panel\n",
    "> Experts talking about journey, education, and employment\n",
    "\n",
    "- title: Computer Science/Technical Business Panel\n",
    "- toc: true\n",
    "- comments: true\n",
    "- badges: true\n",
    "- categories: [speakers]"
   ]
  },
  {
   "attachments": {},
   "cell_type": "markdown",
   "metadata": {},
   "source": [
    "<hr/>"
   ]
  },
  {
   "attachments": {},
   "cell_type": "markdown",
   "metadata": {},
   "source": [
    "### Kathyleen Beveridge"
   ]
  },
  {
   "attachments": {},
   "cell_type": "markdown",
   "metadata": {},
   "source": [
    "> Project Management"
   ]
  },
  {
   "cell_type": "code",
   "execution_count": null,
   "metadata": {},
   "outputs": [],
   "source": []
  },
  {
   "attachments": {},
   "cell_type": "markdown",
   "metadata": {},
   "source": [
    "Journey though high tech and how it influenced her life"
   ]
  },
  {
   "attachments": {},
   "cell_type": "markdown",
   "metadata": {},
   "source": [
    "**Life Story**"
   ]
  },
  {
   "attachments": {},
   "cell_type": "markdown",
   "metadata": {},
   "source": [
    "- Born in Vietnam\n",
    "- Califronia in 1980\n",
    "- Study abroad in Spain\n",
    "- Move to San Diego in 2004\n",
    "- Next carrer rotation maybe somewhere in the world\n",
    "- Finance and bachlor in San Francisco"
   ]
  },
  {
   "attachments": {},
   "cell_type": "markdown",
   "metadata": {},
   "source": [
    "**Quote She Lives by**"
   ]
  },
  {
   "attachments": {},
   "cell_type": "markdown",
   "metadata": {},
   "source": [
    "\" mission in life is not to survive but by compassion, humor, and style"
   ]
  },
  {
   "attachments": {},
   "cell_type": "markdown",
   "metadata": {},
   "source": [
    "**Carrer Path**"
   ]
  },
  {
   "attachments": {},
   "cell_type": "markdown",
   "metadata": {},
   "source": [
    "- Finance major was an envestment major in bank from 95' to 96' and relized she didn't like it\n",
    "- Switched carrer to high tech\n",
    "- Was really burnt out so moved to Sand Diego \n",
    "- Learned to surf\n",
    "- Switched to Qualcome\n",
    "- Left five years ago \n",
    "- In biotech but hires people"
   ]
  },
  {
   "attachments": {},
   "cell_type": "markdown",
   "metadata": {},
   "source": [
    "Senior director of marketing and sales and directs 15 people and works with directors, and goes through different stage gate (NPI). Before comercializing product they go through \"voice of sales and customer\" does it make sense. And when they feel that it works well they will work with the SCRUM master to help bring the product to the world."
   ]
  },
  {
   "attachments": {},
   "cell_type": "markdown",
   "metadata": {},
   "source": [
    "Loves to take a concept and build it to make an impact onto the world"
   ]
  },
  {
   "attachments": {},
   "cell_type": "markdown",
   "metadata": {},
   "source": [
    "**Companies**"
   ]
  },
  {
   "attachments": {},
   "cell_type": "markdown",
   "metadata": {},
   "source": [
    "- \"Create tech that makes life better everywhere\"\n",
    "- \"In venting tech everyone loves\"\n",
    "- \"Enable customers to help the world\""
   ]
  },
  {
   "attachments": {},
   "cell_type": "markdown",
   "metadata": {},
   "source": [
    "Commonalities are that they all use tech for the good of the people and the world, or for the benefit of the people. This is the reason why she switched to high tech and why she loves it. When she was in banking she was just helping them retire and she didn't feel that it wasn't her calling."
   ]
  },
  {
   "attachments": {},
   "cell_type": "markdown",
   "metadata": {},
   "source": [
    "Every company she worked in she had a macro impact on the world and at one point the Qualcome chips were in 95% of all cellphones in the world. Everyday a bilion people are impacted by Qualcome's technology."
   ]
  },
  {
   "attachments": {},
   "cell_type": "markdown",
   "metadata": {},
   "source": [
    "**Conclusion**"
   ]
  },
  {
   "attachments": {},
   "cell_type": "markdown",
   "metadata": {},
   "source": [
    "Beveridge really enjoy's her high-tech job becuase she is able to impact people's lives daily"
   ]
  },
  {
   "attachments": {},
   "cell_type": "markdown",
   "metadata": {},
   "source": [
    "<hr>"
   ]
  },
  {
   "attachments": {},
   "cell_type": "markdown",
   "metadata": {},
   "source": [
    "### Kris Porter"
   ]
  },
  {
   "attachments": {},
   "cell_type": "markdown",
   "metadata": {},
   "source": [
    "> Developer Operation, SRE, Infastructure, "
   ]
  },
  {
   "attachments": {},
   "cell_type": "markdown",
   "metadata": {},
   "source": [
    "**Life Story**"
   ]
  },
  {
   "attachments": {},
   "cell_type": "markdown",
   "metadata": {},
   "source": [
    "- Livermore high school\n",
    "- Math and physics and CS classes when started\n",
    "- Went to USLA for engineering for bachlors and master\n",
    "- First CS class was second \n",
    "- Failed first and second classes\n",
    "- Ended up doing CS anyway\n",
    "- Studies radar and wireless systems\n",
    "- Moved to San Diego with girlfriend\n",
    "- Went to Qualcome -> engineering, devops, and monitoring\n",
    "- Works at Twitter"
   ]
  },
  {
   "attachments": {},
   "cell_type": "markdown",
   "metadata": {},
   "source": [
    "**Carrer**"
   ]
  },
  {
   "attachments": {},
   "cell_type": "markdown",
   "metadata": {},
   "source": [
    "- Undergrad and grad school\n",
    "- Where he got into some things when the stock market crashed\n",
    "- Reasearch project \"network internet mech. systems\"\n",
    "- Worked at shop which would fix Mac comps.\n",
    "- Deployed machine in enviroment to get info.\n",
    "- Where he learned lynix\n",
    "- Worked at a startup in 2010 and was devop\n",
    "- Stream and media for the Olymics 2012"
   ]
  },
  {
   "attachments": {},
   "cell_type": "markdown",
   "metadata": {},
   "source": [
    "Startup was for email for buisness by automation and basically some secuirty a bit and some networking. Encryption of everything."
   ]
  },
  {
   "attachments": {},
   "cell_type": "markdown",
   "metadata": {},
   "source": [
    "**Companies**"
   ]
  },
  {
   "attachments": {},
   "cell_type": "markdown",
   "metadata": {},
   "source": [
    "- Twitter\n",
    "- Small Start-ups\n",
    "- Qualcome"
   ]
  },
  {
   "attachments": {},
   "cell_type": "markdown",
   "metadata": {},
   "source": [
    "**Projects**"
   ]
  },
  {
   "attachments": {},
   "cell_type": "markdown",
   "metadata": {},
   "source": [
    "- Contiuous learning is better\n",
    "- Gets bored and learns things along the way\n",
    "- Twitter Projects\n",
    "- New data center deployment\n",
    "- New timeline used to be rest API and new to graph ul"
   ]
  },
  {
   "attachments": {},
   "cell_type": "markdown",
   "metadata": {},
   "source": [
    "<hr/>"
   ]
  },
  {
   "attachments": {},
   "cell_type": "markdown",
   "metadata": {},
   "source": [
    "### Q/A"
   ]
  },
  {
   "attachments": {},
   "cell_type": "markdown",
   "metadata": {},
   "source": [
    "**Agile Methodology**"
   ]
  },
  {
   "attachments": {},
   "cell_type": "markdown",
   "metadata": {},
   "source": [
    "P - Different companies have own version of agile and different companies use it on their own way, at Qualcome all people worked together in big meeting no matter how short or long the project was."
   ]
  },
  {
   "attachments": {},
   "cell_type": "markdown",
   "metadata": {},
   "source": [
    "B - Projects can go from 6 month to 9 month and do short sprints, what can you do in 3 months, 2 months."
   ]
  },
  {
   "attachments": {},
   "cell_type": "markdown",
   "metadata": {},
   "source": [
    "**Twitter**"
   ]
  },
  {
   "attachments": {},
   "cell_type": "markdown",
   "metadata": {},
   "source": [
    "P - don't work at Twitter anymore and works at other company, very interesting and was interesting company and was laided off and requirment to work at their office in San Francisco."
   ]
  },
  {
   "attachments": {},
   "cell_type": "markdown",
   "metadata": {},
   "source": [
    "M - from Qualcome to Twitter determined need to find a job earlier when Elon Musk, whenever you see a company shuffle you always look for plan B"
   ]
  },
  {
   "attachments": {},
   "cell_type": "markdown",
   "metadata": {},
   "source": [
    "**Machine Learning**"
   ]
  },
  {
   "attachments": {},
   "cell_type": "markdown",
   "metadata": {},
   "source": [
    "P - project that I was working on was to learn how to use the Python libraries and other machine learning programs to run experiemnts and only used the NDS system. Hosted a fork of GitLab and had about a hundred thousand repositories when they left. Wanted to use information to predict when to arcive and delete repositories. Wanted to know when to delete reposisotires since they were expensive"
   ]
  },
  {
   "attachments": {},
   "cell_type": "markdown",
   "metadata": {},
   "source": [
    "B - trying to join fragment databases and take massive fragment databases to see where the customers are buying. Are selling massive sensors and when Covid hit they got acess to data bases and sell data who test modification. "
   ]
  },
  {
   "attachments": {},
   "cell_type": "markdown",
   "metadata": {},
   "source": [
    "**Most important skill in tech**"
   ]
  },
  {
   "attachments": {},
   "cell_type": "markdown",
   "metadata": {},
   "source": [
    "P - the most useful overtime is continuous learning, not just learning a particular programing language and all companies have different stats and leanr different. All companies have a different way of doing things, don't be super concerned about things on the news and learning the skill to learn computer systems is fulfilling. As long as I go to a job for 6 months then as long as I learn it's ok. Everything falls into place and in tech it is in high demand."
   ]
  },
  {
   "attachments": {},
   "cell_type": "markdown",
   "metadata": {},
   "source": [
    "B - 100% continous learning and be adaptive. Carrer path is zigzaggy and jus be adaptive. The best technical person ever workng with is someone who listens to requriements and translate it into how it can slove the requirments in tech."
   ]
  },
  {
   "attachments": {},
   "cell_type": "markdown",
   "metadata": {},
   "source": [
    "**Biggest Challenges and How they Overcome it**"
   ]
  },
  {
   "attachments": {},
   "cell_type": "markdown",
   "metadata": {},
   "source": [
    "B - close to 14 years at Qualcome and is a semiconducotr industry and went through aqusisitions, learned going through aquisitions and Qualcome went out and took small companies \"Serial Aquires\" to be adaptive and always continous learning and if you keep those things you will be fine"
   ]
  },
  {
   "attachments": {},
   "cell_type": "markdown",
   "metadata": {},
   "source": [
    "P - interveiws now adays are really competetive, a series of timed random test, a problem to solve in 20-30 min and it has to work at the end no matter what at the end of the timeline."
   ]
  },
  {
   "attachments": {},
   "cell_type": "markdown",
   "metadata": {},
   "source": [
    "**Twitter University**"
   ]
  },
  {
   "attachments": {},
   "cell_type": "markdown",
   "metadata": {},
   "source": [
    "P - formal training of their own data and code becuase you can't just find it on the internet omehwere and all these things you can learn, you can't learn that way but you have to be affective at the job. Open source framework called enable, they make their own thing since they have to learn how to write a service. A monorepo, everything in the backend sits in this one reposistory and you have to be able to effectivly navigate and learn how to use this."
   ]
  },
  {
   "attachments": {},
   "cell_type": "markdown",
   "metadata": {},
   "source": [
    "**Learning to code helps in Buisnees**"
   ]
  },
  {
   "attachments": {},
   "cell_type": "markdown",
   "metadata": {},
   "source": [
    "B - friends were academicall softwear but they all move to somewhere in non tech and code. Learning to code is a way o thinking, disecting and learning. How to problem solve. Interveiwing is hard but when you are being interveiwed you are tested with problem solving and why you reach the conclusion that you did . \"In a room with whiteboard, notepad, and pen 'how many cars are in the US\". Doesn''t care about the answer but just the method that you did to get there. Understanding patters and learning techniques."
   ]
  },
  {
   "attachments": {},
   "cell_type": "markdown",
   "metadata": {},
   "source": [
    "**New Learning**"
   ]
  },
  {
   "attachments": {},
   "cell_type": "markdown",
   "metadata": {},
   "source": [
    "P - next role is interested in web3 and clock change tech and haven't worked in AWS that much in job so that and google cloud things."
   ]
  },
  {
   "attachments": {},
   "cell_type": "markdown",
   "metadata": {},
   "source": [
    "<hr/>"
   ]
  },
  {
   "attachments": {},
   "cell_type": "markdown",
   "metadata": {},
   "source": [
    "### Conclusion and Recap."
   ]
  },
  {
   "attachments": {},
   "cell_type": "markdown",
   "metadata": {},
   "source": [
    "It doesn't matter where you go or major in because Computer Science teaches more then coding. It teaches someone how to adapt and problem solve in idfferent situations and it can teach lifelong lessons which can help you in a future carrer. Like the speakers said today, they all had different paths and they never expected to end up doing compute science, so it doesn't matter where you are right now, just adapt and explore."
   ]
  }
 ],
 "metadata": {
  "kernelspec": {
   "display_name": "Python 3",
   "language": "python",
   "name": "python3"
  },
  "language_info": {
   "name": "python",
   "version": "3.8.9 (default, Apr 13 2022, 08:48:06) \n[Clang 13.1.6 (clang-1316.0.21.2.5)]"
  },
  "orig_nbformat": 4,
  "vscode": {
   "interpreter": {
    "hash": "31f2aee4e71d21fbe5cf8b01ff0e069b9275f58929596ceb00d14d90e3e16cd6"
   }
  }
 },
 "nbformat": 4,
 "nbformat_minor": 2
}
