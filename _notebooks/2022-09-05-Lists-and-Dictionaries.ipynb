{
 "cells": [
  {
   "cell_type": "markdown",
   "metadata": {},
   "source": [
    "# Lists and Dictionaries\n",
    "> Data Abstraction using Python Lists [] and Python Dictionaries {}.\n",
    "\n",
    "- title: Lists, Dictionaries, Iteration\n",
    "- toc: true\n",
    "- comments: true\n",
    "- categories: [python]"
   ]
  },
  {
   "cell_type": "markdown",
   "metadata": {},
   "source": [
    "### Variable\n",
    "> Variables have types : string, integer, and float. Lists and Dictionaries is a key type!"
   ]
  },
  {
   "cell_type": "code",
   "execution_count": 1,
   "metadata": {},
   "outputs": [
    {
     "name": "stdout",
     "output_type": "stream",
     "text": [
      "name Luna Iwazaki <class 'str'>\n",
      "\n",
      "age 16 <class 'int'>\n",
      "\n",
      "score 3.0 <class 'float'>\n",
      "\n",
      "langs ['Python', 'JavaScript', 'Java', 'bash'] <class 'list'> length 4\n",
      "- langs[3] bash <class 'str'>\n",
      "\n",
      "person {'name': 'Luna Iwazaki', 'age': 16, 'score': 3.0, 'langs': ['Python', 'JavaScript', 'Java', 'bash']} <class 'dict'> length 4\n",
      "- person[\"name\"] Luna Iwazaki <class 'str'>\n"
     ]
    }
   ],
   "source": [
    "name = \"Luna Iwazaki\"\n",
    "print(\"name\", name, type(name))\n",
    "\n",
    "print()\n",
    "\n",
    "# variable of type integer\n",
    "age = 16\n",
    "print(\"age\", age, type(age))\n",
    "\n",
    "print()\n",
    "\n",
    "# variable of type float\n",
    "score = 3.00\n",
    "print(\"score\", score, type(score))\n",
    "\n",
    "print()\n",
    "\n",
    "# variable of type list (many values in one variable)\n",
    "langs = [\"Python\", \"JavaScript\", \"Java\", \"bash\"]\n",
    "print(\"langs\", langs, type(langs), \"length\", len(langs))\n",
    "print(\"- langs[3]\", langs[3], type(langs[3]))\n",
    "\n",
    "print()\n",
    "\n",
    "# variable of type dictionary (a group of keys and values)\n",
    "person = {\n",
    "    \"name\": name,\n",
    "    \"age\": age,\n",
    "    \"score\": score,\n",
    "    \"langs\": langs\n",
    "}\n",
    "print(\"person\", person, type(person), \"length\", len(person))\n",
    "print('- person[\"name\"]', person[\"name\"], type(person[\"name\"]))"
   ]
  },
  {
   "cell_type": "markdown",
   "metadata": {},
   "source": [
    "### Dictionaires"
   ]
  },
  {
   "cell_type": "code",
   "execution_count": 2,
   "metadata": {},
   "outputs": [
    {
     "name": "stdout",
     "output_type": "stream",
     "text": [
      "[{'FirstName': 'Luna', 'LastName': 'Iwazaki', 'DOB': 'November 19', 'Residence': 'San Diego', 'Fav_Game': 'Snake', 'Email': 'lunaiwazaki@gmail.com', 'Shapes': ['heart', 'circle', 'star']}, {'FirstName': 'Taiyo', 'LastName': 'Iwazaki', 'DOB': 'Novemebr 19', 'Residence': 'San Diego', 'Email': 'taiyoiwazaki@gmail.com', 'Fav_Game': 'Valorent', 'Shapes': ['square', 'circle', 'triangle']}]\n"
     ]
    }
   ],
   "source": [
    "infoDb = []\n",
    "\n",
    "# Append to List a Dictionary of key/values \n",
    "infoDb.append({\n",
    "    \"FirstName\": \"Luna\",\n",
    "    \"LastName\": \"Iwazaki\",\n",
    "    \"DOB\": \"November 19\",\n",
    "    \"Residence\": \"San Diego\",\n",
    "    \"Fav_Game\": \"Snake\",\n",
    "    \"Email\": \"lunaiwazaki@gmail.com\",\n",
    "    \"Shapes\": [\"heart\", \"circle\", \"star\"]\n",
    "})\n",
    "\n",
    "infoDb.append({\n",
    "    \"FirstName\": \"Taiyo\",\n",
    "    \"LastName\": \"Iwazaki\",\n",
    "    \"DOB\": \"Novemebr 19\",\n",
    "    \"Residence\": \"San Diego\",\n",
    "    \"Email\": \"taiyoiwazaki@gmail.com\",\n",
    "    \"Fav_Game\": \"Valorent\",\n",
    "    \"Shapes\": [\"square\", \"circle\", \"triangle\"]\n",
    "})\n",
    "\n",
    "# Print the data structure\n",
    "print(infoDb)\n"
   ]
  },
  {
   "cell_type": "markdown",
   "metadata": {},
   "source": [
    "### Loop Output\n",
    "> List printing"
   ]
  },
  {
   "cell_type": "code",
   "execution_count": 3,
   "metadata": {},
   "outputs": [
    {
     "name": "stdout",
     "output_type": "stream",
     "text": [
      "For loop output\n",
      "\n",
      "{'FirstName': 'Luna', 'LastName': 'Iwazaki', 'DOB': 'November 19', 'Residence': 'San Diego', 'Fav_Game': 'Snake', 'Email': 'lunaiwazaki@gmail.com', 'Shapes': ['heart', 'circle', 'star']}\n",
      "{'FirstName': 'Taiyo', 'LastName': 'Iwazaki', 'DOB': 'Novemebr 19', 'Residence': 'San Diego', 'Email': 'taiyoiwazaki@gmail.com', 'Fav_Game': 'Valorent', 'Shapes': ['square', 'circle', 'triangle']}\n"
     ]
    }
   ],
   "source": [
    "def for_loop():\n",
    "    print(\"For loop output\\n\")\n",
    "    for record in infoDb:\n",
    "        print(record)\n",
    "\n",
    "for_loop()"
   ]
  },
  {
   "cell_type": "markdown",
   "metadata": {},
   "source": [
    "### Loops and Index"
   ]
  },
  {
   "cell_type": "code",
   "execution_count": 4,
   "metadata": {},
   "outputs": [
    {
     "name": "stdout",
     "output_type": "stream",
     "text": [
      "For loop with index output\n",
      "\n",
      "Taiyo Iwazaki\n",
      "\t Residence: San Diego\n",
      "\t Birth Day: Novemebr 19\n",
      "\t Game Valorent\n",
      "\t Email: taiyoiwazaki@gmail.com\n",
      "\t Shapes: square, circle, triangle\n",
      "\n",
      "Luna Iwazaki\n",
      "\t Residence: San Diego\n",
      "\t Birth Day: November 19\n",
      "\t Game Snake\n",
      "\t Email: lunaiwazaki@gmail.com\n",
      "\t Shapes: heart, circle, star\n",
      "\n"
     ]
    }
   ],
   "source": [
    "def print_data(d_rec): #formatting\n",
    "    print(d_rec[\"FirstName\"], d_rec[\"LastName\"])  # using comma puts space between values\n",
    "    print(\"\\t\", \"Residence:\", d_rec[\"Residence\"]) # \\t is a tab indent\n",
    "    print(\"\\t\", \"Birth Day:\", d_rec[\"DOB\"])\n",
    "    print(\"\\t\", \"Game\", d_rec[\"Fav_Game\"])\n",
    "    print(\"\\t\", \"Email:\", d_rec[\"Email\"])\n",
    "    print(\"\\t\", \"Shapes: \", end=\"\")  # end=\"\" make sure no return occurs\n",
    "    print(\", \".join(d_rec[\"Shapes\"]))  # join allows printing a string list with separator\n",
    "    print()\n",
    "\n",
    "# for loop iterates on length of InfoDb\n",
    "def for_loop():\n",
    "    print(\"For loop with index output\\n\")\n",
    "    length = len(infoDb) #figures out the length of the list infoDb (which is 2 because there are 2 dictionaries in the list)\n",
    "    ran = range(length) #defines ran as the range of the length. (this is 0 and 1 because the length is 2)\n",
    "    for index in reversed(ran): #index is 0 and 1 so it takes the indexes of infoDb. 0 would be the first dictionary and 1 would be the second. reversed prints them as 1 0 instead of 0 1\n",
    "        print_data(infoDb[index])\n",
    "\n",
    "for_loop()"
   ]
  },
  {
   "cell_type": "markdown",
   "metadata": {},
   "source": [
    "### While Loop Output"
   ]
  },
  {
   "cell_type": "code",
   "execution_count": 5,
   "metadata": {},
   "outputs": [
    {
     "name": "stdout",
     "output_type": "stream",
     "text": [
      "While loop output\n",
      "\n",
      "Luna Iwazaki\n",
      "\t Residence: San Diego\n",
      "\t Birth Day: November 19\n",
      "\t Game Snake\n",
      "\t Email: lunaiwazaki@gmail.com\n",
      "\t Shapes: heart, circle, star\n",
      "\n",
      "Taiyo Iwazaki\n",
      "\t Residence: San Diego\n",
      "\t Birth Day: Novemebr 19\n",
      "\t Game Valorent\n",
      "\t Email: taiyoiwazaki@gmail.com\n",
      "\t Shapes: square, circle, triangle\n",
      "\n"
     ]
    }
   ],
   "source": [
    "def while_loop():\n",
    "    print(\"While loop output\\n\")\n",
    "    i = 0 \n",
    "    while i < len(infoDb): #length is 2 so while i is less than, it will keep printing\n",
    "        record = infoDb[i] #defines the record as the index of the list\n",
    "        print_data(record) #prints that index using the formatted print function\n",
    "        i += 1 #adds 1 and returns to the top till i is no longer <2\n",
    "    return\n",
    "\n",
    "while_loop()"
   ]
  },
  {
   "cell_type": "markdown",
   "metadata": {},
   "source": [
    "### Recursive Loop"
   ]
  },
  {
   "cell_type": "code",
   "execution_count": 6,
   "metadata": {},
   "outputs": [
    {
     "name": "stdout",
     "output_type": "stream",
     "text": [
      "Recursive loop output\n",
      "\n",
      "Luna Iwazaki\n",
      "\t Residence: San Diego\n",
      "\t Birth Day: November 19\n",
      "\t Game Snake\n",
      "\t Email: lunaiwazaki@gmail.com\n",
      "\t Shapes: heart, circle, star\n",
      "\n",
      "Taiyo Iwazaki\n",
      "\t Residence: San Diego\n",
      "\t Birth Day: Novemebr 19\n",
      "\t Game Valorent\n",
      "\t Email: taiyoiwazaki@gmail.com\n",
      "\t Shapes: square, circle, triangle\n",
      "\n"
     ]
    }
   ],
   "source": [
    "def recursive_loop(i):\n",
    "    if i < len(infoDb): #ensures the code stops after it recurses through all the indexes since length determines amount of indexes\n",
    "        record = infoDb[i] #defines record as the index of infoDb\n",
    "        print_data(record) #prints using the formatted print function\n",
    "        recursive_loop(i + 1) #adds 1 to the original index and returns until i is no longer <2\n",
    "    return\n",
    "    \n",
    "print(\"Recursive loop output\\n\")\n",
    "\n",
    "recursive_loop(0)"
   ]
  },
  {
   "cell_type": "markdown",
   "metadata": {},
   "source": [
    "### Add-Search-Delete"
   ]
  },
  {
   "cell_type": "code",
   "execution_count": 14,
   "metadata": {},
   "outputs": [
    {
     "ename": "NameError",
     "evalue": "name 'infoDb' is not defined",
     "output_type": "error",
     "traceback": [
      "\u001b[0;31m---------------------------------------------------------------------------\u001b[0m",
      "\u001b[0;31mNameError\u001b[0m                                 Traceback (most recent call last)",
      "\u001b[1;32m/Users/sony/iwazaki-1/_notebooks/2022-09-05-Lists-and-Dictionaries.ipynb Cell 15\u001b[0m in \u001b[0;36m<cell line: 1>\u001b[0;34m()\u001b[0m\n\u001b[0;32m----> <a href='vscode-notebook-cell:/Users/sony/iwazaki-1/_notebooks/2022-09-05-Lists-and-Dictionaries.ipynb#X20sZmlsZQ%3D%3D?line=0'>1</a>\u001b[0m infoDb\u001b[39m.\u001b[39mappend({\n\u001b[1;32m      <a href='vscode-notebook-cell:/Users/sony/iwazaki-1/_notebooks/2022-09-05-Lists-and-Dictionaries.ipynb#X20sZmlsZQ%3D%3D?line=1'>2</a>\u001b[0m     \u001b[39m\"\u001b[39m\u001b[39mFirstName\u001b[39m\u001b[39m\"\u001b[39m: \u001b[39m\"\u001b[39m\u001b[39mLuna\u001b[39m\u001b[39m\"\u001b[39m,\n\u001b[1;32m      <a href='vscode-notebook-cell:/Users/sony/iwazaki-1/_notebooks/2022-09-05-Lists-and-Dictionaries.ipynb#X20sZmlsZQ%3D%3D?line=2'>3</a>\u001b[0m     \u001b[39m\"\u001b[39m\u001b[39mLastName\u001b[39m\u001b[39m\"\u001b[39m: \u001b[39m\"\u001b[39m\u001b[39mIwazaki\u001b[39m\u001b[39m\"\u001b[39m,\n\u001b[1;32m      <a href='vscode-notebook-cell:/Users/sony/iwazaki-1/_notebooks/2022-09-05-Lists-and-Dictionaries.ipynb#X20sZmlsZQ%3D%3D?line=3'>4</a>\u001b[0m     \u001b[39m\"\u001b[39m\u001b[39mDOB\u001b[39m\u001b[39m\"\u001b[39m: \u001b[39m\"\u001b[39m\u001b[39mNovemeber 19\u001b[39m\u001b[39m\"\u001b[39m,\n\u001b[1;32m      <a href='vscode-notebook-cell:/Users/sony/iwazaki-1/_notebooks/2022-09-05-Lists-and-Dictionaries.ipynb#X20sZmlsZQ%3D%3D?line=4'>5</a>\u001b[0m     \u001b[39m\"\u001b[39m\u001b[39mResidence\u001b[39m\u001b[39m\"\u001b[39m: \u001b[39m\"\u001b[39m\u001b[39mSan Diego\u001b[39m\u001b[39m\"\u001b[39m,\n\u001b[1;32m      <a href='vscode-notebook-cell:/Users/sony/iwazaki-1/_notebooks/2022-09-05-Lists-and-Dictionaries.ipynb#X20sZmlsZQ%3D%3D?line=5'>6</a>\u001b[0m     \u001b[39m\"\u001b[39m\u001b[39mFav_Game\u001b[39m\u001b[39m\"\u001b[39m: \u001b[39m\"\u001b[39m\u001b[39mSnake\u001b[39m\u001b[39m\"\u001b[39m,\n\u001b[1;32m      <a href='vscode-notebook-cell:/Users/sony/iwazaki-1/_notebooks/2022-09-05-Lists-and-Dictionaries.ipynb#X20sZmlsZQ%3D%3D?line=6'>7</a>\u001b[0m     \u001b[39m\"\u001b[39m\u001b[39mEmail\u001b[39m\u001b[39m\"\u001b[39m: \u001b[39m\"\u001b[39m\u001b[39mlunaiwazaki@gmail.com\u001b[39m\u001b[39m\"\u001b[39m,\n\u001b[1;32m      <a href='vscode-notebook-cell:/Users/sony/iwazaki-1/_notebooks/2022-09-05-Lists-and-Dictionaries.ipynb#X20sZmlsZQ%3D%3D?line=7'>8</a>\u001b[0m })\n\u001b[1;32m     <a href='vscode-notebook-cell:/Users/sony/iwazaki-1/_notebooks/2022-09-05-Lists-and-Dictionaries.ipynb#X20sZmlsZQ%3D%3D?line=9'>10</a>\u001b[0m infoDb\u001b[39m.\u001b[39mappend({\n\u001b[1;32m     <a href='vscode-notebook-cell:/Users/sony/iwazaki-1/_notebooks/2022-09-05-Lists-and-Dictionaries.ipynb#X20sZmlsZQ%3D%3D?line=10'>11</a>\u001b[0m     \u001b[39m\"\u001b[39m\u001b[39mFirstName\u001b[39m\u001b[39m\"\u001b[39m: \u001b[39m\"\u001b[39m\u001b[39mTaiyo\u001b[39m\u001b[39m\"\u001b[39m,\n\u001b[1;32m     <a href='vscode-notebook-cell:/Users/sony/iwazaki-1/_notebooks/2022-09-05-Lists-and-Dictionaries.ipynb#X20sZmlsZQ%3D%3D?line=11'>12</a>\u001b[0m     \u001b[39m\"\u001b[39m\u001b[39mLastName\u001b[39m\u001b[39m\"\u001b[39m: \u001b[39m\"\u001b[39m\u001b[39mIwazaki\u001b[39m\u001b[39m\"\u001b[39m,\n\u001b[0;32m   (...)\u001b[0m\n\u001b[1;32m     <a href='vscode-notebook-cell:/Users/sony/iwazaki-1/_notebooks/2022-09-05-Lists-and-Dictionaries.ipynb#X20sZmlsZQ%3D%3D?line=15'>16</a>\u001b[0m     \u001b[39m\"\u001b[39m\u001b[39mFav_Game\u001b[39m\u001b[39m\"\u001b[39m: \u001b[39m\"\u001b[39m\u001b[39mValorent\u001b[39m\u001b[39m\"\u001b[39m,\n\u001b[1;32m     <a href='vscode-notebook-cell:/Users/sony/iwazaki-1/_notebooks/2022-09-05-Lists-and-Dictionaries.ipynb#X20sZmlsZQ%3D%3D?line=16'>17</a>\u001b[0m })\n\u001b[1;32m     <a href='vscode-notebook-cell:/Users/sony/iwazaki-1/_notebooks/2022-09-05-Lists-and-Dictionaries.ipynb#X20sZmlsZQ%3D%3D?line=18'>19</a>\u001b[0m \u001b[39mdef\u001b[39;00m \u001b[39mprint_data2\u001b[39m(d_rec): \u001b[39m#formatting\u001b[39;00m\n",
      "\u001b[0;31mNameError\u001b[0m: name 'infoDb' is not defined"
     ]
    }
   ],
   "source": [
    "\n",
    "\n",
    "infoDb.append({\n",
    "    \"FirstName\": \"Luna\",\n",
    "    \"LastName\": \"Iwazaki\",\n",
    "    \"DOB\": \"Novemeber 19\",\n",
    "    \"Residence\": \"San Diego\",\n",
    "    \"Fav_Game\": \"Snake\",\n",
    "    \"Email\": \"lunaiwazaki@gmail.com\",\n",
    "})\n",
    "\n",
    "infoDb.append({\n",
    "    \"FirstName\": \"Taiyo\",\n",
    "    \"LastName\": \"Iwazaki\",\n",
    "    \"DOB\": \"Novemeber 19\",\n",
    "    \"Residence\": \"San Diego\",\n",
    "    \"Email\": \"taiyoiwazaki@gmail.com\",\n",
    "    \"Fav_Game\": \"Valorent\",\n",
    "})\n",
    "\n",
    "def print_data2(d_rec): #formatting\n",
    "    print(d_rec[\"FirstName\"], d_rec[\"LastName\"])  # using comma puts space between values\n",
    "    print(\"\\t\", \"Residence:\", d_rec[\"Residence\"]) # \\t is a tab indent\n",
    "    print(\"\\t\", \"Birth Day:\", d_rec[\"DOB\"])\n",
    "    print(\"\\t\", \"Favorite Game:\", d_rec[\"Fav_Game\"])\n",
    "    print(\"\\t\", \"Email:\", d_rec[\"Email\"])\n",
    "    print()\n",
    "\n",
    "def data_entry(): #defining the function that asks for user input\n",
    "    Firstname = input(\"What is your firstname?\")\n",
    "    Lastname = input(\"What is your lastname\")\n",
    "    DOB = input(\"When is your birthday\")\n",
    "    Email = input(\"What is your Email\")\n",
    "    Movie = input(\"What is your favorite game?\")\n",
    "    Residence = input(\"Where do you live?\")\n",
    "\n",
    "    infoDb.append({ #appends the user input to the dictionary\n",
    "        \"FirstName\": Firstname,\n",
    "        \"LastName\": Lastname,\n",
    "        \"DOB\": DOB,\n",
    "        \"Email\": Email,\n",
    "        \"Residence\": Residence,\n",
    "        \"Fav_Game\": Movie,\n",
    "   \n",
    "    })\n",
    "\n",
    "def search_data(firstname):\n",
    "    for record in infoDb:\n",
    "        if record[\"FirstName\"] == firstname: #compares the already existing name to the name inputted with the firstname variable\n",
    "            return record\n",
    "\n",
    "    return NULL\n",
    "\n",
    "def data_delete(firstname):\n",
    "    record = search_data(firstname) #defines record as the name inputted with the search function\n",
    "    if (record != NULL): #if the record doesn't equal null (does it exist?) then the next line removes it\n",
    "        infoDb.remove(record)\n",
    "        print(firstname, \"has been deleted!\")\n",
    "    else:\n",
    "        print(\"Record not found!\")\n",
    "\n",
    "def main():\n",
    "    Continue = True #defining continue as true\n",
    "    while Continue:\n",
    "        lol = input(\"What would you like to do (add/search/delete, type no if you want to exit)?\")\n",
    "        if lol == \"no\":\n",
    "            print(\"Come back again!\")\n",
    "            Continue = False\n",
    "        elif lol == \"add\":\n",
    "            data_entry()\n",
    "        elif lol == \"search\":\n",
    "            firstname = input(\"Who do you want to search (firstname)?\")\n",
    "            record = search_data(firstname) #defines record as the input \"name\" and runs it through the search function\n",
    "            print_data2(record)\n",
    "        elif lol == \"delete\":\n",
    "            firstname = input(\"Who do you want to delete(firstname)\")\n",
    "            data_delete(firstname)\n",
    "        else:\n",
    "            print(\"Invalid input. Please try again\")\n",
    "\n",
    "    length = len(infoDb) #defines length as the number of records\n",
    "    print(\"Total Number of Records: \", length) \n",
    "    for record in infoDb:\n",
    "            print_data2(record)\n",
    " \n",
    "main()"
   ]
  },
  {
   "cell_type": "markdown",
   "metadata": {},
   "source": [
    "### Quiz"
   ]
  },
  {
   "cell_type": "code",
   "execution_count": 7,
   "metadata": {},
   "outputs": [
    {
     "name": "stdout",
     "output_type": "stream",
     "text": [
      "Take this quiz to test your vocab!\n",
      "Question: What is the definition of INPUT? \t instructions given to a computer \t computer paper \t paper instructions\n",
      "Answer: instructions given to a computer\n",
      "Correct!\n",
      "Question: What is a squence? \t a line of code \t several lines of code  \t a button\n"
     ]
    },
    {
     "ename": "KeyboardInterrupt",
     "evalue": "Interrupted by user",
     "output_type": "error",
     "traceback": [
      "\u001b[0;31m---------------------------------------------------------------------------\u001b[0m",
      "\u001b[0;31mKeyboardInterrupt\u001b[0m                         Traceback (most recent call last)",
      "\u001b[1;32m/Users/sony/iwazaki-1/_notebooks/2022-09-05-Lists-and-Dictionaries.ipynb Cell 17\u001b[0m in \u001b[0;36m<cell line: 21>\u001b[0;34m()\u001b[0m\n\u001b[1;32m     <a href='vscode-notebook-cell:/Users/sony/iwazaki-1/_notebooks/2022-09-05-Lists-and-Dictionaries.ipynb#X22sZmlsZQ%3D%3D?line=17'>18</a>\u001b[0m     \u001b[39mreturn\u001b[39;00m msg\n\u001b[1;32m     <a href='vscode-notebook-cell:/Users/sony/iwazaki-1/_notebooks/2022-09-05-Lists-and-Dictionaries.ipynb#X22sZmlsZQ%3D%3D?line=19'>20</a>\u001b[0m Q1 \u001b[39m=\u001b[39m question_and_answer(\u001b[39m\"\u001b[39m\u001b[39mWhat is the definition of INPUT? \u001b[39m\u001b[39m\\t\u001b[39;00m\u001b[39m instructions given to a computer \u001b[39m\u001b[39m\\t\u001b[39;00m\u001b[39m computer paper \u001b[39m\u001b[39m\\t\u001b[39;00m\u001b[39m paper instructions\u001b[39m\u001b[39m\"\u001b[39m, \u001b[39m\"\u001b[39m\u001b[39minstructions given to a computer\u001b[39m\u001b[39m\"\u001b[39m)\n\u001b[0;32m---> <a href='vscode-notebook-cell:/Users/sony/iwazaki-1/_notebooks/2022-09-05-Lists-and-Dictionaries.ipynb#X22sZmlsZQ%3D%3D?line=20'>21</a>\u001b[0m Q2 \u001b[39m=\u001b[39m question_and_answer(\u001b[39m\"\u001b[39;49m\u001b[39mWhat is a squence? \u001b[39;49m\u001b[39m\\t\u001b[39;49;00m\u001b[39m a line of code \u001b[39;49m\u001b[39m\\t\u001b[39;49;00m\u001b[39m several lines of code  \u001b[39;49m\u001b[39m\\t\u001b[39;49;00m\u001b[39m a button\u001b[39;49m\u001b[39m\"\u001b[39;49m, \u001b[39m\"\u001b[39;49m\u001b[39mseveral lines of code\u001b[39;49m\u001b[39m\"\u001b[39;49m)\n\u001b[1;32m     <a href='vscode-notebook-cell:/Users/sony/iwazaki-1/_notebooks/2022-09-05-Lists-and-Dictionaries.ipynb#X22sZmlsZQ%3D%3D?line=21'>22</a>\u001b[0m Q3 \u001b[39m=\u001b[39m question_and_answer(\u001b[39m\"\u001b[39m\u001b[39mWhat is an output? \u001b[39m\u001b[39m\\t\u001b[39;00m\u001b[39m information a computer gives \u001b[39m\u001b[39m\\t\u001b[39;00m\u001b[39m a computer tab \u001b[39m\u001b[39m\\t\u001b[39;00m\u001b[39m going outside\u001b[39m\u001b[39m\"\u001b[39m, \u001b[39m\"\u001b[39m\u001b[39minformation a computer gives\u001b[39m\u001b[39m\"\u001b[39m)\n\u001b[1;32m     <a href='vscode-notebook-cell:/Users/sony/iwazaki-1/_notebooks/2022-09-05-Lists-and-Dictionaries.ipynb#X22sZmlsZQ%3D%3D?line=22'>23</a>\u001b[0m Q4 \u001b[39m=\u001b[39m question_and_answer(\u001b[39m\"\u001b[39m\u001b[39mWhat does a variable do? \u001b[39m\u001b[39m\\t\u001b[39;00m\u001b[39m gives variety \u001b[39m\u001b[39m\\t\u001b[39;00m\u001b[39m a way to store your paper files \u001b[39m\u001b[39m\\t\u001b[39;00m\u001b[39m way to name, store data, and reference data\u001b[39m\u001b[39m\"\u001b[39m, \u001b[39m\"\u001b[39m\u001b[39mway to name, store data, and reference data\u001b[39m\u001b[39m\"\u001b[39m)\n",
      "\u001b[1;32m/Users/sony/iwazaki-1/_notebooks/2022-09-05-Lists-and-Dictionaries.ipynb Cell 17\u001b[0m in \u001b[0;36mquestion_and_answer\u001b[0;34m(prompt, answer)\u001b[0m\n\u001b[1;32m      <a href='vscode-notebook-cell:/Users/sony/iwazaki-1/_notebooks/2022-09-05-Lists-and-Dictionaries.ipynb#X22sZmlsZQ%3D%3D?line=5'>6</a>\u001b[0m \u001b[39mdef\u001b[39;00m \u001b[39mquestion_and_answer\u001b[39m(prompt, answer):\n\u001b[1;32m      <a href='vscode-notebook-cell:/Users/sony/iwazaki-1/_notebooks/2022-09-05-Lists-and-Dictionaries.ipynb#X22sZmlsZQ%3D%3D?line=6'>7</a>\u001b[0m     \u001b[39mprint\u001b[39m(\u001b[39m\"\u001b[39m\u001b[39mQuestion: \u001b[39m\u001b[39m\"\u001b[39m \u001b[39m+\u001b[39m prompt)\n\u001b[0;32m----> <a href='vscode-notebook-cell:/Users/sony/iwazaki-1/_notebooks/2022-09-05-Lists-and-Dictionaries.ipynb#X22sZmlsZQ%3D%3D?line=7'>8</a>\u001b[0m     msg \u001b[39m=\u001b[39m \u001b[39minput\u001b[39;49m()\n\u001b[1;32m      <a href='vscode-notebook-cell:/Users/sony/iwazaki-1/_notebooks/2022-09-05-Lists-and-Dictionaries.ipynb#X22sZmlsZQ%3D%3D?line=8'>9</a>\u001b[0m     \u001b[39mprint\u001b[39m(\u001b[39m\"\u001b[39m\u001b[39mAnswer: \u001b[39m\u001b[39m\"\u001b[39m \u001b[39m+\u001b[39m msg)\n\u001b[1;32m     <a href='vscode-notebook-cell:/Users/sony/iwazaki-1/_notebooks/2022-09-05-Lists-and-Dictionaries.ipynb#X22sZmlsZQ%3D%3D?line=10'>11</a>\u001b[0m     \u001b[39mif\u001b[39;00m answer \u001b[39m==\u001b[39m msg\u001b[39m.\u001b[39mlower():\n",
      "File \u001b[0;32m/Applications/anaconda3/lib/python3.9/site-packages/ipykernel/kernelbase.py:1177\u001b[0m, in \u001b[0;36mKernel.raw_input\u001b[0;34m(self, prompt)\u001b[0m\n\u001b[1;32m   1173\u001b[0m \u001b[39mif\u001b[39;00m \u001b[39mnot\u001b[39;00m \u001b[39mself\u001b[39m\u001b[39m.\u001b[39m_allow_stdin:\n\u001b[1;32m   1174\u001b[0m     \u001b[39mraise\u001b[39;00m StdinNotImplementedError(\n\u001b[1;32m   1175\u001b[0m         \u001b[39m\"\u001b[39m\u001b[39mraw_input was called, but this frontend does not support input requests.\u001b[39m\u001b[39m\"\u001b[39m\n\u001b[1;32m   1176\u001b[0m     )\n\u001b[0;32m-> 1177\u001b[0m \u001b[39mreturn\u001b[39;00m \u001b[39mself\u001b[39;49m\u001b[39m.\u001b[39;49m_input_request(\n\u001b[1;32m   1178\u001b[0m     \u001b[39mstr\u001b[39;49m(prompt),\n\u001b[1;32m   1179\u001b[0m     \u001b[39mself\u001b[39;49m\u001b[39m.\u001b[39;49m_parent_ident[\u001b[39m\"\u001b[39;49m\u001b[39mshell\u001b[39;49m\u001b[39m\"\u001b[39;49m],\n\u001b[1;32m   1180\u001b[0m     \u001b[39mself\u001b[39;49m\u001b[39m.\u001b[39;49mget_parent(\u001b[39m\"\u001b[39;49m\u001b[39mshell\u001b[39;49m\u001b[39m\"\u001b[39;49m),\n\u001b[1;32m   1181\u001b[0m     password\u001b[39m=\u001b[39;49m\u001b[39mFalse\u001b[39;49;00m,\n\u001b[1;32m   1182\u001b[0m )\n",
      "File \u001b[0;32m/Applications/anaconda3/lib/python3.9/site-packages/ipykernel/kernelbase.py:1219\u001b[0m, in \u001b[0;36mKernel._input_request\u001b[0;34m(self, prompt, ident, parent, password)\u001b[0m\n\u001b[1;32m   1216\u001b[0m             \u001b[39mbreak\u001b[39;00m\n\u001b[1;32m   1217\u001b[0m \u001b[39mexcept\u001b[39;00m \u001b[39mKeyboardInterrupt\u001b[39;00m:\n\u001b[1;32m   1218\u001b[0m     \u001b[39m# re-raise KeyboardInterrupt, to truncate traceback\u001b[39;00m\n\u001b[0;32m-> 1219\u001b[0m     \u001b[39mraise\u001b[39;00m \u001b[39mKeyboardInterrupt\u001b[39;00m(\u001b[39m\"\u001b[39m\u001b[39mInterrupted by user\u001b[39m\u001b[39m\"\u001b[39m) \u001b[39mfrom\u001b[39;00m \u001b[39mNone\u001b[39m\n\u001b[1;32m   1220\u001b[0m \u001b[39mexcept\u001b[39;00m \u001b[39mException\u001b[39;00m:\n\u001b[1;32m   1221\u001b[0m     \u001b[39mself\u001b[39m\u001b[39m.\u001b[39mlog\u001b[39m.\u001b[39mwarning(\u001b[39m\"\u001b[39m\u001b[39mInvalid Message:\u001b[39m\u001b[39m\"\u001b[39m, exc_info\u001b[39m=\u001b[39m\u001b[39mTrue\u001b[39;00m)\n",
      "\u001b[0;31mKeyboardInterrupt\u001b[0m: Interrupted by user"
     ]
    }
   ],
   "source": [
    "questions = 5\n",
    "correct = 0\n",
    "\n",
    "print(\"Take this quiz to test your vocab!\")\n",
    "\n",
    "def question_and_answer(prompt, answer):\n",
    "    print(\"Question: \" + prompt)\n",
    "    msg = input()\n",
    "    print(\"Answer: \" + msg)\n",
    "    \n",
    "    if answer == msg.lower():\n",
    "        print(\"Correct!\")\n",
    "        global correct\n",
    "        correct += 1\n",
    "    else:\n",
    "        print (\"Incorrect!\")\n",
    "        \n",
    "    return msg\n",
    " \n",
    "Q1 = question_and_answer(\"What is the definition of INPUT? \\t instructions given to a computer \\t computer paper \\t paper instructions\", \"instructions given to a computer\")\n",
    "Q2 = question_and_answer(\"What is a squence? \\t a line of code \\t several lines of code  \\t a button\", \"several lines of code\")\n",
    "Q3 = question_and_answer(\"What is an output? \\t information a computer gives \\t a computer tab \\t going outside\", \"information a computer gives\")\n",
    "Q4 = question_and_answer(\"What does a variable do? \\t gives variety \\t a way to store your paper files \\t way to name, store data, and reference data\", \"way to name, store data, and reference data\")\n",
    "Q5 = question_and_answer(\"What are lists? \\t something for the grocery \\t the square brackets for grouping and ordering \\t a square\", \"the square brackets for grouping and ordering\")\n",
    "\n",
    "print(f'You scored {correct} /5 correct answers!')\n",
    "    \n",
    "Quiz = {\n",
    "    \"Question 1\": Q1,\n",
    "    \"Question 2\": Q2,\n",
    "    \"Question 3\": Q3,\n",
    "    \"Question 4\": Q4,\n",
    "    \"Question 5\": Q5\n",
    "}\n",
    "\n",
    "print(\"Here is a record of your quiz answers:\",Quiz)\n"
   ]
  }
 ],
 "metadata": {
  "kernelspec": {
   "display_name": "Python 3.8.9 64-bit",
   "language": "python",
   "name": "python3"
  },
  "language_info": {
   "codemirror_mode": {
    "name": "ipython",
    "version": 3
   },
   "file_extension": ".py",
   "mimetype": "text/x-python",
   "name": "python",
   "nbconvert_exporter": "python",
   "pygments_lexer": "ipython3",
   "version": "3.8.9"
  },
  "orig_nbformat": 4,
  "vscode": {
   "interpreter": {
    "hash": "31f2aee4e71d21fbe5cf8b01ff0e069b9275f58929596ceb00d14d90e3e16cd6"
   }
  }
 },
 "nbformat": 4,
 "nbformat_minor": 2
}
