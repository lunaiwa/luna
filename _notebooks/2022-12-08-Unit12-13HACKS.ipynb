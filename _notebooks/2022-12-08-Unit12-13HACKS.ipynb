{
 "cells": [
  {
   "attachments": {},
   "cell_type": "markdown",
   "metadata": {},
   "source": [
    "# Unit 3.11-3.13 HACKS\n",
    "> Review tickets for Unit 3 Sections 11 and 13\n",
    "\n",
    "- title: HACKS 11-13\n",
    "- toc: true\n",
    "- comments: true\n",
    "- categories: [unit 3]\n",
    "- badges: true"
   ]
  },
  {
   "attachments": {},
   "cell_type": "markdown",
   "metadata": {},
   "source": [
    "### Essential Knowledge"
   ]
  },
  {
   "attachments": {},
   "cell_type": "markdown",
   "metadata": {},
   "source": [
    "Procedure: also called a function, it is a small section or piece of code which does something specific or does a specific task"
   ]
  },
  {
   "attachments": {},
   "cell_type": "markdown",
   "metadata": {},
   "source": [
    "Parameter: variable passed into a function"
   ]
  },
  {
   "cell_type": "code",
   "execution_count": 2,
   "metadata": {},
   "outputs": [
    {
     "name": "stdout",
     "output_type": "stream",
     "text": [
      "10\n"
     ]
    }
   ],
   "source": [
    "a=1\n",
    "b=9\n",
    "# parameters are a and b\n",
    "def addition(a, b):\n",
    "    sum = a + b\n",
    "    return sum\n",
    "# call function print\n",
    "print(addition(a, b))"
   ]
  },
  {
   "attachments": {},
   "cell_type": "markdown",
   "metadata": {},
   "source": [
    "Return Values: function that returns to called function when the task is completed"
   ]
  },
  {
   "attachments": {},
   "cell_type": "markdown",
   "metadata": {},
   "source": [
    "Output Parameters: refers to one section of the code as an input to function"
   ]
  },
  {
   "attachments": {},
   "cell_type": "markdown",
   "metadata": {},
   "source": [
    "Procedure Names: ex. in this code the procedure's name is 9 and 10"
   ]
  },
  {
   "cell_type": "code",
   "execution_count": null,
   "metadata": {},
   "outputs": [],
   "source": [
    "# procedure names\n",
    "x = 9\n",
    "y = 10"
   ]
  },
  {
   "attachments": {},
   "cell_type": "markdown",
   "metadata": {},
   "source": [
    "Arguments: a way to give more information to functions"
   ]
  },
  {
   "attachments": {},
   "cell_type": "markdown",
   "metadata": {},
   "source": [
    "1. Why abstracting away your program logic into separate, modular functions is effective"
   ]
  },
  {
   "attachments": {},
   "cell_type": "markdown",
   "metadata": {},
   "source": [
    "It makes the code easier to understand, maintainable, and organized. Breaking the code down makes it easier to debug and organize the code"
   ]
  },
  {
   "attachments": {},
   "cell_type": "markdown",
   "metadata": {},
   "source": [
    "<hr/>"
   ]
  },
  {
   "attachments": {},
   "cell_type": "markdown",
   "metadata": {},
   "source": [
    "### Quiz"
   ]
  },
  {
   "attachments": {},
   "cell_type": "markdown",
   "metadata": {},
   "source": [
    "Complete quiz:"
   ]
  },
  {
   "cell_type": "code",
   "execution_count": 3,
   "metadata": {},
   "outputs": [
    {
     "name": "stdout",
     "output_type": "stream",
     "text": [
      "Question: What is are correct names for a procedure? \n",
      " A) Method \n",
      " B) Function \n",
      " C) Both\n",
      "Answer: c\n",
      "Correct :) \n",
      "\n",
      "Question: What is a procedure? \n",
      " A) Sequencing \n",
      " B) Selection \n",
      " C) Iteration \n",
      " D) All\n",
      "Answer: d\n",
      "Correct :) \n",
      "\n",
      "Question: Use this for following question: \n",
      " def inchesToFeet(lengthInches): \n",
      "\t lengthFeet = lengthInches / 12 \n",
      "\t return lengthFeet \n",
      "\n",
      " What is the procedure name, the parameter, and what the procedure returns? \n",
      " A) feetToInches, lengthInches, lengthMeters \n",
      " B) inchesToFeet, lengthInches, lengthFeet \n",
      " C) inchesToFeet, lengthFeet, lengthInches \n",
      " D) lengthInches, inchesToFeet, lengthFeet\n",
      "Answer: b\n",
      "Correct :) \n",
      "\n",
      "Score: 3 / 3\n"
     ]
    }
   ],
   "source": [
    "questionNum = 3\n",
    "correct = 0\n",
    "questions = [\n",
    "    \"What is are correct names for a procedure? \\n A) Method \\n B) Function \\n C) Both\",\n",
    "    \"What is a procedure? \\n A) Sequencing \\n B) Selection \\n C) Iteration \\n D) All\",\n",
    "    \"Use this for following question: \\n def inchesToFeet(lengthInches): \\n\\t lengthFeet = lengthInches / 12 \\n\\t return lengthFeet \\n\\n What is the procedure name, the parameter, and what the procedure returns? \\n A) feetToInches, lengthInches, lengthMeters \\n B) inchesToFeet, lengthInches, lengthFeet \\n C) inchesToFeet, lengthFeet, lengthInches \\n D) lengthInches, inchesToFeet, lengthFeet\"]\n",
    "answers = [\"c\", \"d\", \"b\"]\n",
    "\n",
    "def qna(question, answer):\n",
    "    print(\"Question:\", question)\n",
    "    response = input()\n",
    "    print(\"Answer:\", response)\n",
    "    \n",
    "    if response.lower() == answer:\n",
    "        print(\"Correct :) \\n\")\n",
    "        global correct\n",
    "        correct += 1\n",
    "    else:\n",
    "        print(\"Incorrect :( \\n\")\n",
    "for x in range(questionNum):\n",
    "    qna(questions[x], answers[x])\n",
    "    \n",
    "print(\"Score:\", correct, \"/ 3\")"
   ]
  },
  {
   "attachments": {},
   "cell_type": "markdown",
   "metadata": {},
   "source": [
    "<hr/>"
   ]
  },
  {
   "attachments": {},
   "cell_type": "markdown",
   "metadata": {},
   "source": [
    "### Procedure Code"
   ]
  },
  {
   "attachments": {},
   "cell_type": "markdown",
   "metadata": {},
   "source": [
    "Code a procedure that finds the square root of any given number. (make sure to call and return the function)"
   ]
  },
  {
   "cell_type": "code",
   "execution_count": 4,
   "metadata": {},
   "outputs": [
    {
     "name": "stdout",
     "output_type": "stream",
     "text": [
      "5.0\n"
     ]
    }
   ],
   "source": [
    "# already input number from code\n",
    "# import\n",
    "import math\n",
    "\n",
    "a = 25\n",
    "# a is the parameter\n",
    "def sqrt(a):\n",
    "    return math.sqrt(a)\n",
    "# calling the func\n",
    "print(sqrt(a))"
   ]
  },
  {
   "cell_type": "code",
   "execution_count": 6,
   "metadata": {},
   "outputs": [
    {
     "name": "stdout",
     "output_type": "stream",
     "text": [
      "Type a number: 25.0\n",
      "5.0\n"
     ]
    }
   ],
   "source": [
    "# user number input\n",
    "# import\n",
    "import math\n",
    "\n",
    "user = float(input())\n",
    "\n",
    "sqrt = math.sqrt(user)\n",
    "print(\"Type a number:\" , user)\n",
    "print(sqrt)"
   ]
  },
  {
   "attachments": {},
   "cell_type": "markdown",
   "metadata": {},
   "source": [
    "<hr/>"
   ]
  },
  {
   "attachments": {},
   "cell_type": "markdown",
   "metadata": {},
   "source": [
    "### Sub-Procedures"
   ]
  },
  {
   "attachments": {},
   "cell_type": "markdown",
   "metadata": {},
   "source": [
    "1. Create a procedure that uses other sub-procedures (other functions) within it and explain why the abstraction was needed (conciseness, shared behavior, ect.)\n",
    "2. Add another layer of abstraction to the word counter program (HINT: create a function that can count the number of words starting with ANY character in a given string -- how can we leverage parameters for this?)"
   ]
  },
  {
   "cell_type": "code",
   "execution_count": 12,
   "metadata": {},
   "outputs": [
    {
     "name": "stdout",
     "output_type": "stream",
     "text": [
      "15\n"
     ]
    }
   ],
   "source": [
    "a = 5\n",
    "b = 10\n",
    "\n",
    "# func\n",
    "def add(a,b):\n",
    "    sum = a + b\n",
    "    return(sum)\n",
    "\n",
    "# result\n",
    "print(add(a,b))"
   ]
  },
  {
   "cell_type": "code",
   "execution_count": 11,
   "metadata": {},
   "outputs": [
    {
     "name": "stdout",
     "output_type": "stream",
     "text": [
      "1 word(s) starting with a\n"
     ]
    }
   ],
   "source": [
    "def split_string(s):\n",
    "    # listing words and splitting string\n",
    "    words = s.split(\" \")\n",
    "\n",
    "    new_words = []\n",
    "    for word in words:\n",
    "        if word != \"\":\n",
    "            # `words` to `new_words`\n",
    "            new_words.append(word)\n",
    "    \n",
    "    return words\n",
    "\n",
    "# input and returns the number of words\n",
    "# given letter\n",
    "def count_words_starting_with_letter(words, letter):\n",
    "    count = 0\n",
    "    \n",
    "    # loop through the list\n",
    "    for word in words:\n",
    "        # use lower() \n",
    "        if word.lower().startswith(letter):\n",
    "            count += 1\n",
    "    \n",
    "    return count\n",
    "\n",
    "# returns the number of words that start with 'a'\n",
    "def count_words_starting_with_a_in_string(s):\n",
    "    # use the split_string() function to split the input string into a list of words\n",
    "    words = split_string(s)\n",
    "    \n",
    "    # use count_words_starting_with_letter() \n",
    "    count = count_words_starting_with_letter(words, \"a\")\n",
    "    \n",
    "    return count\n",
    "\n",
    "def count_words_starting_with_d_in_string(s):\n",
    "    words = split_string(s)\n",
    "    count = count_words_starting_with_letter(words, \"d\")\n",
    "    return count\n",
    "\n",
    "def any_count(sentence, letter):\n",
    "    \n",
    "    words = split_string(sentence)\n",
    "\n",
    "    count = count_words_starting_with_letter(words, letter)\n",
    "\n",
    "    return count\n",
    "\n",
    "userLetter = input(\"Input any letter:\")\n",
    "answer = count_words_starting_with_letter(userLetter, str(userLetter))\n",
    "print(str(answer) + \" word(s) starting with \" + str(userLetter))"
   ]
  },
  {
   "attachments": {},
   "cell_type": "markdown",
   "metadata": {},
   "source": [
    "<hr/>"
   ]
  },
  {
   "attachments": {},
   "cell_type": "markdown",
   "metadata": {},
   "source": [
    "### Procedures, Arguments, Parameters"
   ]
  },
  {
   "attachments": {},
   "cell_type": "markdown",
   "metadata": {},
   "source": [
    "Code some procedures that use arguments and parameters with Javascript and HTML (make sure they are interactive on your hacks page, allowing the user to input numbers and lick a button to produce an output)"
   ]
  },
  {
   "attachments": {},
   "cell_type": "markdown",
   "metadata": {},
   "source": [
    "- add two numbers\n",
    "- subtract two numbers\n",
    "- multiply two numbers\n",
    "- divide two numbers"
   ]
  },
  {
   "attachments": {},
   "cell_type": "markdown",
   "metadata": {},
   "source": [
    "<p>x = 14 y = 19</p>\n",
    "<button id= \"add\" type=\"button\" onclick=\"addition(x,y)\">addition</button>\n",
    "<p id = \"output\"></p>\n",
    "<button id= \"subtract\" type=\"button\" onclick=\"subtraction(x,y)\">subtraction</button>\n",
    "<p id = \"output2\"></p>\n",
    "<button id= \"divide\" type=\"button\" onclick=\"divide(x,y)\">divide</button>\n",
    "<p id = \"output3\"></p>\n",
    "<button id= \"multiply\" type=\"button\" onclick=\"multiply(x,y)\">multiply</button>\n",
    "<p id = \"output4\"></p>\n",
    "<script>\n",
    "  var x = 14\n",
    "  var y = 19\n",
    "  function addition(x,y) {\n",
    "    document.getElementById(\"output\").innerHTML = x + y\n",
    "    }\n",
    "  function subtraction(x,y) {\n",
    "    document.getElementById(\"output2\").innerHTML = x - y\n",
    "    }\n",
    "  function divide(x,y) {\n",
    "    document.getElementById(\"output3\").innerHTML = x/y\n",
    "    }\n",
    "  function multiply(x,y) {\n",
    "    document.getElementById(\"output4\").innerHTML = x * y\n",
    "    }\n",
    "</script>\n"
   ]
  }
 ],
 "metadata": {
  "kernelspec": {
   "display_name": "Python 3.8.9 64-bit",
   "language": "python",
   "name": "python3"
  },
  "language_info": {
   "codemirror_mode": {
    "name": "ipython",
    "version": 3
   },
   "file_extension": ".py",
   "mimetype": "text/x-python",
   "name": "python",
   "nbconvert_exporter": "python",
   "pygments_lexer": "ipython3",
   "version": "3.8.9 (default, Apr 13 2022, 08:48:06) \n[Clang 13.1.6 (clang-1316.0.21.2.5)]"
  },
  "orig_nbformat": 4,
  "vscode": {
   "interpreter": {
    "hash": "31f2aee4e71d21fbe5cf8b01ff0e069b9275f58929596ceb00d14d90e3e16cd6"
   }
  }
 },
 "nbformat": 4,
 "nbformat_minor": 2
}
