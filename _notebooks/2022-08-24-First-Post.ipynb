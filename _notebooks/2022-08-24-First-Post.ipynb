{
 "cells": [
  {
   "cell_type": "markdown",
   "metadata": {},
   "source": [
    "# Paint Mixing\n",
    "> A tutorial of mixing paint using three colors.\n",
    "\n",
    "- toc: true \n",
    "- badges: true\n",
    "- comments: true\n",
    "- categories: [Art]\n",
    "- image: images/ivory-black.png"
   ]
  },
  {
   "cell_type": "markdown",
   "metadata": {},
   "source": [
    "### Starting Colors\n",
    "> Colors that I use are **Burnt Sienna**, **Ivory Black**, and **Titanium White**. The brand I use is specifically **Windsor and Newton** becuase it paints really smoothly onto my canvas. {% fn 1 %}\n",
    "\n",
    "{{ 'You can also use different brands but these are my choice other brands like **Gamblin** are also really good.' | fndetail: 1 }}"
   ]
  },
  {
   "cell_type": "markdown",
   "metadata": {},
   "source": [
    "![](https://lh3.googleusercontent.com/ysrGa7Xsl-oF54QLSCwYVgsvofDZ3QHKk3y0os7168F0sIe88m__wVGr_7n08EIsz2URW44phi-zFCjTOxAzvA4LxaHrnzaCMt-jVNAGIHa4GPV4T1woAtn-elblfnCIc-5oXzPJXQ-C8iUzwGTp-y8m4Sna_Aq9rZYfaUqU3rP0ULJyWMW4tafPTY7SdC5Gz8YQBe8kIDiim9nngU7OFH_FzDeofGfMMdkLWuP4VwHaOp-cW1PrpbRny4oUgXooCnaz6uR7NPFUFHZbJ1y5gdiLf12xsXN3sXpmtPXAOkKrIDCnK_Lk--GO4u_YUbqrXIhz31EOfaaVgg09qpDfIuDvYFSiRPOuQg-FraQezsUAqe9maNUo7eb8maIUHKDFzp0KYYOASaoGNNLAryMOEf5WK3kJ4_pkeZtxiOc4joMRCuiE_tLJhdMzGmYrAYp1unwIyRpmYgAwq3WivUy1fFPEZPT6-hd5xONL1fcocT6-LABjQieJLzjjV2VreLgQiQNIdh__ZsP8Vj0DW3NJW0hKDPHU_ic7U4MlbfwcSxY8Vmnn4dM4TOqFdOcPp9YhCigNUcarsQ7skwfHDnwrUeVpdRqvTMJeUWgZ3z8qvTJBiXQ0HUKDPxFf7ZPVyRD9MfKvwMTtbPXeuV6ZTNc-jAGoUIFta3WRczqHSDv3vZp6i1v1cVOS_5qzNE7z1S4so6GzGnToqX3lmy9uH6wySPEiPnl1Wmrm5_RyhcFasZ9cmAP21vKeTAFfBlyOZ1ayqd8edlPtTilfAhS6ERIS-YFwDEIsxVQCSeHcOl0r7Kb6-WHf5olOU4CTm0G3n6VuKTYBPln_ysp1eqgjU24LovNet-PbQT_QSSRCiFGH=w800-h600-no?authuser=0)"
   ]
  },
  {
   "cell_type": "markdown",
   "metadata": {},
   "source": [
    "### Video\n",
    "\n",
    "> Here is a helpful video by Anna Wakitsch demoing how to mix this pallet using these colors\n"
   ]
  },
  {
   "cell_type": "markdown",
   "metadata": {},
   "source": [
    "> youtube: https://youtu.be/YHZs9aXkk8U"
   ]
  }
 ],
 "metadata": {
  "kernelspec": {
   "display_name": "Python 3.8.9 64-bit",
   "language": "python",
   "name": "python3"
  },
  "language_info": {
   "name": "python",
   "version": "3.8.9"
  },
  "orig_nbformat": 4,
  "vscode": {
   "interpreter": {
    "hash": "31f2aee4e71d21fbe5cf8b01ff0e069b9275f58929596ceb00d14d90e3e16cd6"
   }
  }
 },
 "nbformat": 4,
 "nbformat_minor": 2
}
