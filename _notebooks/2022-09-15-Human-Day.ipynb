{
 "cells": [
  {
   "cell_type": "markdown",
   "metadata": {},
   "source": [
    "# Stress, Science, and Choice Habit making\n",
    "> Ted Talk and notes on behavior changes\n",
    "\n",
    "- title: Stress, Science, and Choice Habit Making\n",
    "- toc: true\n",
    "- comments: true\n",
    "- categories: [notes]"
   ]
  },
  {
   "cell_type": "markdown",
   "metadata": {},
   "source": [
    "### What?\n",
    "\n",
    "What kinds of goals and habits do happy people have? 9:34-->cont."
   ]
  },
  {
   "cell_type": "markdown",
   "metadata": {},
   "source": [
    "### Physcology and the Good Life\n",
    "\n",
    "- most students are too stressed to enjoy life and do life\n",
    "- ie. not being able to enjoy a book\n",
    "- even Yale wants students to perform\n",
    "- lots of lack of performance in class"
   ]
  },
  {
   "cell_type": "markdown",
   "metadata": {},
   "source": [
    "### Classroom Habits\n",
    "\n",
    "- wasting whole day and big pile-up of homework\n",
    "- being an active listener and taking notes or going along with the class"
   ]
  },
  {
   "cell_type": "markdown",
   "metadata": {},
   "source": [
    "### Take Aways \n",
    " \n",
    "Most students don't spen their time wisley in class and end up having to stress over it during the weekend. Using the time given in class will allow a student to be more successful and happier. Without that much work outside of class students will be able to spend more time doing what they love and be less stressed. Being able to balence life and school is difficult but, when you are able to have a perfect harmony between both you can enjoy life more. Goals and habits most people have to acheive this are, being able to do the most work they have when they have the oppertunity to, and not wasting their time and save it for later. And second goal most people have is, to be able to hold onto any oppertunity they are given and to take them and use them wisley (do their work when they are given the oppertunity to in class). Habits most happy people have are to be happy and use the time they have to do somthing they really enjoy then doing somthing that would just waste their time."
   ]
  }
 ],
 "metadata": {
  "kernelspec": {
   "display_name": "Python 3.8.2 64-bit",
   "language": "python",
   "name": "python3"
  },
  "language_info": {
   "name": "python",
   "version": "3.8.9"
  },
  "orig_nbformat": 4,
  "vscode": {
   "interpreter": {
    "hash": "31f2aee4e71d21fbe5cf8b01ff0e069b9275f58929596ceb00d14d90e3e16cd6"
   }
  }
 },
 "nbformat": 4,
 "nbformat_minor": 2
}
