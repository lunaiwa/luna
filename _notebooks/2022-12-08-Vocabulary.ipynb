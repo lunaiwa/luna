{
 "cells": [
  {
   "attachments": {},
   "cell_type": "markdown",
   "metadata": {},
   "source": [
    "# Vocabulary \n",
    "> Vocabulary from APCSP with code examples\n",
    "\n",
    "- title: Vocabulary\n",
    "- toc: true\n",
    "- comments: true\n",
    "- badges: true\n",
    "- categories: [vocab]"
   ]
  },
  {
   "attachments": {},
   "cell_type": "markdown",
   "metadata": {},
   "source": [
    "<hr/>"
   ]
  },
  {
   "attachments": {},
   "cell_type": "markdown",
   "metadata": {},
   "source": [
    "## Unit 2 : Binary/Data Terms --"
   ]
  },
  {
   "attachments": {},
   "cell_type": "markdown",
   "metadata": {},
   "source": [
    "<hr/>"
   ]
  },
  {
   "attachments": {},
   "cell_type": "markdown",
   "metadata": {},
   "source": [
    "**Binary Data Abstractions**"
   ]
  },
  {
   "attachments": {},
   "cell_type": "markdown",
   "metadata": {},
   "source": [
    "--"
   ]
  },
  {
   "attachments": {},
   "cell_type": "markdown",
   "metadata": {},
   "source": [
    "**Boolean:** Boolean conditionals are often used to decide which sections of code to execute (such as in if statements) or repeat (such as in for loops). 3.7"
   ]
  },
  {
   "attachments": {},
   "cell_type": "markdown",
   "metadata": {},
   "source": [
    "**Boolean Value:** A boolean value is either True or False. Variables with boolean values are often used to keep track of certain conditions within a program. 3.7"
   ]
  },
  {
   "cell_type": "code",
   "execution_count": null,
   "metadata": {},
   "outputs": [],
   "source": [
    "game_active = True\n",
    "can_edit = False"
   ]
  },
  {
   "attachments": {},
   "cell_type": "markdown",
   "metadata": {},
   "source": [
    "**Unicode:** International character encoding standard that includes different languages, scripts and symbols. Each letter, digit or symbol has its own unique Unicode value. Unicode is an extension of ASCII that allows many more characters to be represented."
   ]
  },
  {
   "attachments": {},
   "cell_type": "markdown",
   "metadata": {},
   "source": [
    "**RGB:** RGB (red, green, and blue) refers to a system for representing the colors to be used on a computer display. Red, green, and blue can be combined in various proportions to obtain any color in the visible spectrum."
   ]
  },
  {
   "attachments": {},
   "cell_type": "markdown",
   "metadata": {},
   "source": [
    "<hr/>"
   ]
  },
  {
   "attachments": {},
   "cell_type": "markdown",
   "metadata": {},
   "source": [
    "## Unit 3: Algorithm/Programming Terms"
   ]
  },
  {
   "attachments": {},
   "cell_type": "markdown",
   "metadata": {},
   "source": [
    "<hr/>"
   ]
  },
  {
   "attachments": {},
   "cell_type": "markdown",
   "metadata": {},
   "source": [
    "**Variables:** A value that can change, depending on conditions or on information passed to the program. Typically, a program consists of instruction s that tell the computer what to do and data that the program uses when it is running. 3.4"
   ]
  },
  {
   "cell_type": "code",
   "execution_count": 2,
   "metadata": {},
   "outputs": [
    {
     "name": "stdout",
     "output_type": "stream",
     "text": [
      "16\n"
     ]
    }
   ],
   "source": [
    "# variables\n",
    "# in this case x and you are the variables\n",
    "x = 7\n",
    "y = 9\n",
    "print(y + x)"
   ]
  },
  {
   "attachments": {},
   "cell_type": "markdown",
   "metadata": {},
   "source": [
    "**Data Types:** A data type, in programming, is a classification that specifies which type of value a variable has and what type of mathematical, relational or logical operations can be applied to it without causing an error."
   ]
  },
  {
   "cell_type": "code",
   "execution_count": null,
   "metadata": {},
   "outputs": [],
   "source": [
    "# data types"
   ]
  },
  {
   "attachments": {},
   "cell_type": "markdown",
   "metadata": {},
   "source": [
    "**Assignment Operators:**  operator used to assign a new value to a variable, property, event or indexer element in C# programming language. Assignment operators can also be used for logical operations such as bitwise logical operations or operations on integral operands and Boolean operands. 3.11"
   ]
  },
  {
   "cell_type": "code",
   "execution_count": null,
   "metadata": {},
   "outputs": [],
   "source": [
    "# assignment operators\n",
    "a = 3\n",
    "b = 5\n",
    "  \n",
    "c = a + b\n",
    "  \n",
    "# Output\n",
    "print(c)"
   ]
  },
  {
   "attachments": {},
   "cell_type": "markdown",
   "metadata": {},
   "source": [
    "**Managing Complexity with Variables**"
   ]
  },
  {
   "attachments": {},
   "cell_type": "markdown",
   "metadata": {},
   "source": [
    "--"
   ]
  },
  {
   "attachments": {},
   "cell_type": "markdown",
   "metadata": {},
   "source": [
    "**Lists:** A list is a sequence of several variables, grouped together under a single name. Instead of writing a program with many variables. 3.8"
   ]
  },
  {
   "cell_type": "code",
   "execution_count": null,
   "metadata": {},
   "outputs": [],
   "source": [
    "# lists\n",
    "# make a list\n",
    "letters = ['a', 'b', 'c']\n",
    "# get the first item in the list\n",
    "first_letter = letters [0]\n",
    "# get last item in the list\n",
    "last_letter = letters [-1]\n",
    "# looping the list\n",
    "for letter in letters:\n",
    "    print(letter)\n",
    "# adding items to the list\n",
    "letters = []\n",
    "letters.append('a')\n",
    "letters.append('b')\n",
    "letters.append('c')\n",
    "# numbered lists\n",
    "squares = []\n",
    "for x in range (1,11):\n",
    "    squares.append(x**2)\n",
    "# list comprehensions\n",
    "squares = [x**2 for x in range(1,11)]\n",
    "# slicing the list\n",
    "letters = ['a', 'b', 'c', 'd']\n",
    "first_two = letters[:2]\n",
    "# copy a list\n",
    "copy_of_letters = letters[:]"
   ]
  },
  {
   "attachments": {},
   "cell_type": "markdown",
   "metadata": {},
   "source": [
    "**Dictionaries:** Python dictionaries allow you to connect pieces of related information. Each piece of information in a dictionary is stored as a key-value pair. When you provide a key, Python returns the value associated with that key. You can loop through all the key-value pairs, all the keys, or all the values."
   ]
  },
  {
   "cell_type": "code",
   "execution_count": null,
   "metadata": {},
   "outputs": [],
   "source": [
    "# dictionaries\n",
    "# making a dictionary\n",
    "ball = {'color': 'green', 'points': 5}"
   ]
  },
  {
   "attachments": {},
   "cell_type": "markdown",
   "metadata": {},
   "source": [
    "**Looping Through a Dictionary:** You can loop through a dictionary in three ways: you can loop through all the key value pairs, all the keys, or all the values. A dictionary only tracks the connections between keys and values; it doesn't track the order of items in the dictionary. If you want to process the information in order, you can sort the keys in your loop."
   ]
  },
  {
   "cell_type": "code",
   "execution_count": null,
   "metadata": {},
   "outputs": [],
   "source": [
    "# Storing people's fav languages\n",
    "fav_language = {\n",
    "    'a': 'python',\n",
    "    'b': 'c',\n",
    "    'd': 'java',\n",
    "    'e': 'python',\n",
    "}\n",
    "# show each person's fav language\n",
    "for name, language in fav_languages.items():\n",
    "    print(name + \":\" + language)"
   ]
  },
  {
   "attachments": {},
   "cell_type": "markdown",
   "metadata": {},
   "source": [
    "**Class:** a template definition of the method s and variable s in a particular kind of object . Thus, an object is a specific instance of a class; it contains real values instead of variables. The class is one of the defining ideas of object-oriented programming."
   ]
  },
  {
   "cell_type": "code",
   "execution_count": 2,
   "metadata": {},
   "outputs": [],
   "source": [
    "# class\n",
    "class MY:\n",
    "  x = 5"
   ]
  },
  {
   "attachments": {},
   "cell_type": "markdown",
   "metadata": {},
   "source": [
    "**Algorithms:** a procedure or formula used for solving a problem. It is based on conducting a sequence of specified actions in which these actions describe how to do something, and your computer will do it exactly that way every time. An algorithm works by following a procedure, made up of inputs. 3.4"
   ]
  },
  {
   "cell_type": "code",
   "execution_count": 1,
   "metadata": {},
   "outputs": [
    {
     "name": "stdout",
     "output_type": "stream",
     "text": [
      "[1, 2, 3, 'A', 2.3]\n"
     ]
    }
   ],
   "source": [
    "# algorithms\n",
    "\n",
    "List = [1, 2, 3, \"A\", 2.3]\n",
    "print(List)"
   ]
  },
  {
   "attachments": {},
   "cell_type": "markdown",
   "metadata": {},
   "source": [
    "**Sequence:** A set of logical steps carried out in order. Computers need instructions in the form of an algorithm in order to complete a desired task, and this algorithm must have the correct order of steps, or sequence. 3.4"
   ]
  },
  {
   "attachments": {},
   "cell_type": "markdown",
   "metadata": {},
   "source": [
    "**Selection:** Selection is a decision or question. At some point, a program may need to ask a question because it has reached a step where one or more options are available. Depending on the answer given, the program will follow a certain step and ignore the others."
   ]
  },
  {
   "attachments": {},
   "cell_type": "markdown",
   "metadata": {},
   "source": [
    "**Iteration:** a sequence of instructions or code being repeated until a specific end result is achieved. Iterative development is sometimes called circular or evolutionary development. 3.10"
   ]
  },
  {
   "attachments": {},
   "cell_type": "markdown",
   "metadata": {},
   "source": [
    "**Expressions:** a combination of values and functions that are combined and interpreted by the compiler to create a new value, as opposed to a “statement” which is just a standalone unit of execution and doesn't return anything. 3.2"
   ]
  },
  {
   "attachments": {},
   "cell_type": "markdown",
   "metadata": {},
   "source": [
    "**Comparison Operators:** operators that compare values and return true or false . The operators include: > , < , >= , <= , === , and !== . Logical operators — operators that combine multiple boolean expressions or values and provide a single boolean output. 3.7"
   ]
  },
  {
   "cell_type": "code",
   "execution_count": 8,
   "metadata": {},
   "outputs": [
    {
     "name": "stdout",
     "output_type": "stream",
     "text": [
      "1 - a is not equal to b\n",
      "2 - a is not equal to b\n",
      "4 - a is equal to b\n",
      "5 - a is greater than b\n",
      "6 - a is neither less than nor equal to  b\n",
      "7 - b is neither greater than  nor equal to b\n"
     ]
    }
   ],
   "source": [
    "# comparison operators\n",
    "a = 3\n",
    "b = 1\n",
    "c = 2\n",
    "\n",
    "if ( a == b ):\n",
    "   print (\"1 - a is equal to b\")\n",
    "else:\n",
    "   print (\"1 - a is not equal to b\")\n",
    "\n",
    "if ( a != b ):\n",
    "   print (\"2 - a is not equal to b\")\n",
    "else:\n",
    "   print (\"2 - a is equal to b\")\n",
    "\n",
    "if ( a < b ):\n",
    "   print (\"4 - a is less than b\") \n",
    "else:\n",
    "   print (\"4 - a is equal to b\")\n",
    "\n",
    "if ( a > b ):\n",
    "   print (\"5 - a is greater than b\")\n",
    "else:\n",
    "   print (\"5 - a is not greater than b\")\n",
    "\n",
    "if ( a <= b ):\n",
    "   print (\"6 - a is either less than or equal to  b\")\n",
    "else:\n",
    "   print (\"6 - a is neither less than nor equal to  b\")\n",
    "\n",
    "if ( b >= a ):\n",
    "   print (\"7 - b is either greater than  or equal to b\")\n",
    "else:\n",
    "   print (\"7 - b is neither greater than  nor equal to b\")"
   ]
  },
  {
   "attachments": {},
   "cell_type": "markdown",
   "metadata": {},
   "source": [
    "[Link to boolean resource](https://www.sccollege.edu/Departments/upwardboundms/SiteAssets/Pages/Computer-Science-/chapter5and6.pdf)"
   ]
  },
  {
   "attachments": {},
   "cell_type": "markdown",
   "metadata": {},
   "source": [
    "**Truth Tables:** a breakdown of all the possible truth values returned by a logical expression. A truth value is typically either true or false, or 1 or 0. In some cases, the value might be based on another binary system, such as on and off or open and closed, but these are not as common. 3.11"
   ]
  },
  {
   "attachments": {},
   "cell_type": "markdown",
   "metadata": {},
   "source": [
    "**Characters:** a character is a display unit of information equivalent to one alphabetic letter or symbol. 3.4"
   ]
  },
  {
   "cell_type": "code",
   "execution_count": 3,
   "metadata": {},
   "outputs": [
    {
     "name": "stdout",
     "output_type": "stream",
     "text": [
      "e\n"
     ]
    }
   ],
   "source": [
    "# characters\n",
    "a = \"Hello, World!\"\n",
    "print(a[1])"
   ]
  },
  {
   "attachments": {},
   "cell_type": "markdown",
   "metadata": {},
   "source": [
    "**Strings:** an array of characters. The informal view of a string is a sentence. Strings are almost always written in code as a quoted sequence of characters, i.e., \"this is a string\". 3.4"
   ]
  },
  {
   "cell_type": "code",
   "execution_count": 2,
   "metadata": {},
   "outputs": [
    {
     "name": "stdout",
     "output_type": "stream",
     "text": [
      "Hello\n",
      "Hello\n"
     ]
    }
   ],
   "source": [
    "# strings\n",
    "print(\"Hello\")\n",
    "print('Hello')"
   ]
  },
  {
   "attachments": {},
   "cell_type": "markdown",
   "metadata": {},
   "source": [
    "**Length:** a code which maps source symbols to a variable number of bits. Variable-length codes can allow sources to be compressed and decompressed with zero error (lossless data compression) and still be read back symbol by symbol. 3.8"
   ]
  },
  {
   "cell_type": "code",
   "execution_count": null,
   "metadata": {},
   "outputs": [],
   "source": [
    "# length\n",
    "num_responses = len(fav_languages)"
   ]
  },
  {
   "attachments": {},
   "cell_type": "markdown",
   "metadata": {},
   "source": [
    "**Traversing Strings:** accessing all the elements of the string one after the other by using the subscript. A string can be traversed using for loop or while loop. 3.8"
   ]
  },
  {
   "cell_type": "code",
   "execution_count": 1,
   "metadata": {},
   "outputs": [
    {
     "name": "stdout",
     "output_type": "stream",
     "text": [
      "l u n a \n",
      "\n",
      "L\n",
      "U\n",
      "N\n",
      "A\n"
     ]
    }
   ],
   "source": [
    "# traversing strings\n",
    "string_name = \"luna\"\n",
    "  \n",
    "# Iterate over the string\n",
    "for element in string_name:\n",
    "    print(element, end=' ')\n",
    "print(\"\\n\")\n",
    "  \n",
    "  \n",
    "# Code #2\n",
    "string_name = \"LUNA\"\n",
    "  \n",
    "# Iterate over index\n",
    "for element in range(0, len(string_name)):\n",
    "    print(string_name[element])"
   ]
  },
  {
   "attachments": {},
   "cell_type": "markdown",
   "metadata": {},
   "source": [
    "**Python**"
   ]
  },
  {
   "attachments": {},
   "cell_type": "markdown",
   "metadata": {},
   "source": [
    "--"
   ]
  },
  {
   "attachments": {},
   "cell_type": "markdown",
   "metadata": {},
   "source": [
    "**Conditionals with Lists:** You can easily test weather a certain value is in a list. You can also test weather a list is empty before trying to loop through the list. 3.6"
   ]
  },
  {
   "cell_type": "code",
   "execution_count": null,
   "metadata": {},
   "outputs": [],
   "source": [
    "# conditionals with lists\n",
    ">>> players = ['a', 'b', 'c', 'd']\n",
    ">>> 'a' in players\n",
    "True\n",
    ">>> 'e' in players\n",
    "False\n",
    "\n",
    "\n",
    "# testing if value is not in a list\n",
    "banned_users = ['a', 'b', 'c']\n",
    "user = 'd'\n",
    "\n",
    "if user not in banned_users:\n",
    "    print(\"We have no players yet\")\n",
    "\n",
    "\n",
    "# checking if list is empty\n",
    "players = []\n",
    "\n",
    "if players:\n",
    "    for players in players:\n",
    "        print(\"Player: \" + player.title())\n",
    "else:\n",
    "    print(\"We have no players yet\")"
   ]
  },
  {
   "attachments": {},
   "cell_type": "markdown",
   "metadata": {},
   "source": [
    "**if:** a programming conditional statement that, if proved true, performs a function or displays information. If statements are used to test for particular conditions and respond appropriately. 3.4"
   ]
  },
  {
   "cell_type": "code",
   "execution_count": null,
   "metadata": {},
   "outputs": [],
   "source": [
    "# if simple statement\n",
    "# age number\n",
    "age = 19\n",
    "# if statement\n",
    "if age >= 18:\n",
    "    print(\"you are old enough to vote\")"
   ]
  },
  {
   "attachments": {},
   "cell_type": "markdown",
   "metadata": {},
   "source": [
    "**elif:** used in conditional statements (if statements), and is short for else if 3.5"
   ]
  },
  {
   "cell_type": "code",
   "execution_count": null,
   "metadata": {},
   "outputs": [],
   "source": [
    "# elif\n"
   ]
  },
  {
   "attachments": {},
   "cell_type": "markdown",
   "metadata": {},
   "source": [
    "**else conditionals:** specifies a new condition if the first condition is false 3.5"
   ]
  },
  {
   "cell_type": "code",
   "execution_count": null,
   "metadata": {},
   "outputs": [],
   "source": [
    "# else conditionals\n",
    "age = 17\n",
    "\n",
    "if age >= 18:\n",
    "    print(\"You are old enough to vote\")\n",
    "else:\n",
    "    print(\"You can't vote yet\")"
   ]
  },
  {
   "attachments": {},
   "cell_type": "markdown",
   "metadata": {},
   "source": [
    "**If, Else, Elif:** 3.5"
   ]
  },
  {
   "cell_type": "code",
   "execution_count": null,
   "metadata": {},
   "outputs": [],
   "source": [
    "# simple if-else-elif\n",
    "if age < 4:\n",
    "    ticket_price = 0\n",
    "elif age < 18:\n",
    "    ticket_price = 10\n",
    "else: \n",
    "    ticket_price = 15"
   ]
  },
  {
   "cell_type": "code",
   "execution_count": null,
   "metadata": {},
   "outputs": [],
   "source": [
    "# if-else-elif\n",
    "# age number\n",
    "age = 12\n",
    "# if statement\n",
    "if age < 4:\n",
    "    price = 0\n",
    "# elif statement\n",
    "elif age < 18:\n",
    "    price = 5\n",
    "# else statement\n",
    "else:\n",
    "    price = 10\n",
    "# final print\n",
    "print(\"Your total cost is $\" + str(price) + \".\")"
   ]
  },
  {
   "attachments": {},
   "cell_type": "markdown",
   "metadata": {},
   "source": [
    "**Nested Selection Statements:** used when more than one decision must be made before carrying out a task. Nesting is a programming activity, in which one program block is placed inside other program block of the same operation type.  "
   ]
  },
  {
   "attachments": {},
   "cell_type": "markdown",
   "metadata": {},
   "source": [
    "**While Loops:** A \"While\" Loop is used to repeat a specific block of code an unknown number of times, until a condition is met. For example, if we want to ask a user for a number between 1 and 10, we don't know how many times the user may enter a larger number, so we keep asking \"while the number is not between 1 and 10\". 3.3"
   ]
  },
  {
   "attachments": {},
   "cell_type": "markdown",
   "metadata": {},
   "source": [
    "**While loops with range:** the range() method and returns a sequence of numbers starting from 0 by default and increments of 1. 3.2"
   ]
  },
  {
   "cell_type": "code",
   "execution_count": null,
   "metadata": {},
   "outputs": [],
   "source": [
    "# while loops, count to 5\n",
    "current_number = 1\n",
    "\n",
    "while current_number <= 5:\n",
    "    print(current_number)\n",
    "    current_number += 1\n",
    "\n",
    "\n",
    "# user quit\n",
    "# prompt that is given to the user\n",
    "prompt = \"\\nTell me something, and I'll\"\n",
    "prompt += \"repeat it back to you.\"\n",
    "prompt += \"\\nEnter 'quit' to end the program\"\n",
    "\n",
    "active = True\n",
    "while active:\n",
    "    message = input(prompt)\n",
    "\n",
    "    if message == 'quit':\n",
    "        active = False\n",
    "    else:\n",
    "        print(message)\n",
    "\n",
    "\n",
    "# using continue in a loop\n",
    "banned_users = ['a', 'b', 'c', 'd']\n",
    "\n",
    "prompt = \"\\nAdd a player to your team\"\n",
    "prompt += \"\\nEnter 'quit' when you are done\"\n",
    "\n",
    "players = []\n",
    "while True:\n",
    "    player = input(prompt)\n",
    "    if player == 'quit':\n",
    "        break\n",
    "    elif player in banned_users:\n",
    "        print(player + \"is banned\")\n",
    "        continue\n",
    "    else: \n",
    "        players.append(player)\n",
    "\n",
    "print(\"\\nYour Team:\")\n",
    "for player in players:\n",
    "    print(player)\n"
   ]
  },
  {
   "attachments": {},
   "cell_type": "markdown",
   "metadata": {},
   "source": [
    "**While loops:** A while loop repeats a block of code as long as a certain condition is true\n",
    "3.2"
   ]
  },
  {
   "cell_type": "code",
   "execution_count": null,
   "metadata": {},
   "outputs": [],
   "source": [
    "# while loops\n",
    "# simple loops\n",
    "current_value = 1\n",
    "while current_value <= 5:\n",
    "    print(current_value)\n",
    "    current_value += 1\n",
    "# let the user choose when to quit\n",
    "message = ''\n",
    "while message != 'quit':\n",
    "    message = input(\"What's your message?\")\n",
    "    print(message)\n"
   ]
  },
  {
   "attachments": {},
   "cell_type": "markdown",
   "metadata": {},
   "source": [
    "Combining loops with conditionals to break:"
   ]
  },
  {
   "cell_type": "code",
   "execution_count": null,
   "metadata": {},
   "outputs": [],
   "source": [
    "# combining loops with conditionals to break\n",
    "# using break to exit a loop\n",
    "prompt = \"\\nWhat room are in in?\"\n",
    "prompt += \"\\nEnter 'quit' when you are done\"\n",
    "\n",
    "while True:\n",
    "    city = input(prompt)\n",
    "\n",
    "    if city == 'quit':\n",
    "        break\n",
    "    else:\n",
    "        print(\"I'm in the\" + room + \"!\")"
   ]
  },
  {
   "attachments": {},
   "cell_type": "markdown",
   "metadata": {},
   "source": [
    "**Abstraction:** the practice of hiding the details of how a particular code or system works and exposing only the essential features or functions that are necessary for other parts of the program to use\n",
    "3.13"
   ]
  },
  {
   "cell_type": "code",
   "execution_count": null,
   "metadata": {},
   "outputs": [],
   "source": [
    "# Abstraction"
   ]
  },
  {
   "attachments": {},
   "cell_type": "markdown",
   "metadata": {},
   "source": [
    "**Procedures:** is a named set of instructions that can take in parameters and return values. [may be called \"method\" or \"function\" in different programming languages]\n",
    "3.12"
   ]
  },
  {
   "cell_type": "code",
   "execution_count": null,
   "metadata": {},
   "outputs": [],
   "source": [
    "# Procedures"
   ]
  },
  {
   "attachments": {},
   "cell_type": "markdown",
   "metadata": {},
   "source": [
    "**Parameters:** are independent variables used in the procedure to produce a result. It allows a procedure to execute without initially knowing specific input values. [can be classified as sequencing, selection, and iteration]\n",
    "3.12"
   ]
  },
  {
   "cell_type": "code",
   "execution_count": null,
   "metadata": {},
   "outputs": [],
   "source": [
    "# parameters"
   ]
  },
  {
   "attachments": {},
   "cell_type": "markdown",
   "metadata": {},
   "source": [
    "**Return Values:** calling script or function when it completes its task"
   ]
  },
  {
   "cell_type": "code",
   "execution_count": null,
   "metadata": {},
   "outputs": [],
   "source": [
    "# return values"
   ]
  },
  {
   "attachments": {},
   "cell_type": "markdown",
   "metadata": {},
   "source": [
    "<hr/>"
   ]
  },
  {
   "attachments": {},
   "cell_type": "markdown",
   "metadata": {},
   "source": [
    "## Python Coding Essentials"
   ]
  },
  {
   "attachments": {},
   "cell_type": "markdown",
   "metadata": {},
   "source": [
    "<hr/>"
   ]
  },
  {
   "attachments": {},
   "cell_type": "markdown",
   "metadata": {},
   "source": [
    "**append():** adding element to the end of the list"
   ]
  },
  {
   "cell_type": "code",
   "execution_count": 13,
   "metadata": {},
   "outputs": [],
   "source": [
    "# append()\n",
    "names = ['taiyo', 'ethan', 'parav', 'nikhil']\n",
    "# add element to the end of the list\n",
    "names.append('luna')\n",
    "# start with empty list\n",
    "names = []\n",
    "names.append('taiyo')\n",
    "names.append('ethan')\n",
    "names.append('parav')\n",
    "names. append('nikhil')"
   ]
  },
  {
   "attachments": {},
   "cell_type": "markdown",
   "metadata": {},
   "source": [
    "**insert():** add an element in a specific position"
   ]
  },
  {
   "cell_type": "code",
   "execution_count": 12,
   "metadata": {},
   "outputs": [],
   "source": [
    "# insert()\n",
    "names = ['luna', 'taiyo', 'ethan', 'parav', 'nikhil']\n",
    "# adding in a specific position\n",
    "names.insert(0, 'taiyo')\n",
    "names.insert(3, 'ethan')"
   ]
  },
  {
   "attachments": {},
   "cell_type": "markdown",
   "metadata": {},
   "source": [
    "**remove():** remove an item from the list"
   ]
  },
  {
   "cell_type": "code",
   "execution_count": 11,
   "metadata": {},
   "outputs": [],
   "source": [
    "# remove()\n",
    "names = ['luna', 'taiyo', 'ethan', 'parav', 'nikhil']\n",
    "# deleting by value\n",
    "names.remove('parav')\n",
    "# by position\n",
    "del names[-1]"
   ]
  },
  {
   "attachments": {},
   "cell_type": "markdown",
   "metadata": {},
   "source": [
    "**pop():** takes the item off the top of the \"stack\" (by default it returns the last element of the list but you can also op from any position)"
   ]
  },
  {
   "cell_type": "code",
   "execution_count": 9,
   "metadata": {},
   "outputs": [
    {
     "name": "stdout",
     "output_type": "stream",
     "text": [
      "nikhil\n",
      "luna\n"
     ]
    }
   ],
   "source": [
    "# pop()\n",
    "names = ['luna', 'taiyo', 'ethan', 'parav', 'nikhil']\n",
    "# pop last item of list\n",
    "most_recent_name = names.pop()\n",
    "print(most_recent_name)\n",
    "# pop first item of list\n",
    "first_name = names.pop(0)\n",
    "print(first_name)"
   ]
  },
  {
   "attachments": {},
   "cell_type": "markdown",
   "metadata": {},
   "source": [
    "**len():** returns the number of items in a list"
   ]
  },
  {
   "cell_type": "code",
   "execution_count": 8,
   "metadata": {},
   "outputs": [
    {
     "name": "stdout",
     "output_type": "stream",
     "text": [
      "There are5names.\n"
     ]
    }
   ],
   "source": [
    "# len()\n",
    "names = ['luna', 'taiyo', 'ethan', 'parav', 'nikhil']\n",
    "# find length of list\n",
    "num_names = len(names)\n",
    "print(\"There are\" + str(num_names) + \"names.\")"
   ]
  },
  {
   "attachments": {},
   "cell_type": "markdown",
   "metadata": {},
   "source": [
    "**sort():** changes oder of the list permanently"
   ]
  },
  {
   "attachments": {},
   "cell_type": "markdown",
   "metadata": {},
   "source": [
    "**sorted():** returns a copy of the list which leaves the original copy unchanged"
   ]
  },
  {
   "cell_type": "code",
   "execution_count": 7,
   "metadata": {},
   "outputs": [
    {
     "name": "stdout",
     "output_type": "stream",
     "text": [
      "['ethan', 'luna', 'nikhil', 'parav', 'taiyo']\n",
      "['taiyo', 'parav', 'nikhil', 'luna', 'ethan']\n"
     ]
    }
   ],
   "source": [
    "# sort()\n",
    "# sorted()\n",
    "names = ['luna', 'taiyo', 'ethan', 'parav', 'nikhil']\n",
    "# sort permanently\n",
    "names.sort()\n",
    "# sort permanently in reverse alphabetical order\n",
    "names.sort(reverse=True)\n",
    "# temp. sort\n",
    "print(sorted(names))\n",
    "print(sorted(names, reverse=True))\n",
    "# reversing the order of a list\n",
    "names.reverse()"
   ]
  },
  {
   "attachments": {},
   "cell_type": "markdown",
   "metadata": {},
   "source": [
    "**range():** used to work with numbers efficiently"
   ]
  },
  {
   "cell_type": "code",
   "execution_count": 6,
   "metadata": {},
   "outputs": [
    {
     "name": "stdout",
     "output_type": "stream",
     "text": [
      "0\n",
      "1\n",
      "2\n",
      "3\n",
      "4\n",
      "5\n",
      "6\n",
      "7\n",
      "8\n",
      "9\n",
      "10\n"
     ]
    }
   ],
   "source": [
    "# range()\n",
    "# print numbers 0 to 10\n",
    "for number in range(11):\n",
    "    print(number)\n",
    "# making list of numbers 1 to 10\n",
    "# using the list() value can generate a large list of numbers\n",
    "numbers = list(range(1, 10))"
   ]
  },
  {
   "attachments": {},
   "cell_type": "markdown",
   "metadata": {},
   "source": [
    "**min():** finds the least value in a list"
   ]
  },
  {
   "cell_type": "code",
   "execution_count": 5,
   "metadata": {},
   "outputs": [
    {
     "name": "stdout",
     "output_type": "stream",
     "text": [
      "10\n"
     ]
    }
   ],
   "source": [
    "# min()\n",
    "nums = [10, 30, 40, 60, 70, 60]\n",
    "least = min(nums)\n",
    "print(min(nums))"
   ]
  },
  {
   "attachments": {},
   "cell_type": "markdown",
   "metadata": {},
   "source": [
    "**max():** finds the highest value in list"
   ]
  },
  {
   "cell_type": "code",
   "execution_count": 4,
   "metadata": {},
   "outputs": [
    {
     "name": "stdout",
     "output_type": "stream",
     "text": [
      "70\n"
     ]
    }
   ],
   "source": [
    "# max()\n",
    "nums = [10, 30, 40, 60, 70, 60]\n",
    "highest = max(nums)\n",
    "print(max(nums))"
   ]
  },
  {
   "attachments": {},
   "cell_type": "markdown",
   "metadata": {},
   "source": [
    "**sum():** sum of all in list"
   ]
  },
  {
   "cell_type": "code",
   "execution_count": 3,
   "metadata": {},
   "outputs": [
    {
     "name": "stdout",
     "output_type": "stream",
     "text": [
      "270\n"
     ]
    }
   ],
   "source": [
    "# sum()\n",
    "nums = [10, 30, 40, 60, 70, 60]\n",
    "total = sum(nums)\n",
    "print(sum(nums))"
   ]
  },
  {
   "attachments": {},
   "cell_type": "markdown",
   "metadata": {},
   "source": [
    "**Libraries**"
   ]
  },
  {
   "attachments": {},
   "cell_type": "markdown",
   "metadata": {},
   "source": [
    "--"
   ]
  },
  {
   "attachments": {},
   "cell_type": "markdown",
   "metadata": {},
   "source": [
    "**seed():** initialize the random number generator"
   ]
  },
  {
   "cell_type": "code",
   "execution_count": 2,
   "metadata": {},
   "outputs": [
    {
     "name": "stdout",
     "output_type": "stream",
     "text": [
      "0.5714025946899135\n"
     ]
    }
   ],
   "source": [
    "# seed()\n",
    "import random\n",
    "\n",
    "random.seed(10)\n",
    "print(random.random())"
   ]
  },
  {
   "attachments": {},
   "cell_type": "markdown",
   "metadata": {},
   "source": [
    "**getstate():** returns the current internal state of the random number generator"
   ]
  },
  {
   "cell_type": "code",
   "execution_count": 1,
   "metadata": {},
   "outputs": [
    {
     "name": "stdout",
     "output_type": "stream",
     "text": [
      "[6, 16, 10, 8, 4, 2, 12, 15, 18, 1]\n",
      "[6, 16, 10, 8, 4]\n"
     ]
    }
   ],
   "source": [
    "# getstate()\n",
    "import random\n",
    " \n",
    "# remember this state\n",
    "state = random.getstate()\n",
    " \n",
    "# print 10 random numbers\n",
    "print(random.sample(range(20), k = 10))\n",
    " \n",
    "# restore state\n",
    "random.setstate(state)\n",
    " \n",
    "# print same first 5 random numbers\n",
    "# as above\n",
    "print(random.sample(range(20), k = 5))"
   ]
  },
  {
   "attachments": {},
   "cell_type": "markdown",
   "metadata": {},
   "source": [
    "**setstate():** restores the internal state of the random number generator"
   ]
  },
  {
   "cell_type": "code",
   "execution_count": 14,
   "metadata": {},
   "outputs": [
    {
     "name": "stdout",
     "output_type": "stream",
     "text": [
      "0.4288890546751146\n",
      "0.5780913011344704\n",
      "0.5780913011344704\n"
     ]
    }
   ],
   "source": [
    "# setstate()\n",
    "import random\n",
    "\n",
    "#print a random number:\n",
    "print(random.random())\n",
    "\n",
    "#capture the state:\n",
    "state = random.getstate()\n",
    "\n",
    "#print another random number:\n",
    "print(random.random())\n",
    "\n",
    "#restore the state:\n",
    "random.setstate(state)\n",
    "\n",
    "#and the next random number should be the same as when you captured the state:\n",
    "print(random.random())"
   ]
  },
  {
   "attachments": {},
   "cell_type": "markdown",
   "metadata": {},
   "source": [
    "**getrandbits():** returns a number representing the random bits"
   ]
  },
  {
   "cell_type": "code",
   "execution_count": 15,
   "metadata": {},
   "outputs": [
    {
     "name": "stdout",
     "output_type": "stream",
     "text": [
      "52\n"
     ]
    }
   ],
   "source": [
    "# getrandbits()\n",
    "import random\n",
    "\n",
    "print(random.getrandbits(8))"
   ]
  },
  {
   "attachments": {},
   "cell_type": "markdown",
   "metadata": {},
   "source": [
    "**randrange():** returns a random number between the given range"
   ]
  },
  {
   "cell_type": "code",
   "execution_count": 16,
   "metadata": {},
   "outputs": [
    {
     "name": "stdout",
     "output_type": "stream",
     "text": [
      "6\n"
     ]
    }
   ],
   "source": [
    "# randrange()\n",
    "import random\n",
    "\n",
    "print(random.randrange(3, 9))"
   ]
  },
  {
   "attachments": {},
   "cell_type": "markdown",
   "metadata": {},
   "source": [
    "**randint():** returns a random number between the given range"
   ]
  },
  {
   "cell_type": "code",
   "execution_count": 17,
   "metadata": {},
   "outputs": [
    {
     "name": "stdout",
     "output_type": "stream",
     "text": [
      "9\n"
     ]
    }
   ],
   "source": [
    "# randint()\n",
    "import random\n",
    "\n",
    "print(random.randint(3, 9))"
   ]
  },
  {
   "attachments": {},
   "cell_type": "markdown",
   "metadata": {},
   "source": [
    "**choice():** returns a random element from the given sequence"
   ]
  },
  {
   "cell_type": "code",
   "execution_count": 19,
   "metadata": {},
   "outputs": [
    {
     "name": "stdout",
     "output_type": "stream",
     "text": [
      "banana\n"
     ]
    }
   ],
   "source": [
    "# choice()\n",
    "import random\n",
    "\n",
    "mylist = [\"apple\", \"banana\", \"cherry\"]\n",
    "\n",
    "print(random.choice(mylist))"
   ]
  },
  {
   "attachments": {},
   "cell_type": "markdown",
   "metadata": {},
   "source": [
    "**choices():** returns a list with a random selection from the given sequence"
   ]
  },
  {
   "cell_type": "code",
   "execution_count": 18,
   "metadata": {},
   "outputs": [
    {
     "name": "stdout",
     "output_type": "stream",
     "text": [
      "['apple', 'apple', 'apple', 'apple', 'apple', 'apple', 'cherry', 'apple', 'apple', 'apple', 'apple', 'apple', 'apple', 'apple']\n"
     ]
    }
   ],
   "source": [
    "# choices()\n",
    "import random\n",
    "\n",
    "mylist = [\"apple\", \"banana\", \"cherry\"]\n",
    "\n",
    "print(random.choices(mylist, weights = [10, 1, 1], k = 14))"
   ]
  },
  {
   "attachments": {},
   "cell_type": "markdown",
   "metadata": {},
   "source": [
    "**shuffle():** takes a sequence and returns the sequence in a random order"
   ]
  },
  {
   "cell_type": "code",
   "execution_count": 20,
   "metadata": {},
   "outputs": [
    {
     "name": "stdout",
     "output_type": "stream",
     "text": [
      "['cherry', 'apple', 'banana']\n"
     ]
    }
   ],
   "source": [
    "# shuffle()\n",
    "import random\n",
    "\n",
    "mylist = [\"apple\", \"banana\", \"cherry\"]\n",
    "random.shuffle(mylist)\n",
    "\n",
    "print(mylist)"
   ]
  },
  {
   "attachments": {},
   "cell_type": "markdown",
   "metadata": {},
   "source": [
    "**sample():** returns a given sample of a sequence"
   ]
  },
  {
   "cell_type": "code",
   "execution_count": 21,
   "metadata": {},
   "outputs": [
    {
     "name": "stdout",
     "output_type": "stream",
     "text": [
      "[3, 5, 1]\n"
     ]
    }
   ],
   "source": [
    "# sample()\n",
    "# import random \n",
    "from random import sample\n",
    "  \n",
    "# Prints list of random items of given length\n",
    "list = [1, 2, 3, 4, 5] \n",
    "  \n",
    "print(sample(list,3))"
   ]
  },
  {
   "attachments": {},
   "cell_type": "markdown",
   "metadata": {},
   "source": [
    "**random():** returns a random float number between 0 and 1"
   ]
  },
  {
   "cell_type": "code",
   "execution_count": 23,
   "metadata": {},
   "outputs": [],
   "source": [
    "# random()"
   ]
  },
  {
   "attachments": {},
   "cell_type": "markdown",
   "metadata": {},
   "source": [
    "**uniform():** returns a random float number between two given parameters"
   ]
  },
  {
   "cell_type": "code",
   "execution_count": 24,
   "metadata": {},
   "outputs": [
    {
     "name": "stdout",
     "output_type": "stream",
     "text": [
      "The random number generated between 4 and 9 is : 8.300245716512697\n"
     ]
    }
   ],
   "source": [
    "# uniform()\n",
    "import random\n",
    "  \n",
    "# initializing bounds \n",
    "a = 4\n",
    "b = 9\n",
    "  \n",
    "# printing the random number\n",
    "print(\"The random number generated between 4 and 9 is : \", end =\"\")\n",
    "print(random.uniform(a, b))"
   ]
  },
  {
   "attachments": {},
   "cell_type": "markdown",
   "metadata": {},
   "source": [
    "**betavariate():** return a random float number between 0 and 1 based on the Beta distribution (used in statistics)"
   ]
  },
  {
   "cell_type": "code",
   "execution_count": 25,
   "metadata": {},
   "outputs": [
    {
     "name": "stdout",
     "output_type": "stream",
     "text": [
      "0.2765672503897696\n"
     ]
    }
   ],
   "source": [
    "# betavariate()\n",
    "import random\n",
    "  \n",
    "# determining the values of the parameters\n",
    "a = 5\n",
    "b = 10\n",
    "  \n",
    "# using the betavariate() method\n",
    "print(random.betavariate(a, b))"
   ]
  },
  {
   "attachments": {},
   "cell_type": "markdown",
   "metadata": {},
   "source": [
    "**expovariate():** returns a random float number based on the Exponential distribution (used in statistics)"
   ]
  },
  {
   "cell_type": "code",
   "execution_count": 27,
   "metadata": {},
   "outputs": [
    {
     "name": "stdout",
     "output_type": "stream",
     "text": [
      "0.1791564144726827\n"
     ]
    }
   ],
   "source": [
    "# expovariate()\n",
    "import random\n",
    "  \n",
    "# determining the values of the parameter\n",
    "num = 1.5\n",
    "  \n",
    "# using the expovariate() method\n",
    "print(random.expovariate(num))"
   ]
  },
  {
   "attachments": {},
   "cell_type": "markdown",
   "metadata": {},
   "source": [
    "**gammavariate():** Returns a random float number based on the Gamma distribution (used in statistics)"
   ]
  },
  {
   "cell_type": "code",
   "execution_count": 28,
   "metadata": {},
   "outputs": [
    {
     "name": "stdout",
     "output_type": "stream",
     "text": [
      "180.87172405471134\n"
     ]
    }
   ],
   "source": [
    "# gammavariate()\n",
    "import random\n",
    "  \n",
    "# determining the values of the parameter\n",
    "a = 100\n",
    "b = 2\n",
    "  \n",
    "# using the gammavariate() method\n",
    "print(random.gammavariate(a, b))"
   ]
  },
  {
   "attachments": {},
   "cell_type": "markdown",
   "metadata": {},
   "source": [
    "**gauss():** Returns a random float number based on the Gaussian distribution (used in probability theories)"
   ]
  },
  {
   "cell_type": "code",
   "execution_count": 30,
   "metadata": {},
   "outputs": [
    {
     "name": "stdout",
     "output_type": "stream",
     "text": [
      "104.56915910283324\n"
     ]
    }
   ],
   "source": [
    "# gauss()\n",
    "import random\n",
    "  \n",
    "# determining the values of the parameters\n",
    "a = 100\n",
    "b = 50\n",
    "  \n",
    "# using the gauss() method\n",
    "print(random.gauss(a, b))"
   ]
  },
  {
   "attachments": {},
   "cell_type": "markdown",
   "metadata": {},
   "source": [
    "**lognormvariate():** Returns a random float number based on a log-normal distribution (used in probability theories)"
   ]
  },
  {
   "cell_type": "code",
   "execution_count": 29,
   "metadata": {},
   "outputs": [
    {
     "name": "stdout",
     "output_type": "stream",
     "text": [
      "1.070776531292022\n"
     ]
    }
   ],
   "source": [
    "# lognormvariate\n",
    "import random\n",
    "  \n",
    "# determining the values of the parameters\n",
    "a = 0\n",
    "b = 0.25\n",
    "  \n",
    "# using the lognormvariate() method\n",
    "print(random.lognormvariate(a, b))"
   ]
  },
  {
   "attachments": {},
   "cell_type": "markdown",
   "metadata": {},
   "source": [
    "**normalvariate():** Returns a random float number based on the normal distribution (used in probability theories)"
   ]
  },
  {
   "cell_type": "code",
   "execution_count": 31,
   "metadata": {},
   "outputs": [
    {
     "name": "stdout",
     "output_type": "stream",
     "text": [
      "92.0091083297734\n"
     ]
    }
   ],
   "source": [
    "# normalvariate()\n",
    "import random\n",
    "  \n",
    "# determining the values of the parameters\n",
    "a = 100\n",
    "b = 50\n",
    "  \n",
    "# using the normalvariate() method\n",
    "print(random.normalvariate(a, b))"
   ]
  },
  {
   "attachments": {},
   "cell_type": "markdown",
   "metadata": {},
   "source": [
    "**vonmisesvariate():** Returns a random float number based on the von Mises distribution (used in directional statistics)"
   ]
  },
  {
   "cell_type": "code",
   "execution_count": 32,
   "metadata": {},
   "outputs": [
    {
     "name": "stdout",
     "output_type": "stream",
     "text": [
      "0.7807261280524349\n"
     ]
    }
   ],
   "source": [
    "# vonmisesvariate()\n",
    "import random\n",
    "  \n",
    "# determining the values of the parameters\n",
    "a = 0\n",
    "b = 4\n",
    "  \n",
    "# using the vonmisesvariate() method\n",
    "print(random.vonmisesvariate(a, b))"
   ]
  },
  {
   "attachments": {},
   "cell_type": "markdown",
   "metadata": {},
   "source": [
    "**paretovariate():** Returns a random float number based on the Pareto distribution (used in probability theories)"
   ]
  },
  {
   "cell_type": "code",
   "execution_count": 33,
   "metadata": {},
   "outputs": [
    {
     "name": "stdout",
     "output_type": "stream",
     "text": [
      "1.8504392744961453\n"
     ]
    }
   ],
   "source": [
    "# paretovariate()\n",
    "import random\n",
    "  \n",
    "# determining the values of the parameter\n",
    "a = 3\n",
    "  \n",
    "# using the paretovariate() method\n",
    "print(random.paretovariate(a))"
   ]
  },
  {
   "attachments": {},
   "cell_type": "markdown",
   "metadata": {},
   "source": [
    "**weibullvariate():** Returns a random float number based on the Weibull distribution (used in statistics)"
   ]
  },
  {
   "cell_type": "code",
   "execution_count": 2,
   "metadata": {},
   "outputs": [
    {
     "name": "stdout",
     "output_type": "stream",
     "text": [
      "0.7948789443740898\n"
     ]
    }
   ],
   "source": [
    "# weibullvariate()\n",
    "import random\n",
    "  \n",
    "# determining the values of the parameters\n",
    "a = 1\n",
    "b = 1.5\n",
    "  \n",
    "# using the weibullvariate() method\n",
    "print(random.weibullvariate(a, b))"
   ]
  }
 ],
 "metadata": {
  "kernelspec": {
   "display_name": "Python 3",
   "language": "python",
   "name": "python3"
  },
  "language_info": {
   "codemirror_mode": {
    "name": "ipython",
    "version": 3
   },
   "file_extension": ".py",
   "mimetype": "text/x-python",
   "name": "python",
   "nbconvert_exporter": "python",
   "pygments_lexer": "ipython3",
   "version": "3.8.9"
  },
  "orig_nbformat": 4,
  "vscode": {
   "interpreter": {
    "hash": "31f2aee4e71d21fbe5cf8b01ff0e069b9275f58929596ceb00d14d90e3e16cd6"
   }
  }
 },
 "nbformat": 4,
 "nbformat_minor": 2
}
