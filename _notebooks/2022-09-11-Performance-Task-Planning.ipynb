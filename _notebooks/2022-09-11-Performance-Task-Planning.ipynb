{
 "cells": [
  {
   "cell_type": "markdown",
   "metadata": {},
   "source": [
    "# Performance Task Planning/Draft\n",
    "> Planning for end of the trimester assignment\n",
    "\n",
    "- title: Performance Task Planning/Draft\n",
    "- toc: true\n",
    "- comments: true\n",
    "- categories: [planning]"
   ]
  },
  {
   "cell_type": "markdown",
   "metadata": {},
   "source": [
    "### Purpose\n",
    "\n",
    "- Creating awarness of other running athleates and gaining more traction to running as a sport\n",
    "- Bringing other athleates from other sports into cross country and track becuase it can help them inprove in their other sport\n",
    "- Helping those who don't have resources to help them run by repourposing old running shoes and making them look new \n",
    "- Donating old or new running shoes to those in need of shoes or in need of shoes for their sport\n",
    "- Saftey, bringing different exercises and stretches on the website to help those experiencening shinsplints ect. to help them find out what stretch, exercise, or help they might need for their issue "
   ]
  },
  {
   "cell_type": "markdown",
   "metadata": {},
   "source": [
    "### Initial Thougts\n",
    "\n",
    "Using all of the team memebers different coding skills this website can be able to work as a athletic website in a whole. My web design can help make the website look less boring and have videos or images and colors to direct athletes to different pages of the website. Taiyo, who is also in cross country and track can add in his input and help bring real facts onto this website. He can also give us experience as to his sport nd how he deals with problems when running. "
   ]
  },
  {
   "cell_type": "markdown",
   "metadata": {},
   "source": [
    "### My Code\n",
    "\n",
    "I learned a lot of things this first half of the trimester and can use those ideas to help pull this website together! I mainly explored in the section of web design hence my page having lots of pictures and different colors. To make this website more complete however I need to learn how to add in more tabs and maybe add in a drop down page. I also should learn how to make more interactable items or programs onto the page to make it more user friendly and attact more people to the website. "
   ]
  }
 ],
 "metadata": {
  "kernelspec": {
   "display_name": "Python 3.8.2 64-bit",
   "language": "python",
   "name": "python3"
  },
  "language_info": {
   "name": "python",
   "version": "3.8.2"
  },
  "orig_nbformat": 4,
  "vscode": {
   "interpreter": {
    "hash": "31f2aee4e71d21fbe5cf8b01ff0e069b9275f58929596ceb00d14d90e3e16cd6"
   }
  }
 },
 "nbformat": 4,
 "nbformat_minor": 2
}
