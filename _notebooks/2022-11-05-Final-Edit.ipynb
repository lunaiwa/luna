{
 "cells": [
  {
   "cell_type": "markdown",
   "metadata": {},
   "source": [
    "# Final Trimester 1 Edit\n",
    "> Final notes and edit for the Trimester 1 test\n",
    "\n",
    "- title: Final Trimester 1 Editing\n",
    "- toc: true\n",
    "- comments: true\n",
    "- categories: [final]"
   ]
  },
  {
   "cell_type": "markdown",
   "metadata": {},
   "source": [
    "# Questions"
   ]
  },
  {
   "cell_type": "markdown",
   "metadata": {},
   "source": [
    "### Q1 Behavior of code that multiplies inside a loop"
   ]
  },
  {
   "cell_type": "markdown",
   "metadata": {},
   "source": [
    "[Image](https://assets.learnosity.com/organisations/537/VR165469.g02.png)"
   ]
  },
  {
   "cell_type": "markdown",
   "metadata": {},
   "source": [
    "The code segment displays the value of  2(5^3)  by initializing result to 2 and then multiplying result by 5 a total of three times.\n",
    "\n",
    "**Related --**\n",
    "\n",
    "[Topic 1.2](https://apclassroom.collegeboard.org/103/assessments/results/48247192/performance/1519861?apd=s8phjt778o)\n",
    "\n",
    "Program's function and purpose and a programs input and output"
   ]
  },
  {
   "cell_type": "markdown",
   "metadata": {},
   "source": [
    "Video Notes"
   ]
  },
  {
   "cell_type": "markdown",
   "metadata": {},
   "source": [
    "- applications, physical devices, and systems are three examples\n",
    "- applications are also called APPs and they are a bunch of games, scoail, buisness, or productivty lots of them are usally downloaded to our devices\n",
    "- they are software applications that are in our lives\n",
    "- physical devices are those that you can touch; phones, computers, laptops, ect.\n",
    "- *e-commerce* is electronic commerce, things we buy online"
   ]
  },
  {
   "cell_type": "markdown",
   "metadata": {},
   "source": [
    "### Q16 How information is transmitted on the Internet"
   ]
  },
  {
   "cell_type": "markdown",
   "metadata": {},
   "source": [
    "Which of the following best explains how messages are typically transmitted over the Internet?"
   ]
  },
  {
   "cell_type": "markdown",
   "metadata": {},
   "source": [
    "The message is broken into packets. The packets can be received in any order and still be reassembled by the recipient’s device.\n",
    "\n",
    "**Related --**\n",
    "[Topic 4.1](https://apclassroom.collegeboard.org/103/assessments/results/48247192/performance/1519993?apd=yeph25c6wl)\n",
    "\n",
    "The internet and bandwidth"
   ]
  },
  {
   "cell_type": "markdown",
   "metadata": {},
   "source": [
    "Video Notes"
   ]
  },
  {
   "cell_type": "markdown",
   "metadata": {},
   "source": [
    "- a computing device is a physical artifact that can run a program for examples refer to 1.1\n",
    "- *computing system* is a group of computing devices and programs working together for a common purpose\n",
    "- computer network is a group of interconnected computing devices capable of sending or reciving data\n",
    "- ^ a type of computing system\n",
    "- path between two computing devices on a computer network is a sequence of directly connected computing devidce that begins at the sender and ends at reciver\n",
    "- routing is the process of finding a path from sender to reciver\n",
    "- bandwidth of a computer network is the max amount of data that can be sent in a fixed aount of time\n",
    "- bandwidth is measured in bits per second\n"
   ]
  },
  {
   "cell_type": "markdown",
   "metadata": {},
   "source": [
    "### Q34 Music instrument lists after assignments"
   ]
  },
  {
   "cell_type": "markdown",
   "metadata": {},
   "source": [
    "firstList ← [\"guitar\", \"drums\", \"bass\"]\n",
    "\n",
    "secondList ← [\"flute\", \"violin\"]\n",
    "\n",
    "thirdList ← []\n",
    "\n",
    "thirdList ← firstList\n",
    "\n",
    "firstList ← secondList\n",
    "\n",
    "secondList ← thirdList"
   ]
  },
  {
   "cell_type": "markdown",
   "metadata": {},
   "source": [
    "[\"guitar\", \"drums\", \"bass\"]\n",
    "\n",
    "\n",
    "**Related --**\n",
    "\n",
    "[Topic 3.2](https://apclassroom.collegeboard.org/103/assessments/results/48247192/performance/1519883?apd=r95gljggp1)\n",
    "\n",
    "Strings, and examples of data extraction"
   ]
  },
  {
   "cell_type": "markdown",
   "metadata": {},
   "source": [
    "- [] ← [\"guitar\", \"drums\", \"bass\"]\n",
    "- [\"guitar\", \"drums\", \"bass\"] ← [\"flute\", \"violin\"]\n",
    "- [\"flute\", \"violin\"] ← []"
   ]
  },
  {
   "cell_type": "markdown",
   "metadata": {},
   "source": [
    "### Q40 Value displayed by IF ELSE block"
   ]
  },
  {
   "cell_type": "markdown",
   "metadata": {},
   "source": [
    "[Image](https://assets.learnosity.com/organisations/537/VR167821.g01.png)"
   ]
  },
  {
   "cell_type": "markdown",
   "metadata": {},
   "source": [
    "\n",
    "- -2\n",
    "\n",
    "Something will be displayed no matter what the values of x and y are.\n",
    "\n",
    "**Related --**\n",
    "\n",
    "[Topic 3.6](https://apclassroom.collegeboard.org/103/assessments/results/48247192/performance/1519907?apd=t5x16fbkls)\n",
    "\n",
    "Executing outcome based on conditions\n",
    "\n"
   ]
  },
  {
   "cell_type": "markdown",
   "metadata": {},
   "source": [
    "### Q48 Which variables are equal to 50 after assignments"
   ]
  },
  {
   "cell_type": "markdown",
   "metadata": {},
   "source": [
    "x ← 25\n",
    "\n",
    "y ← 50\n",
    "\n",
    "z ← 75\n",
    "\n",
    "x ← y\n",
    "\n",
    "y ← z\n",
    "\n",
    "z ← x"
   ]
  },
  {
   "cell_type": "markdown",
   "metadata": {},
   "source": [
    "x and z only\n",
    "\n",
    "The fourth statement assigns the value 50 to x. The sixth statement assigns the value 50 to z.\n",
    "\n",
    "**Related --**\n",
    "\n",
    "[Topic 3.1](https://apclassroom.collegeboard.org/103/assessments/results/48247192/performance/1519878?apd=a3r9ola61x)\n",
    "\n",
    "Variable abstractions and storing data as numbers\n",
    "\n",
    "\n",
    "\n"
   ]
  },
  {
   "cell_type": "markdown",
   "metadata": {},
   "source": [
    "\n",
    "- 25 ← 50\n",
    "- 50 ← 75\n",
    "- 75 ← 25"
   ]
  },
  {
   "cell_type": "markdown",
   "metadata": {},
   "source": [
    "## N@TM Review"
   ]
  },
  {
   "cell_type": "markdown",
   "metadata": {},
   "source": [
    "!()[https://lh3.googleusercontent.com/tmKXv7Sbn6e2R_0rIOwrYiIOcOY5eunfxZsMY6BWueIv1v4zwAskJsXFuT8WYXABct6mZVY6P8Ay0eBIhtksJgfkJ4ehB0Ruwx-RCQ-IL41gYMc0v8o0_jGio9AJUHLEBkB2zRtG3xRAZkqaMo-KMajozq2eFZIzMd5a0IbdQrLvLNGD23d-0DM3XVxoWr8Mw7hHEIr-EwDKj3oEN79l5CxpeZuPsA9dTcAIezKM1zIfhZISg_u0k9Fjklk-5P3mZeoGNyS-hk3IcyhV1DGFhNWJO-QNTo5l7p9AlREXcFuOvrk7RTZSzkkoeUu2mMYwLHHl-fIzbCBQetuh9ghh-6ksZIST0RZ2UQ6gnotaDTU-hLZCh0ArQU1ouboY9bwFrvhdmixIHpdA-6B1wpNljQtDT18ZDNT5VWjv9ZJPsosOVwKK_fA9xpvn_p0qEKD2c8XIosmQlpZ_9iNdFaoG7-sRNBgPnWftb3yPY1-MmBUsBhHpkf13xebOra9lbKoeNRdsdU5HoJzLgqXPZB-8lx_rgXQgImbTgIVMYQFs304V0bUFJKv_tczxiN4T0EHEJo4H0s7cH_tVRKuTEmlyb_aWJxOyXITF_6Q1ZNOGZSXYUyqt3jJ34dWOX237iCisMscs7Y0B45IUrvBMsOSd543NDKk2XDDmEhH9h22T9yPEdyhwnpRLUyQX7n-bnafiGgul08oZaGewieImJ46qwjArk-sAhkf0ez4Ehke-z6U0xZcj11obpnWvQrqNGgtDvBZgPTf20gMatYb0HnitEuYaNCEc9UygAlcSYdrN-VWAQsAxToDds5pR3hM71uouWWjsoiWXJTR1sUZFZUJvBTU4o-IsW9lnK6Gwb0TTnR5kSjA1SFFGsi9EvYDknRI4rPcgVMfcVr3OLZppFmgEDZ5zW3OyGrBjIrkJ6LdmHIHyNcYgQ2AiXUM68WR_Yb5ArSYlFfudrNWYEWKNyHw0=w1194-h1592-no?authuser=0]"
   ]
  },
  {
   "cell_type": "markdown",
   "metadata": {},
   "source": [
    "NIght at the measuem was an amazing experiecne and I was able to let others see the project that the group made. I was also able to see other peoples projects! Some projects that I really enjoyed was; Ava's ASB merch website. Their website was able to keep track of stock and see how many in the stock are left. I also really enjoyed Edrick's calender page which shows what is up next in your schedule. Another amazing project was Tay's study quiz website where you are able to quiz yourself on the quizes you take and you are able to recive your score."
   ]
  }
 ],
 "metadata": {
  "kernelspec": {
   "display_name": "Python 3.8.9 64-bit",
   "language": "python",
   "name": "python3"
  },
  "language_info": {
   "name": "python",
   "version": "3.8.9"
  },
  "orig_nbformat": 4,
  "vscode": {
   "interpreter": {
    "hash": "31f2aee4e71d21fbe5cf8b01ff0e069b9275f58929596ceb00d14d90e3e16cd6"
   }
  }
 },
 "nbformat": 4,
 "nbformat_minor": 2
}
