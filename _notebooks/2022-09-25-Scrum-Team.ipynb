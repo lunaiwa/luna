{
 "cells": [
  {
   "cell_type": "markdown",
   "metadata": {},
   "source": [
    "# SCRUM Team Project\n",
    "> Purpose and team roles in scrum\n",
    "\n",
    "- title: SCRUM Team Project\n",
    "- toc: true\n",
    "- comments: true\n",
    "- categories: [scrum]"
   ]
  },
  {
   "cell_type": "markdown",
   "metadata": {},
   "source": [
    "# SCRUM Team Roles"
   ]
  },
  {
   "cell_type": "markdown",
   "metadata": {},
   "source": [
    "Each team member is given a role and assigns themselfs tasks to do before the next Daily Scrum meet."
   ]
  },
  {
   "cell_type": "markdown",
   "metadata": {},
   "source": [
    "### Roles"
   ]
  },
  {
   "cell_type": "markdown",
   "metadata": {},
   "source": [
    "These roles were given to each teammeber based on their performance for certain tasks and/or leadership in the team. Ethan Tran is the Scrum Leader who helps the team remain organized while also managing the lengths of team sprints. Parav Salaniwal and Rohin Sood are responsible for the backend development, both of them are responsible for maintaining, testing, and debugging the backend. Luna and Taiyo Iwazaki are responsible for the front end development, they are responsible for the design and structure of the website which the user sees. Below is a visual of the scrum process."
   ]
  },
  {
   "cell_type": "markdown",
   "metadata": {},
   "source": [
    "![](https://lh3.googleusercontent.com/2U2oiegQJPsXNdY8XYEM8vByM6dtKzrUQxeIYQ27xe-5RHFXKgKnvtzhXWvEYAAdAzdSk-ko8AODhjT34cuxo-W-1CeLrL3mk9uw1N6oJH5Q6Egs9Hl4cdZHeT2G5E5QP67YYkzpMNmorMLlrgHBmEPixeO2E-Iy6HeUP8tRRSl8fewGf28B8seXFzz2wPuy4cAFUD4zfLZ_fTWB61JSFp9CB6n338U68A_-Fkmioe8yeXZSyIyIzeImGZi8i-tdQ3P_sAh9SO0zudAklCBCRsgblzoWmGmfrcCBu2ptc0hEwL4JM7WU0HY8yQ8jpFnHvmRh7jFiKfdBr4eHDJ_5qaOEcsUaHIe3dP2Gav0v3Pz34CyUru2B9i6qj0mxkDGs7-0hlDQZLPiVx66UmYIDp10xgVfoYq9Lkaho-ucz168oAHr3aQ2GDAyr6OrMgwSXWdkj3G-qiMVmGJ-chAzAOESgtEESuLRYK1ANoaND0FwZuXhyfSIClHpaVFThTldq2ytxCSLZWnfoQBOkvrUCC2A0rUS1z0Q3FMzxG85fhSjrWd8Qbqope1ccPSZcymQcefCT1oFoY1hOXvtxqFgkaQMfvoq9Cqms4NlGKn91d6YoehbR1keAcT4212E-Jq1UJlC4wkNHrh-x8e1N7TrROujXFbHKPEWCvG-LdOb6XuilG3Kv5Q4jZj2GQRdVkJ-daQLs__D_OlC490MxOUIcm3syozkaopbGoAH7Yp7B7ZNHqvy0WRdfIiLhbf1wyBO7nM-sX-6CAbmNlAnGs35vEcfxfcOOE1C6XFKwNbcMFo8gQ7NdyA47qjGKff2bZBzO_TvQGKM7xkpfOiFHZjaeniV_g2zlyAcvzRtqR8bb=w1024-h768-no?authuser=0 \"Credit: Taiyo Iwazaki\")"
   ]
  },
  {
   "cell_type": "markdown",
   "metadata": {},
   "source": [
    "# Project CS CONNECT"
   ]
  },
  {
   "cell_type": "markdown",
   "metadata": {},
   "source": [
    "### Purpose"
   ]
  },
  {
   "cell_type": "markdown",
   "metadata": {},
   "source": [
    "We are creating a website that allows its users to connect with others! You can see other user's accounts and posts that they make. Each post contains something about them which others can connect to. Users can like another's post if they find it relatable to them. Down below is an unfinished mock up so the coloring or format will be changed in the future!"
   ]
  },
  {
   "cell_type": "markdown",
   "metadata": {},
   "source": [
    "![](https://lh3.googleusercontent.com/YrTwhtEn_j0fL8UtjasRJAIrDAJjc2I5M2UWkKY63K_grogYL5HizO7BDhv4f2P-c_sao9mbPmdZvG0GM9XQ9G5pgAN_ANObpCmuvYZbUcoEaYDPthet37tQrs2HIvBzcIZQgJ6l07zbzNDgIv8UmLQdx00aqEZrBPgabWoBSamWe6K5_ak7rC5b5X1yZ1wyH9hO4hp4-0tOfCLqtUZDMgSD6uYyHuHJmNVKt6_fg7rlOcyS5RnbIHh54uNNYo7B5O0nKRidSUuyHo17Q88RD4awj7rzhs_gEXjk_QmBP00ZqiCu1UoVf8tV0PeC3Dogk99JKFi9PQ3lPLHF2eV-6SQ7mPFeszskzkaXEt6bsuSsZ8HJxThxBx7ydhOZUXZ6hX-5o_FoXXCyAlD-AGGCT4JPY0kJ7xkTqrKU_ONMt1Rgco_iWd6GSXaHXIlm4m5TcPrC48WCmO4qPCUojhGRYoXazlilvn5GtKb0IHDcjq-_RVVH-azV5c5mcWOePgnv67I6vEpph_C12XtfIF02HrzL9XrqnAOnCQGkT3N-r1hSf7UJ1xmxtZBYPgph6WTF1ejVCxsnCxx5JyDE8H6IwhmPxZdeZkvSK1MEvMivEwwur8P9is8I89SkAVrxo2Sc8uheSna1JMr-HLllEW9uOMWfvvVbbFEstRPGPHMeCmudEadkJdhu0FCC3pzpoJ152XpUhBboiF07jwCwOI8NXO3N4Xc-clVa07ujEED5H-IAvL9LmglEWUN4YCTN0kCN8GWYU4bKxwlXG29uRqzcZ0luK1dsQQVeOLHyvhzL5tOTMm_yhs--6cKeTTT6IvCTrUg9e4nLEw_Yau7adTkzrvPsU1gU00L0B1PS597TZNAPz_QNzHBLeBsrQklG71f8Q5DOBZlI1uCLkXNurNK5UShEwI38r44BRwGOo8k2yF7pg9k1uJdJdAOdtQ8hXcuEHBfEHzMogHuhj7WQvVyNnc33tPBGCK0zxVuwSjLC3JRpBGmI-vkiEtLhBec2qqQpVmPbthDi88PC_ArSAoU=w1000-h700-no?authuser=0 \"Credit: Luna Iwazaki\")"
   ]
  }
 ],
 "metadata": {
  "kernelspec": {
   "display_name": "Python 3.9.12 ('base')",
   "language": "python",
   "name": "python3"
  },
  "language_info": {
   "name": "python",
   "version": "3.9.12"
  },
  "orig_nbformat": 4,
  "vscode": {
   "interpreter": {
    "hash": "cd78fef2128015050713e82ca51c6520b11aee7c9ee8df750520bbbc7384cbaa"
   }
  }
 },
 "nbformat": 4,
 "nbformat_minor": 2
}
