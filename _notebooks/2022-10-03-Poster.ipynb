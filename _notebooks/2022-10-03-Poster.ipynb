{
 "cells": [
  {
   "cell_type": "markdown",
   "metadata": {},
   "source": [
    "# Poster Draft and Final\n",
    "> A poster that represents the Scrum Steps to Sucess\n",
    "\n",
    "- title: Poster Draft and Final\n",
    "- toc: true\n",
    "- comments: true\n",
    "- categories: [planning]"
   ]
  },
  {
   "cell_type": "markdown",
   "metadata": {},
   "source": [
    "### Poster Ideas and Draft"
   ]
  },
  {
   "cell_type": "markdown",
   "metadata": {},
   "source": [
    "Want to add different steps \n",
    "> 1. Give Instructions\n",
    "2. Plan Sprints\n",
    "3. Assign Jobs\n",
    "4. Assign Weekly work\n",
    "5. Sprint\n",
    "6. Daily Scrum + Meeting and Planning\n",
    "7. Finished"
   ]
  },
  {
   "cell_type": "markdown",
   "metadata": {},
   "source": [
    "![](https://lh3.googleusercontent.com/ZcWHG6nvk8qlvm7v-3_C1tKklFahdtmxJUNLXeipRf1JB-BjplLbSHO6fE8pKPyXtilcNoeHD-qECXz4oVo5IbWX2cmP0HyeY__4vwD9GppHmIJdCJo1sGPmnxuYmaADqIcdpyWRjOFMSrJPiS5z3cj1XnIwz5ovHDlsrP-Mh4_CzuhKlp8CxUBScPGbZk-HhP329WRfWVOvlFAB7BT8aaLwNEP6Nm65WHx-z_7sbL74HDAPOOHOFXUDkFDl2rODwrXVOcQiunvU9ZReHXCvaU87zgzl44sw-3ZloSEZcLRVLwo9chFgytV1HVZms3o16iTWUG9B2Ao3GVESiBAeEfAw9y5vUqE_lM_YOYEvKjJyWUZKoJK8FTySMncgLPmnqMQWASPTwkXCrAbRIKnYmPZfQLiePG3bM8ogk8q4MSXwpKMNhZYrOTBplyZniNqrywdpNPt3Xi_ijW3_GImDHjUOwN9GAX9GbSQjqSpShM2aEH1LVQbLP3cmMWLgHWxcDzySMq-QWARCLGLQOjBcm_MckFsXEPgjl9PC2NR435Nr07MAylUBzizNbdFri9p-C5CpFWkGs_OAPbKVSghRVeJL536nmm_EKY-kwT_1f11DobqFhLW5UzcxcWJjeLCnWeiSGFQ4iSCkr_j0qb-U0jomWJ6QjVBN1lvtgQL-bzICSc-4vlxxuHzq3dKA_u66tFln-RpYMmLjIZ_QvQeytvoqujvy7FpzLw4Ss09Uitvd_6OOGqOkjTVkdHh61T7pSOy30Rn-FnGxh_ZZw4y6n2p6vaTBNOrMhKhj98okbxQP5iWT393ZZ1vnGypr-KrqWoPQX1IFv8n-WC62BhqgrlYU-RXQC2yA21kMFjch=w1110-h1478-no?authuser=0)"
   ]
  },
  {
   "cell_type": "markdown",
   "metadata": {},
   "source": [
    "Got poster approved but then needs to change finished into iterate or repreat since we always use these steps for success! Need to change how the words are arranged in the numbers to make it asthetically pleasing "
   ]
  },
  {
   "cell_type": "markdown",
   "metadata": {},
   "source": [
    "![](https://lh3.googleusercontent.com/SCQ2s1g9tTv4ddh_diOUdayqQJi_hbK9j4fLNUDEWUlbKSaTnUvPa645tdw3Jdsu1_83Pxq36xv0WqGyPuGNiwnHoiI5Ak_ziMJfaieAmpZZx2JvKSwfgdezYXhWTD-d9D4BSXyDhku3gS85rP9y9SRcceBIqqNeq5Y723UatgeLa6BN6dWwjal7wEbcm1SRUCY5I-awRaODeoMw2OeftQSHtArpMN6POJ_e4u0D3JNBJcVHvqLCSdfDAqB3sxHAh3RNb7fpa_TSbj3Kf2uMJqVzsKEHElY2K1f_7q6LjFI2ZZFMcc1rvusnNmdbyUcxfyf4ST0u6HjNt36ChVQ9y66eUHEed8b6Aooyhlcjhmf8rMZ5gxM7UIVhe3GAOSN0UV2B21Cq_vwzk0f4WJxQ-_GagdwIhn6soRdsSy1XqLo_2QkJB88PwzYOiE2PiFso2lakYKIQRvS7SzLwcF9KJwsK3xqUhE9Rq9IN75W4YeCknAbxXGVL-f1dfYcGk590XwmUTpPwsJ39poK7eA9lM-xsGjVbSPGF5ey8OuZOqBO-fzMuH9Y9ZC5q8USR_I9L0OAhTTUlJoGNH1bmbr8lcgk1rT1IIJh7aGsM42dYtbN0lM4SY1epRh865uWZGoQ7da34jZdK4f5OAyvJn0yl9syR9aRF-l4wyo0AIsknXLj2RKjHVDW_Xjiyk1S7bB_sOIccwZI2s2KBqqnooJbV9a95XTnvw29w0JWP60LZG52bbe1D1RJSlo5ydJwRLELTo2Fyn-XOCJIpnzJoGDxDsbB6DtdWv7oPyg54yrJH9zwkaubkuj2fvH-_WY7zksWwADq-QRbS3k91BDZJQNFIrtasgg1PxFzG24PHZz8QiVrrZPYgK3nbUx-liTV19_hkMDlUTi2Rpxmnp63u7IADOPgGbb_kMiqEjMdm8_cgd-GW_9pPaXYBovzxlIMeum9i-C1WzLkKKQrqxT7tDL7zgvMBZLSA1yzixsGg1Q9HkhBkouZY7NWE7CST38KdC4-nqdzMtPNV2O9Y_fl0MVs=w1110-h1478-no?authuser=0)"
   ]
  },
  {
   "cell_type": "markdown",
   "metadata": {},
   "source": [
    "Finished and added in color (blue and green)! Changed the way where the words were in the numbers!"
   ]
  }
 ],
 "metadata": {
  "kernelspec": {
   "display_name": "Python 3.8.2 64-bit",
   "language": "python",
   "name": "python3"
  },
  "language_info": {
   "name": "python",
   "version": "3.8.9"
  },
  "orig_nbformat": 4,
  "vscode": {
   "interpreter": {
    "hash": "31f2aee4e71d21fbe5cf8b01ff0e069b9275f58929596ceb00d14d90e3e16cd6"
   }
  }
 },
 "nbformat": 4,
 "nbformat_minor": 2
}
