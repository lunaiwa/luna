{
 "cells": [
  {
   "cell_type": "markdown",
   "metadata": {},
   "source": [
    "# Vocab Notes\n",
    "> Vocabulary for APCSP\n",
    "\n",
    "- title: Vocab Notes\n",
    "- toc: true\n",
    "- comments: true\n",
    "- categories: [notes]"
   ]
  },
  {
   "cell_type": "markdown",
   "metadata": {},
   "source": [
    "### Vocabulary\n",
    "\n",
    "- input = instructions given to a computer\n",
    "- sequence = several lines of code \n",
    "- output = infromation computer gives\n",
    "- key -> value\n",
    "- variables = way to name, store data, and reference data\n",
    "- lists and dictionaries = variable with extended fetures for storing + retrieving data\n",
    "- lists = [] the square brackets for grouping and ordering\n",
    "- dictionaries = {} curley brackets for grouping into key-value relationships\n",
    "- data extraction = extracting data using things such as infodb which is data (not a procedure)\n"
   ]
  },
  {
   "cell_type": "markdown",
   "metadata": {},
   "source": [
    "### Linux and Ubuntu\n",
    "\n",
    "- pwd = print directory\n",
    "- mkdir = make directory\n",
    "- cd = change directory\n",
    "- ls = list directory\n",
    "- def = procedure\n",
    "- td = table data\n",
    "- print = to write out"
   ]
  },
  {
   "cell_type": "markdown",
   "metadata": {},
   "source": []
  },
  {
   "cell_type": "markdown",
   "metadata": {},
   "source": [
    "### Git Vocab\n",
    "\n",
    "- \"git clone\" makes local Git repo (decentralized) from cloud (GitHub/Git)\n",
    "- \"git commit\" makes snapshot of original parent on local database\n",
    "- \"git push\""
   ]
  },
  {
   "cell_type": "markdown",
   "metadata": {},
   "source": [
    "### Collaboration\n",
    "\n",
    "- team = people that come together to work together!"
   ]
  }
 ],
 "metadata": {
  "kernelspec": {
   "display_name": "Python 3.8.2 64-bit",
   "language": "python",
   "name": "python3"
  },
  "language_info": {
   "name": "python",
   "version": "3.8.9"
  },
  "orig_nbformat": 4,
  "vscode": {
   "interpreter": {
    "hash": "31f2aee4e71d21fbe5cf8b01ff0e069b9275f58929596ceb00d14d90e3e16cd6"
   }
  }
 },
 "nbformat": 4,
 "nbformat_minor": 2
}
